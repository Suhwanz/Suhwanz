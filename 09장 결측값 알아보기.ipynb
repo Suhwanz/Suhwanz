{
 "cells": [
  {
   "cell_type": "markdown",
   "id": "b429c576",
   "metadata": {},
   "source": [
    "## 09-1 결측값이란?"
   ]
  },
  {
   "cell_type": "markdown",
   "id": "ba81dc25",
   "metadata": {},
   "source": [
    "- numpy 결측값 정의를 따름"
   ]
  },
  {
   "cell_type": "markdown",
   "id": "d40d0541",
   "metadata": {},
   "source": [
    "- na : Not Abailable\n",
    "- NaN : Not a Number\n",
    "- Null\n",
    "- None"
   ]
  },
  {
   "cell_type": "code",
   "execution_count": 1,
   "id": "c0d99b41",
   "metadata": {},
   "outputs": [],
   "source": [
    "from numpy import NaN, NAN, nan"
   ]
  },
  {
   "cell_type": "markdown",
   "id": "157b744f",
   "metadata": {},
   "source": [
    "- 일반적인 조건 체크로는 확인 불가"
   ]
  },
  {
   "cell_type": "code",
   "execution_count": 2,
   "id": "5462ba53",
   "metadata": {},
   "outputs": [
    {
     "name": "stdout",
     "output_type": "stream",
     "text": [
      "False\n",
      "False\n",
      "False\n",
      "False\n",
      "False\n",
      "False\n",
      "False\n"
     ]
    }
   ],
   "source": [
    "print(NaN == True)\n",
    "print(NaN == 0)\n",
    "print(NaN == '')\n",
    "print(NaN == NaN)\n",
    "print(NaN == NAN)\n",
    "print(NaN == nan)\n",
    "print(nan == NAN)"
   ]
  },
  {
   "cell_type": "markdown",
   "id": "cd26305f",
   "metadata": {},
   "source": [
    "### `결측값 확인 메서드`"
   ]
  },
  {
   "cell_type": "markdown",
   "id": "f332e365",
   "metadata": {},
   "source": [
    "- .isnull()\n",
    "- .notnull()"
   ]
  },
  {
   "cell_type": "code",
   "execution_count": 3,
   "id": "46b33378",
   "metadata": {},
   "outputs": [
    {
     "name": "stdout",
     "output_type": "stream",
     "text": [
      "True\n",
      "True\n",
      "True\n"
     ]
    }
   ],
   "source": [
    "import pandas as pd\n",
    "\n",
    "print(pd.isnull(NaN))\n",
    "print(pd.isnull(nan))\n",
    "print(pd.isnull(NAN))"
   ]
  },
  {
   "cell_type": "code",
   "execution_count": 44,
   "id": "246821a1",
   "metadata": {},
   "outputs": [
    {
     "name": "stdout",
     "output_type": "stream",
     "text": [
      "False\n",
      "True\n",
      "True\n"
     ]
    }
   ],
   "source": [
    "print(pd.notnull(NaN))\n",
    "print(pd.notnull(42))\n",
    "print(pd.notnull('missing'))"
   ]
  },
  {
   "cell_type": "markdown",
   "id": "43321e65",
   "metadata": {},
   "source": [
    "## 09-2 결측값은 왜 생길까?"
   ]
  },
  {
   "cell_type": "markdown",
   "id": "75db7078",
   "metadata": {},
   "source": [
    "### `데이터를 불러올 때 생기는 결측값`"
   ]
  },
  {
   "cell_type": "markdown",
   "id": "fab7c244",
   "metadata": {},
   "source": [
    "- 결측값을 대체 처리하는 방법을 결정하는 .read_csv() 매개변수\n",
    "  - na_values : 특정 값들을 결측값으로 처리\n",
    "  - keep_default_na\n",
    "    - True : 기본값, 결측값으로 간주하는 모든 값을 결측 처리\n",
    "    - False : na_values 에 지정한 특정 값만 결측 처리\n",
    "  - na_filter\n",
    "    - True : 기본값, 결측 처리\n",
    "    - False : 결측 처리 하지 않음"
   ]
  },
  {
   "cell_type": "code",
   "execution_count": 4,
   "id": "b70f3791",
   "metadata": {},
   "outputs": [
    {
     "name": "stdout",
     "output_type": "stream",
     "text": [
      "   ident   site       dated\n",
      "0    619   DR-1  1927-02-08\n",
      "1    622   DR-1  1927-02-10\n",
      "2    734   DR-3  1939-01-07\n",
      "3    735   DR-3  1930-01-12\n",
      "4    751   DR-3  1930-02-26\n",
      "5    752   DR-3         NaN\n",
      "6    837  MSK-4  1932-01-14\n",
      "7    844   DR-1  1932-03-22\n"
     ]
    }
   ],
   "source": [
    "import pandas as pd\n",
    "\n",
    "visited_file = 'C:/python/do_it_pandas-main/do_it_pandas-main/data/survey_visited.csv'\n",
    "print(pd.read_csv(visited_file))"
   ]
  },
  {
   "cell_type": "code",
   "execution_count": 46,
   "id": "98e9efc1",
   "metadata": {},
   "outputs": [
    {
     "name": "stdout",
     "output_type": "stream",
     "text": [
      "   ident   site       dated\n",
      "0    619   DR-1  1927-02-08\n",
      "1    622   DR-1  1927-02-10\n",
      "2    734   DR-3  1939-01-07\n",
      "3    735   DR-3  1930-01-12\n",
      "4    751   DR-3  1930-02-26\n",
      "5    752   DR-3            \n",
      "6    837  MSK-4  1932-01-14\n",
      "7    844   DR-1  1932-03-22\n"
     ]
    }
   ],
   "source": [
    "print(pd.read_csv(visited_file, keep_default_na=False))"
   ]
  },
  {
   "cell_type": "code",
   "execution_count": 47,
   "id": "7563aa04",
   "metadata": {},
   "outputs": [
    {
     "name": "stdout",
     "output_type": "stream",
     "text": [
      "   ident   site       dated\n",
      "0    619   DR-1  1927-02-08\n",
      "1    622   DR-1  1927-02-10\n",
      "2    734   DR-3  1939-01-07\n",
      "3    735   DR-3  1930-01-12\n",
      "4    751   DR-3  1930-02-26\n",
      "5    752   DR-3         NaN\n",
      "6    837  MSK-4  1932-01-14\n",
      "7    844   DR-1  1932-03-22\n"
     ]
    }
   ],
   "source": [
    "print(\n",
    "    pd.read_csv(visited_file, na_values=[\"\"], keep_default_na=False)\n",
    ")"
   ]
  },
  {
   "cell_type": "code",
   "execution_count": 6,
   "id": "a1b62176",
   "metadata": {},
   "outputs": [
    {
     "data": {
      "text/plain": [
       "''"
      ]
     },
     "execution_count": 6,
     "metadata": {},
     "output_type": "execute_result"
    }
   ],
   "source": [
    "na_test =  pd.read_csv(visited_file, keep_default_na=False)\n",
    "na_test['dated'][5]"
   ]
  },
  {
   "cell_type": "markdown",
   "id": "6fefe3d3",
   "metadata": {},
   "source": [
    "### `데이터를 연결할 때 생기는 결측값`"
   ]
  },
  {
   "cell_type": "code",
   "execution_count": 8,
   "id": "85885456",
   "metadata": {},
   "outputs": [
    {
     "name": "stdout",
     "output_type": "stream",
     "text": [
      "   ident   site       dated\n",
      "0    619   DR-1  1927-02-08\n",
      "1    622   DR-1  1927-02-10\n",
      "2    734   DR-3  1939-01-07\n",
      "3    735   DR-3  1930-01-12\n",
      "4    751   DR-3  1930-02-26\n",
      "5    752   DR-3         NaN\n",
      "6    837  MSK-4  1932-01-14\n",
      "7    844   DR-1  1932-03-22\n"
     ]
    }
   ],
   "source": [
    "visited = pd.read_csv('C:/python/do_it_pandas-main/do_it_pandas-main/data/survey_visited.csv')\n",
    "survey = pd.read_csv('C:/python/do_it_pandas-main/do_it_pandas-main/data/survey_survey.csv')\n",
    "print(visited)"
   ]
  },
  {
   "cell_type": "code",
   "execution_count": 9,
   "id": "e3fdfd4c",
   "metadata": {},
   "outputs": [
    {
     "name": "stdout",
     "output_type": "stream",
     "text": [
      "    taken person quant  reading\n",
      "0     619   dyer   rad     9.82\n",
      "1     619   dyer   sal     0.13\n",
      "2     622   dyer   rad     7.80\n",
      "3     622   dyer   sal     0.09\n",
      "4     734     pb   rad     8.41\n",
      "5     734   lake   sal     0.05\n",
      "6     734     pb  temp   -21.50\n",
      "7     735     pb   rad     7.22\n",
      "8     735    NaN   sal     0.06\n",
      "9     735    NaN  temp   -26.00\n",
      "10    751     pb   rad     4.35\n",
      "11    751     pb  temp   -18.50\n",
      "12    751   lake   sal     0.10\n",
      "13    752   lake   rad     2.19\n",
      "14    752   lake   sal     0.09\n",
      "15    752   lake  temp   -16.00\n",
      "16    752    roe   sal    41.60\n",
      "17    837   lake   rad     1.46\n",
      "18    837   lake   sal     0.21\n",
      "19    837    roe   sal    22.50\n",
      "20    844    roe   rad    11.25\n"
     ]
    }
   ],
   "source": [
    "print(survey)"
   ]
  },
  {
   "cell_type": "code",
   "execution_count": 10,
   "id": "70053dda",
   "metadata": {},
   "outputs": [
    {
     "name": "stdout",
     "output_type": "stream",
     "text": [
      "    ident   site       dated  taken person quant  reading\n",
      "0     619   DR-1  1927-02-08    619   dyer   rad     9.82\n",
      "1     619   DR-1  1927-02-08    619   dyer   sal     0.13\n",
      "2     622   DR-1  1927-02-10    622   dyer   rad     7.80\n",
      "3     622   DR-1  1927-02-10    622   dyer   sal     0.09\n",
      "4     734   DR-3  1939-01-07    734     pb   rad     8.41\n",
      "5     734   DR-3  1939-01-07    734   lake   sal     0.05\n",
      "6     734   DR-3  1939-01-07    734     pb  temp   -21.50\n",
      "7     735   DR-3  1930-01-12    735     pb   rad     7.22\n",
      "8     735   DR-3  1930-01-12    735    NaN   sal     0.06\n",
      "9     735   DR-3  1930-01-12    735    NaN  temp   -26.00\n",
      "10    751   DR-3  1930-02-26    751     pb   rad     4.35\n",
      "11    751   DR-3  1930-02-26    751     pb  temp   -18.50\n",
      "12    751   DR-3  1930-02-26    751   lake   sal     0.10\n",
      "13    752   DR-3         NaN    752   lake   rad     2.19\n",
      "14    752   DR-3         NaN    752   lake   sal     0.09\n",
      "15    752   DR-3         NaN    752   lake  temp   -16.00\n",
      "16    752   DR-3         NaN    752    roe   sal    41.60\n",
      "17    837  MSK-4  1932-01-14    837   lake   rad     1.46\n",
      "18    837  MSK-4  1932-01-14    837   lake   sal     0.21\n",
      "19    837  MSK-4  1932-01-14    837    roe   sal    22.50\n",
      "20    844   DR-1  1932-03-22    844    roe   rad    11.25\n"
     ]
    }
   ],
   "source": [
    "vs = visited.merge(survey, left_on='ident', right_on='taken')\n",
    "print(vs)"
   ]
  },
  {
   "cell_type": "markdown",
   "id": "00745361",
   "metadata": {},
   "source": [
    "### `직접 입력한 결측값`"
   ]
  },
  {
   "cell_type": "markdown",
   "id": "a4ccab2a",
   "metadata": {},
   "source": [
    "- numpy 결측값 자료형 -> float"
   ]
  },
  {
   "cell_type": "markdown",
   "id": "0a6adc3d",
   "metadata": {},
   "source": [
    "- 결측값 입력하여 Series 만들기"
   ]
  },
  {
   "cell_type": "code",
   "execution_count": 51,
   "id": "c877f1cb",
   "metadata": {},
   "outputs": [
    {
     "name": "stdout",
     "output_type": "stream",
     "text": [
      "goat      4.0\n",
      "amoeba    NaN\n",
      "dtype: float64\n"
     ]
    }
   ],
   "source": [
    "num_legs = pd.Series({'goat': 4, 'amoeba': nan})\n",
    "print(num_legs)"
   ]
  },
  {
   "cell_type": "markdown",
   "id": "7a1461d8",
   "metadata": {},
   "source": [
    "- 결측값 입력하여 DataFrame 만들기"
   ]
  },
  {
   "cell_type": "code",
   "execution_count": 52,
   "id": "ced6c3c0",
   "metadata": {},
   "outputs": [
    {
     "name": "stdout",
     "output_type": "stream",
     "text": [
      "                Name    Occupation        Born        Died  missing\n",
      "0  Rosaline Franklin       Chemist  1920-07-25  1958-04-16      NaN\n",
      "1     William Gosset  Statistician  1876-06-13  1937-10-16      NaN\n"
     ]
    }
   ],
   "source": [
    "scientists = pd.DataFrame(\n",
    "    {\n",
    "        \"Name\": [\"Rosaline Franklin\", \"William Gosset\"],\n",
    "        \"Occupation\": [\"Chemist\", \"Statistician\"],\n",
    "        \"Born\": [\"1920-07-25\", \"1876-06-13\"],\n",
    "        \"Died\": [\"1958-04-16\", \"1937-10-16\"],\n",
    "        \"missing\": [NaN, nan],\n",
    "    }\n",
    ")\n",
    "\n",
    "print(scientists)"
   ]
  },
  {
   "cell_type": "code",
   "execution_count": 53,
   "id": "8f79e95a",
   "metadata": {},
   "outputs": [
    {
     "name": "stdout",
     "output_type": "stream",
     "text": [
      "Name           object\n",
      "Occupation     object\n",
      "Born           object\n",
      "Died           object\n",
      "missing       float64\n",
      "dtype: object\n"
     ]
    }
   ],
   "source": [
    "print(scientists.dtypes)"
   ]
  },
  {
   "cell_type": "code",
   "execution_count": 54,
   "id": "b5c4624c",
   "metadata": {},
   "outputs": [
    {
     "name": "stdout",
     "output_type": "stream",
     "text": [
      "                Name    Occupation        Born        Died  missing\n",
      "0  Rosaline Franklin       Chemist  1920-07-25  1958-04-16      NaN\n",
      "1     William Gosset  Statistician  1876-06-13  1937-10-16      NaN\n"
     ]
    }
   ],
   "source": [
    "scientists = pd.DataFrame(\n",
    "    {\n",
    "        \"Name\": [\"Rosaline Franklin\", \"William Gosset\"],\n",
    "        \"Occupation\": [\"Chemist\", \"Statistician\"],\n",
    "        \"Born\": [\"1920-07-25\", \"1876-06-13\"],\n",
    "        \"Died\": [\"1958-04-16\", \"1937-10-16\"],\n",
    "    }\n",
    ")\n",
    "\n",
    "scientists[\"missing\"] = nan\n",
    "print(scientists)"
   ]
  },
  {
   "cell_type": "markdown",
   "id": "30065be1",
   "metadata": {},
   "source": [
    "### `인덱스를 다시 설정할 때 생기는 결측값`"
   ]
  },
  {
   "cell_type": "code",
   "execution_count": 55,
   "id": "39d139f1",
   "metadata": {},
   "outputs": [
    {
     "name": "stdout",
     "output_type": "stream",
     "text": [
      "year\n",
      "1952    49.057620\n",
      "1957    51.507401\n",
      "1962    53.609249\n",
      "1967    55.678290\n",
      "1972    57.647386\n",
      "1977    59.570157\n",
      "1982    61.533197\n",
      "1987    63.212613\n",
      "1992    64.160338\n",
      "1997    65.014676\n",
      "2002    65.694923\n",
      "2007    67.007423\n",
      "Name: lifeExp, dtype: float64\n"
     ]
    }
   ],
   "source": [
    "gapminder = pd.read_csv('../data/gapminder.tsv', sep='\\t')\n",
    "\n",
    "life_exp = gapminder.groupby(['year'])['lifeExp'].mean()\n",
    "print(life_exp)"
   ]
  },
  {
   "cell_type": "code",
   "execution_count": 56,
   "id": "adaf713b",
   "metadata": {},
   "outputs": [
    {
     "name": "stdout",
     "output_type": "stream",
     "text": [
      "year\n",
      "2002    65.694923\n",
      "2007    67.007423\n",
      "Name: lifeExp, dtype: float64\n"
     ]
    }
   ],
   "source": [
    "y2000 = life_exp[life_exp.index > 2000]\n",
    "print(y2000)"
   ]
  },
  {
   "cell_type": "code",
   "execution_count": 5,
   "id": "78b92fbe",
   "metadata": {},
   "outputs": [
    {
     "name": "stdout",
     "output_type": "stream",
     "text": [
      "2000\n",
      "2001\n",
      "2002\n",
      "2003\n",
      "2004\n",
      "2005\n",
      "2006\n",
      "2007\n",
      "2008\n",
      "2009\n"
     ]
    }
   ],
   "source": [
    "for num in range(2000, 2010):\n",
    "    print(num)"
   ]
  },
  {
   "cell_type": "code",
   "execution_count": 57,
   "id": "c1dacc84",
   "metadata": {},
   "outputs": [
    {
     "name": "stdout",
     "output_type": "stream",
     "text": [
      "year\n",
      "2000          NaN\n",
      "2001          NaN\n",
      "2002    65.694923\n",
      "2003          NaN\n",
      "2004          NaN\n",
      "2005          NaN\n",
      "2006          NaN\n",
      "2007    67.007423\n",
      "2008          NaN\n",
      "2009          NaN\n",
      "Name: lifeExp, dtype: float64\n"
     ]
    }
   ],
   "source": [
    "print(y2000.reindex(range(2000, 2010)))"
   ]
  },
  {
   "cell_type": "markdown",
   "id": "dd493f1e",
   "metadata": {},
   "source": [
    "## 09-3 결측값 다루기"
   ]
  },
  {
   "cell_type": "markdown",
   "id": "206af377",
   "metadata": {},
   "source": [
    "### `결측값 처리하기`"
   ]
  },
  {
   "cell_type": "markdown",
   "id": "1e2bf3db",
   "metadata": {},
   "source": [
    "- 다른 값으로 대체하기\n",
    "- 기존 값으로 대체하기\n",
    "- 삭제하기"
   ]
  },
  {
   "cell_type": "markdown",
   "id": "eeb2cb0e",
   "metadata": {},
   "source": [
    "#### [Do It! 실습] 결측값 개수 구하기"
   ]
  },
  {
   "cell_type": "code",
   "execution_count": 11,
   "id": "44df9df2",
   "metadata": {},
   "outputs": [
    {
     "name": "stdout",
     "output_type": "stream",
     "text": [
      "Date                   122\n",
      "Day                    122\n",
      "Cases_Guinea            93\n",
      "Cases_Liberia           83\n",
      "Cases_SierraLeone       87\n",
      "Cases_Nigeria           38\n",
      "Cases_Senegal           25\n",
      "Cases_UnitedStates      18\n",
      "Cases_Spain             16\n",
      "Cases_Mali              12\n",
      "Deaths_Guinea           92\n",
      "Deaths_Liberia          81\n",
      "Deaths_SierraLeone      87\n",
      "Deaths_Nigeria          38\n",
      "Deaths_Senegal          22\n",
      "Deaths_UnitedStates     18\n",
      "Deaths_Spain            16\n",
      "Deaths_Mali             12\n",
      "dtype: int64\n"
     ]
    }
   ],
   "source": [
    "ebola = pd.read_csv('C:/python/do_it_pandas-main/do_it_pandas-main/data/country_timeseries.csv')\n",
    "\n",
    "print(ebola.count())"
   ]
  },
  {
   "cell_type": "code",
   "execution_count": 12,
   "id": "c1b8d6de",
   "metadata": {},
   "outputs": [
    {
     "name": "stdout",
     "output_type": "stream",
     "text": [
      "<class 'pandas.core.frame.DataFrame'>\n",
      "RangeIndex: 122 entries, 0 to 121\n",
      "Data columns (total 18 columns):\n",
      " #   Column               Non-Null Count  Dtype  \n",
      "---  ------               --------------  -----  \n",
      " 0   Date                 122 non-null    object \n",
      " 1   Day                  122 non-null    int64  \n",
      " 2   Cases_Guinea         93 non-null     float64\n",
      " 3   Cases_Liberia        83 non-null     float64\n",
      " 4   Cases_SierraLeone    87 non-null     float64\n",
      " 5   Cases_Nigeria        38 non-null     float64\n",
      " 6   Cases_Senegal        25 non-null     float64\n",
      " 7   Cases_UnitedStates   18 non-null     float64\n",
      " 8   Cases_Spain          16 non-null     float64\n",
      " 9   Cases_Mali           12 non-null     float64\n",
      " 10  Deaths_Guinea        92 non-null     float64\n",
      " 11  Deaths_Liberia       81 non-null     float64\n",
      " 12  Deaths_SierraLeone   87 non-null     float64\n",
      " 13  Deaths_Nigeria       38 non-null     float64\n",
      " 14  Deaths_Senegal       22 non-null     float64\n",
      " 15  Deaths_UnitedStates  18 non-null     float64\n",
      " 16  Deaths_Spain         16 non-null     float64\n",
      " 17  Deaths_Mali          12 non-null     float64\n",
      "dtypes: float64(16), int64(1), object(1)\n",
      "memory usage: 17.3+ KB\n"
     ]
    }
   ],
   "source": [
    "ebola.info()"
   ]
  },
  {
   "cell_type": "code",
   "execution_count": 8,
   "id": "af6bc5c7",
   "metadata": {},
   "outputs": [
    {
     "name": "stdout",
     "output_type": "stream",
     "text": [
      "Date                     0\n",
      "Day                      0\n",
      "Cases_Guinea            29\n",
      "Cases_Liberia           39\n",
      "Cases_SierraLeone       35\n",
      "Cases_Nigeria           84\n",
      "Cases_Senegal           97\n",
      "Cases_UnitedStates     104\n",
      "Cases_Spain            106\n",
      "Cases_Mali             110\n",
      "Deaths_Guinea           30\n",
      "Deaths_Liberia          41\n",
      "Deaths_SierraLeone      35\n",
      "Deaths_Nigeria          84\n",
      "Deaths_Senegal         100\n",
      "Deaths_UnitedStates    104\n",
      "Deaths_Spain           106\n",
      "Deaths_Mali            110\n",
      "dtype: int64\n"
     ]
    }
   ],
   "source": [
    "num_rows = ebola.shape[0]\n",
    "num_missing = num_rows - ebola.count()\n",
    "print(num_missing)"
   ]
  },
  {
   "cell_type": "code",
   "execution_count": 9,
   "id": "092291d3",
   "metadata": {},
   "outputs": [
    {
     "data": {
      "text/html": [
       "<div>\n",
       "<style scoped>\n",
       "    .dataframe tbody tr th:only-of-type {\n",
       "        vertical-align: middle;\n",
       "    }\n",
       "\n",
       "    .dataframe tbody tr th {\n",
       "        vertical-align: top;\n",
       "    }\n",
       "\n",
       "    .dataframe thead th {\n",
       "        text-align: right;\n",
       "    }\n",
       "</style>\n",
       "<table border=\"1\" class=\"dataframe\">\n",
       "  <thead>\n",
       "    <tr style=\"text-align: right;\">\n",
       "      <th></th>\n",
       "      <th>Date</th>\n",
       "      <th>Day</th>\n",
       "      <th>Cases_Guinea</th>\n",
       "      <th>Cases_Liberia</th>\n",
       "      <th>Cases_SierraLeone</th>\n",
       "      <th>Cases_Nigeria</th>\n",
       "      <th>Cases_Senegal</th>\n",
       "      <th>Cases_UnitedStates</th>\n",
       "      <th>Cases_Spain</th>\n",
       "      <th>Cases_Mali</th>\n",
       "      <th>Deaths_Guinea</th>\n",
       "      <th>Deaths_Liberia</th>\n",
       "      <th>Deaths_SierraLeone</th>\n",
       "      <th>Deaths_Nigeria</th>\n",
       "      <th>Deaths_Senegal</th>\n",
       "      <th>Deaths_UnitedStates</th>\n",
       "      <th>Deaths_Spain</th>\n",
       "      <th>Deaths_Mali</th>\n",
       "    </tr>\n",
       "  </thead>\n",
       "  <tbody>\n",
       "    <tr>\n",
       "      <th>0</th>\n",
       "      <td>False</td>\n",
       "      <td>False</td>\n",
       "      <td>False</td>\n",
       "      <td>True</td>\n",
       "      <td>False</td>\n",
       "      <td>True</td>\n",
       "      <td>True</td>\n",
       "      <td>True</td>\n",
       "      <td>True</td>\n",
       "      <td>True</td>\n",
       "      <td>False</td>\n",
       "      <td>True</td>\n",
       "      <td>False</td>\n",
       "      <td>True</td>\n",
       "      <td>True</td>\n",
       "      <td>True</td>\n",
       "      <td>True</td>\n",
       "      <td>True</td>\n",
       "    </tr>\n",
       "    <tr>\n",
       "      <th>1</th>\n",
       "      <td>False</td>\n",
       "      <td>False</td>\n",
       "      <td>False</td>\n",
       "      <td>True</td>\n",
       "      <td>False</td>\n",
       "      <td>True</td>\n",
       "      <td>True</td>\n",
       "      <td>True</td>\n",
       "      <td>True</td>\n",
       "      <td>True</td>\n",
       "      <td>False</td>\n",
       "      <td>True</td>\n",
       "      <td>False</td>\n",
       "      <td>True</td>\n",
       "      <td>True</td>\n",
       "      <td>True</td>\n",
       "      <td>True</td>\n",
       "      <td>True</td>\n",
       "    </tr>\n",
       "    <tr>\n",
       "      <th>2</th>\n",
       "      <td>False</td>\n",
       "      <td>False</td>\n",
       "      <td>False</td>\n",
       "      <td>False</td>\n",
       "      <td>False</td>\n",
       "      <td>True</td>\n",
       "      <td>True</td>\n",
       "      <td>True</td>\n",
       "      <td>True</td>\n",
       "      <td>True</td>\n",
       "      <td>False</td>\n",
       "      <td>False</td>\n",
       "      <td>False</td>\n",
       "      <td>True</td>\n",
       "      <td>True</td>\n",
       "      <td>True</td>\n",
       "      <td>True</td>\n",
       "      <td>True</td>\n",
       "    </tr>\n",
       "    <tr>\n",
       "      <th>3</th>\n",
       "      <td>False</td>\n",
       "      <td>False</td>\n",
       "      <td>True</td>\n",
       "      <td>False</td>\n",
       "      <td>True</td>\n",
       "      <td>True</td>\n",
       "      <td>True</td>\n",
       "      <td>True</td>\n",
       "      <td>True</td>\n",
       "      <td>True</td>\n",
       "      <td>True</td>\n",
       "      <td>False</td>\n",
       "      <td>True</td>\n",
       "      <td>True</td>\n",
       "      <td>True</td>\n",
       "      <td>True</td>\n",
       "      <td>True</td>\n",
       "      <td>True</td>\n",
       "    </tr>\n",
       "    <tr>\n",
       "      <th>4</th>\n",
       "      <td>False</td>\n",
       "      <td>False</td>\n",
       "      <td>False</td>\n",
       "      <td>False</td>\n",
       "      <td>False</td>\n",
       "      <td>True</td>\n",
       "      <td>True</td>\n",
       "      <td>True</td>\n",
       "      <td>True</td>\n",
       "      <td>True</td>\n",
       "      <td>False</td>\n",
       "      <td>False</td>\n",
       "      <td>False</td>\n",
       "      <td>True</td>\n",
       "      <td>True</td>\n",
       "      <td>True</td>\n",
       "      <td>True</td>\n",
       "      <td>True</td>\n",
       "    </tr>\n",
       "    <tr>\n",
       "      <th>...</th>\n",
       "      <td>...</td>\n",
       "      <td>...</td>\n",
       "      <td>...</td>\n",
       "      <td>...</td>\n",
       "      <td>...</td>\n",
       "      <td>...</td>\n",
       "      <td>...</td>\n",
       "      <td>...</td>\n",
       "      <td>...</td>\n",
       "      <td>...</td>\n",
       "      <td>...</td>\n",
       "      <td>...</td>\n",
       "      <td>...</td>\n",
       "      <td>...</td>\n",
       "      <td>...</td>\n",
       "      <td>...</td>\n",
       "      <td>...</td>\n",
       "      <td>...</td>\n",
       "    </tr>\n",
       "    <tr>\n",
       "      <th>117</th>\n",
       "      <td>False</td>\n",
       "      <td>False</td>\n",
       "      <td>False</td>\n",
       "      <td>False</td>\n",
       "      <td>False</td>\n",
       "      <td>True</td>\n",
       "      <td>True</td>\n",
       "      <td>True</td>\n",
       "      <td>True</td>\n",
       "      <td>True</td>\n",
       "      <td>False</td>\n",
       "      <td>False</td>\n",
       "      <td>False</td>\n",
       "      <td>True</td>\n",
       "      <td>True</td>\n",
       "      <td>True</td>\n",
       "      <td>True</td>\n",
       "      <td>True</td>\n",
       "    </tr>\n",
       "    <tr>\n",
       "      <th>118</th>\n",
       "      <td>False</td>\n",
       "      <td>False</td>\n",
       "      <td>False</td>\n",
       "      <td>True</td>\n",
       "      <td>True</td>\n",
       "      <td>True</td>\n",
       "      <td>True</td>\n",
       "      <td>True</td>\n",
       "      <td>True</td>\n",
       "      <td>True</td>\n",
       "      <td>False</td>\n",
       "      <td>True</td>\n",
       "      <td>True</td>\n",
       "      <td>True</td>\n",
       "      <td>True</td>\n",
       "      <td>True</td>\n",
       "      <td>True</td>\n",
       "      <td>True</td>\n",
       "    </tr>\n",
       "    <tr>\n",
       "      <th>119</th>\n",
       "      <td>False</td>\n",
       "      <td>False</td>\n",
       "      <td>False</td>\n",
       "      <td>True</td>\n",
       "      <td>True</td>\n",
       "      <td>True</td>\n",
       "      <td>True</td>\n",
       "      <td>True</td>\n",
       "      <td>True</td>\n",
       "      <td>True</td>\n",
       "      <td>False</td>\n",
       "      <td>True</td>\n",
       "      <td>True</td>\n",
       "      <td>True</td>\n",
       "      <td>True</td>\n",
       "      <td>True</td>\n",
       "      <td>True</td>\n",
       "      <td>True</td>\n",
       "    </tr>\n",
       "    <tr>\n",
       "      <th>120</th>\n",
       "      <td>False</td>\n",
       "      <td>False</td>\n",
       "      <td>False</td>\n",
       "      <td>True</td>\n",
       "      <td>True</td>\n",
       "      <td>True</td>\n",
       "      <td>True</td>\n",
       "      <td>True</td>\n",
       "      <td>True</td>\n",
       "      <td>True</td>\n",
       "      <td>False</td>\n",
       "      <td>True</td>\n",
       "      <td>True</td>\n",
       "      <td>True</td>\n",
       "      <td>True</td>\n",
       "      <td>True</td>\n",
       "      <td>True</td>\n",
       "      <td>True</td>\n",
       "    </tr>\n",
       "    <tr>\n",
       "      <th>121</th>\n",
       "      <td>False</td>\n",
       "      <td>False</td>\n",
       "      <td>False</td>\n",
       "      <td>True</td>\n",
       "      <td>True</td>\n",
       "      <td>True</td>\n",
       "      <td>True</td>\n",
       "      <td>True</td>\n",
       "      <td>True</td>\n",
       "      <td>True</td>\n",
       "      <td>False</td>\n",
       "      <td>True</td>\n",
       "      <td>True</td>\n",
       "      <td>True</td>\n",
       "      <td>True</td>\n",
       "      <td>True</td>\n",
       "      <td>True</td>\n",
       "      <td>True</td>\n",
       "    </tr>\n",
       "  </tbody>\n",
       "</table>\n",
       "<p>122 rows × 18 columns</p>\n",
       "</div>"
      ],
      "text/plain": [
       "      Date    Day  Cases_Guinea  Cases_Liberia  Cases_SierraLeone  \\\n",
       "0    False  False         False           True              False   \n",
       "1    False  False         False           True              False   \n",
       "2    False  False         False          False              False   \n",
       "3    False  False          True          False               True   \n",
       "4    False  False         False          False              False   \n",
       "..     ...    ...           ...            ...                ...   \n",
       "117  False  False         False          False              False   \n",
       "118  False  False         False           True               True   \n",
       "119  False  False         False           True               True   \n",
       "120  False  False         False           True               True   \n",
       "121  False  False         False           True               True   \n",
       "\n",
       "     Cases_Nigeria  Cases_Senegal  Cases_UnitedStates  Cases_Spain  \\\n",
       "0             True           True                True         True   \n",
       "1             True           True                True         True   \n",
       "2             True           True                True         True   \n",
       "3             True           True                True         True   \n",
       "4             True           True                True         True   \n",
       "..             ...            ...                 ...          ...   \n",
       "117           True           True                True         True   \n",
       "118           True           True                True         True   \n",
       "119           True           True                True         True   \n",
       "120           True           True                True         True   \n",
       "121           True           True                True         True   \n",
       "\n",
       "     Cases_Mali  Deaths_Guinea  Deaths_Liberia  Deaths_SierraLeone  \\\n",
       "0          True          False            True               False   \n",
       "1          True          False            True               False   \n",
       "2          True          False           False               False   \n",
       "3          True           True           False                True   \n",
       "4          True          False           False               False   \n",
       "..          ...            ...             ...                 ...   \n",
       "117        True          False           False               False   \n",
       "118        True          False            True                True   \n",
       "119        True          False            True                True   \n",
       "120        True          False            True                True   \n",
       "121        True          False            True                True   \n",
       "\n",
       "     Deaths_Nigeria  Deaths_Senegal  Deaths_UnitedStates  Deaths_Spain  \\\n",
       "0              True            True                 True          True   \n",
       "1              True            True                 True          True   \n",
       "2              True            True                 True          True   \n",
       "3              True            True                 True          True   \n",
       "4              True            True                 True          True   \n",
       "..              ...             ...                  ...           ...   \n",
       "117            True            True                 True          True   \n",
       "118            True            True                 True          True   \n",
       "119            True            True                 True          True   \n",
       "120            True            True                 True          True   \n",
       "121            True            True                 True          True   \n",
       "\n",
       "     Deaths_Mali  \n",
       "0           True  \n",
       "1           True  \n",
       "2           True  \n",
       "3           True  \n",
       "4           True  \n",
       "..           ...  \n",
       "117         True  \n",
       "118         True  \n",
       "119         True  \n",
       "120         True  \n",
       "121         True  \n",
       "\n",
       "[122 rows x 18 columns]"
      ]
     },
     "execution_count": 9,
     "metadata": {},
     "output_type": "execute_result"
    }
   ],
   "source": [
    "ebola.isnull()"
   ]
  },
  {
   "cell_type": "markdown",
   "id": "536555d8",
   "metadata": {},
   "source": [
    "- 모든 결측값 개수 구하기\n",
    "  - zero 가 아닌 개수 카운팅 -> True 값 총 개수"
   ]
  },
  {
   "cell_type": "markdown",
   "id": "403bf360",
   "metadata": {},
   "source": [
    "- DataFrame"
   ]
  },
  {
   "cell_type": "code",
   "execution_count": 60,
   "id": "391e4535",
   "metadata": {},
   "outputs": [
    {
     "name": "stdout",
     "output_type": "stream",
     "text": [
      "1214\n"
     ]
    }
   ],
   "source": [
    "import numpy as np\n",
    "\n",
    "print(np.count_nonzero(ebola.isnull()))"
   ]
  },
  {
   "cell_type": "markdown",
   "id": "69815472",
   "metadata": {},
   "source": [
    "- Series"
   ]
  },
  {
   "cell_type": "code",
   "execution_count": 61,
   "id": "4aab27dd",
   "metadata": {},
   "outputs": [
    {
     "name": "stdout",
     "output_type": "stream",
     "text": [
      "29\n"
     ]
    }
   ],
   "source": [
    "print(np.count_nonzero(ebola['Cases_Guinea'].isnull()))"
   ]
  },
  {
   "cell_type": "code",
   "execution_count": 10,
   "id": "11eb744a",
   "metadata": {},
   "outputs": [
    {
     "data": {
      "text/plain": [
       "Cases_Guinea\n",
       "86.0      3\n",
       "495.0     2\n",
       "112.0     2\n",
       "390.0     2\n",
       "408.0     1\n",
       "         ..\n",
       "1199.0    1\n",
       "1298.0    1\n",
       "1350.0    1\n",
       "1472.0    1\n",
       "49.0      1\n",
       "Name: count, Length: 88, dtype: int64"
      ]
     },
     "execution_count": 10,
     "metadata": {},
     "output_type": "execute_result"
    }
   ],
   "source": [
    "ebola.Cases_Guinea.value_counts()"
   ]
  },
  {
   "cell_type": "markdown",
   "id": "a20e1c58",
   "metadata": {},
   "source": [
    "- 결측치도 고유값으로 카운팅"
   ]
  },
  {
   "cell_type": "code",
   "execution_count": 12,
   "id": "6f0b05fa",
   "metadata": {},
   "outputs": [
    {
     "name": "stdout",
     "output_type": "stream",
     "text": [
      "Cases_Guinea\n",
      "NaN       29\n",
      "86.0       3\n",
      "495.0      2\n",
      "112.0      2\n",
      "390.0      2\n",
      "          ..\n",
      "1199.0     1\n",
      "1298.0     1\n",
      "1350.0     1\n",
      "1472.0     1\n",
      "49.0       1\n",
      "Name: count, Length: 89, dtype: int64\n"
     ]
    }
   ],
   "source": [
    "cnts = ebola.Cases_Guinea.value_counts(dropna=False)\n",
    "print(cnts)"
   ]
  },
  {
   "cell_type": "code",
   "execution_count": 14,
   "id": "b33820c9",
   "metadata": {},
   "outputs": [
    {
     "data": {
      "text/plain": [
       "Index([   nan,   86.0,  495.0,  112.0,  390.0,  408.0,  291.0,  328.0,  344.0,\n",
       "        351.0,  398.0,  413.0,  412.0,  406.0,  409.0,  258.0,  411.0,  410.0,\n",
       "        415.0,  427.0,  460.0,  472.0,  485.0,  281.0, 2776.0,  248.0,  506.0,\n",
       "        103.0,  122.0,  127.0,  143.0,  151.0,  158.0,  159.0,  168.0,  197.0,\n",
       "        203.0,  208.0,  218.0,  224.0,  226.0,  231.0,  235.0,  236.0,  233.0,\n",
       "        510.0, 2775.0, 2164.0, 1667.0, 1731.0, 1760.0, 1878.0, 1919.0, 1971.0,\n",
       "       2047.0, 2134.0, 2292.0, 1553.0, 2416.0, 2571.0, 2597.0, 2630.0, 2695.0,\n",
       "       2706.0, 2730.0, 2769.0, 1906.0, 1540.0,  519.0,  936.0,  543.0,  579.0,\n",
       "        607.0,  648.0,  771.0,  812.0,  861.0,  899.0,  942.0, 1519.0, 1008.0,\n",
       "       1022.0, 1074.0, 1157.0, 1199.0, 1298.0, 1350.0, 1472.0,   49.0],\n",
       "      dtype='float64', name='Cases_Guinea')"
      ]
     },
     "execution_count": 14,
     "metadata": {},
     "output_type": "execute_result"
    }
   ],
   "source": [
    "cnts.index"
   ]
  },
  {
   "cell_type": "code",
   "execution_count": 15,
   "id": "8106e688",
   "metadata": {},
   "outputs": [
    {
     "data": {
      "text/plain": [
       "array([ True, False, False, False, False, False, False, False, False,\n",
       "       False, False, False, False, False, False, False, False, False,\n",
       "       False, False, False, False, False, False, False, False, False,\n",
       "       False, False, False, False, False, False, False, False, False,\n",
       "       False, False, False, False, False, False, False, False, False,\n",
       "       False, False, False, False, False, False, False, False, False,\n",
       "       False, False, False, False, False, False, False, False, False,\n",
       "       False, False, False, False, False, False, False, False, False,\n",
       "       False, False, False, False, False, False, False, False, False,\n",
       "       False, False, False, False, False, False, False, False])"
      ]
     },
     "execution_count": 15,
     "metadata": {},
     "output_type": "execute_result"
    }
   ],
   "source": [
    "pd.isnull(cnts.index)"
   ]
  },
  {
   "cell_type": "code",
   "execution_count": 63,
   "id": "b48c3d16",
   "metadata": {},
   "outputs": [
    {
     "name": "stdout",
     "output_type": "stream",
     "text": [
      "Cases_Guinea\n",
      "NaN    29\n",
      "Name: count, dtype: int64\n"
     ]
    }
   ],
   "source": [
    "print(cnts.loc[pd.isnull(cnts.index)])"
   ]
  },
  {
   "cell_type": "code",
   "execution_count": 64,
   "id": "57a2274b",
   "metadata": {},
   "outputs": [
    {
     "name": "stdout",
     "output_type": "stream",
     "text": [
      "29\n"
     ]
    }
   ],
   "source": [
    "print(ebola.Cases_Guinea.isnull().sum())"
   ]
  },
  {
   "cell_type": "markdown",
   "id": "0e7e81a0",
   "metadata": {},
   "source": [
    "#### [Do It! 실습] 결측값 대체하기"
   ]
  },
  {
   "cell_type": "code",
   "execution_count": 65,
   "id": "1dcc453b",
   "metadata": {},
   "outputs": [
    {
     "name": "stdout",
     "output_type": "stream",
     "text": [
      "           Date  Day  Cases_Guinea  Cases_Liberia  Cases_SierraLeone\n",
      "0      1/5/2015  289        2776.0            0.0            10030.0\n",
      "1      1/4/2015  288        2775.0            0.0             9780.0\n",
      "2      1/3/2015  287        2769.0         8166.0             9722.0\n",
      "3      1/2/2015  286           0.0         8157.0                0.0\n",
      "4    12/31/2014  284        2730.0         8115.0             9633.0\n",
      "..          ...  ...           ...            ...                ...\n",
      "117   3/27/2014    5         103.0            8.0                6.0\n",
      "118   3/26/2014    4          86.0            0.0                0.0\n",
      "119   3/25/2014    3          86.0            0.0                0.0\n",
      "120   3/24/2014    2          86.0            0.0                0.0\n",
      "121   3/22/2014    0          49.0            0.0                0.0\n",
      "\n",
      "[122 rows x 5 columns]\n"
     ]
    }
   ],
   "source": [
    "print(ebola.fillna(0).iloc[:, 0:5])"
   ]
  },
  {
   "cell_type": "markdown",
   "id": "b185ce71",
   "metadata": {},
   "source": [
    "- 결측값 찾는 방향에 따른 바로 전 데이터 값으로 채우기\n",
    "  - forward fill : 'ffill'\n",
    "  - backward fill : 'bfill'"
   ]
  },
  {
   "cell_type": "markdown",
   "id": "9d578a48",
   "metadata": {},
   "source": [
    "#### [Do It! 실습] 정방향 채우기"
   ]
  },
  {
   "cell_type": "code",
   "execution_count": 66,
   "id": "07f11a74",
   "metadata": {},
   "outputs": [
    {
     "name": "stdout",
     "output_type": "stream",
     "text": [
      "           Date  Day  Cases_Guinea  Cases_Liberia  Cases_SierraLeone\n",
      "0      1/5/2015  289        2776.0            NaN            10030.0\n",
      "1      1/4/2015  288        2775.0            NaN             9780.0\n",
      "2      1/3/2015  287        2769.0         8166.0             9722.0\n",
      "3      1/2/2015  286        2769.0         8157.0             9722.0\n",
      "4    12/31/2014  284        2730.0         8115.0             9633.0\n",
      "..          ...  ...           ...            ...                ...\n",
      "117   3/27/2014    5         103.0            8.0                6.0\n",
      "118   3/26/2014    4          86.0            8.0                6.0\n",
      "119   3/25/2014    3          86.0            8.0                6.0\n",
      "120   3/24/2014    2          86.0            8.0                6.0\n",
      "121   3/22/2014    0          49.0            8.0                6.0\n",
      "\n",
      "[122 rows x 5 columns]\n"
     ]
    }
   ],
   "source": [
    "print(ebola.fillna(method='ffill').iloc[:, 0:5])"
   ]
  },
  {
   "cell_type": "markdown",
   "id": "3c90f770",
   "metadata": {},
   "source": [
    "#### [Do It! 실습] 역방향 채우기"
   ]
  },
  {
   "cell_type": "code",
   "execution_count": 67,
   "id": "8ca9e447",
   "metadata": {},
   "outputs": [
    {
     "name": "stdout",
     "output_type": "stream",
     "text": [
      "           Date  Day  Cases_Guinea  Cases_Liberia  Cases_SierraLeone\n",
      "0      1/5/2015  289        2776.0         8166.0            10030.0\n",
      "1      1/4/2015  288        2775.0         8166.0             9780.0\n",
      "2      1/3/2015  287        2769.0         8166.0             9722.0\n",
      "3      1/2/2015  286        2730.0         8157.0             9633.0\n",
      "4    12/31/2014  284        2730.0         8115.0             9633.0\n",
      "..          ...  ...           ...            ...                ...\n",
      "117   3/27/2014    5         103.0            8.0                6.0\n",
      "118   3/26/2014    4          86.0            NaN                NaN\n",
      "119   3/25/2014    3          86.0            NaN                NaN\n",
      "120   3/24/2014    2          86.0            NaN                NaN\n",
      "121   3/22/2014    0          49.0            NaN                NaN\n",
      "\n",
      "[122 rows x 5 columns]\n"
     ]
    }
   ],
   "source": [
    "print(ebola.fillna(method='bfill').iloc[:, 0:5])"
   ]
  },
  {
   "cell_type": "markdown",
   "id": "96196daf",
   "metadata": {},
   "source": [
    "#### [Do It! 실습] 보간법으로 채우기"
   ]
  },
  {
   "cell_type": "markdown",
   "id": "361011a8",
   "metadata": {},
   "source": [
    "- 결측값 양쪽 값의 평균으로 채워 넣기\n",
    "  - .interpolate()\n",
    "    - method\n",
    "      - linear\n",
    "      - time\n",
    "      - index, values\n",
    "      - pad\n",
    "      - etc..."
   ]
  },
  {
   "cell_type": "code",
   "execution_count": 68,
   "id": "9ff00845",
   "metadata": {},
   "outputs": [
    {
     "name": "stdout",
     "output_type": "stream",
     "text": [
      "           Date  Day  Cases_Guinea  Cases_Liberia  Cases_SierraLeone\n",
      "0      1/5/2015  289        2776.0            NaN            10030.0\n",
      "1      1/4/2015  288        2775.0            NaN             9780.0\n",
      "2      1/3/2015  287        2769.0         8166.0             9722.0\n",
      "3      1/2/2015  286        2749.5         8157.0             9677.5\n",
      "4    12/31/2014  284        2730.0         8115.0             9633.0\n",
      "..          ...  ...           ...            ...                ...\n",
      "117   3/27/2014    5         103.0            8.0                6.0\n",
      "118   3/26/2014    4          86.0            8.0                6.0\n",
      "119   3/25/2014    3          86.0            8.0                6.0\n",
      "120   3/24/2014    2          86.0            8.0                6.0\n",
      "121   3/22/2014    0          49.0            8.0                6.0\n",
      "\n",
      "[122 rows x 5 columns]\n"
     ]
    }
   ],
   "source": [
    "print(ebola.interpolate().iloc[:, 0:5])"
   ]
  },
  {
   "cell_type": "markdown",
   "id": "7f05df81",
   "metadata": {},
   "source": [
    "#### [Do It! 실습] 결측값 삭제하기"
   ]
  },
  {
   "cell_type": "markdown",
   "id": "6ffe2aa6",
   "metadata": {},
   "source": [
    "- 데이터를 고려하여 삭제\n",
    "  - .dropna()"
   ]
  },
  {
   "cell_type": "code",
   "execution_count": 69,
   "id": "9cc10790",
   "metadata": {},
   "outputs": [
    {
     "name": "stdout",
     "output_type": "stream",
     "text": [
      "(122, 18)\n"
     ]
    }
   ],
   "source": [
    "print(ebola.shape)"
   ]
  },
  {
   "cell_type": "code",
   "execution_count": 70,
   "id": "480e70dd",
   "metadata": {},
   "outputs": [
    {
     "name": "stdout",
     "output_type": "stream",
     "text": [
      "(1, 18)\n"
     ]
    }
   ],
   "source": [
    "ebola_dropna = ebola.dropna()\n",
    "print(ebola_dropna.shape)"
   ]
  },
  {
   "cell_type": "code",
   "execution_count": 71,
   "id": "6f45f80a",
   "metadata": {},
   "outputs": [
    {
     "name": "stdout",
     "output_type": "stream",
     "text": [
      "          Date  Day  Cases_Guinea  Cases_Liberia  Cases_SierraLeone  \\\n",
      "19  11/18/2014  241        2047.0         7082.0             6190.0   \n",
      "\n",
      "    Cases_Nigeria  Cases_Senegal  Cases_UnitedStates  Cases_Spain  Cases_Mali  \\\n",
      "19           20.0            1.0                 4.0          1.0         6.0   \n",
      "\n",
      "    Deaths_Guinea  Deaths_Liberia  Deaths_SierraLeone  Deaths_Nigeria  \\\n",
      "19         1214.0          2963.0              1267.0             8.0   \n",
      "\n",
      "    Deaths_Senegal  Deaths_UnitedStates  Deaths_Spain  Deaths_Mali  \n",
      "19             0.0                  1.0           0.0          6.0  \n"
     ]
    }
   ],
   "source": [
    "print(ebola_dropna)"
   ]
  },
  {
   "cell_type": "markdown",
   "id": "a22b75df",
   "metadata": {},
   "source": [
    "### 결측값이 있는 데이터 계산하기"
   ]
  },
  {
   "cell_type": "code",
   "execution_count": 16,
   "id": "1bf68419",
   "metadata": {},
   "outputs": [],
   "source": [
    "ebola[\"Cases_multiple\"] = (\n",
    "    ebola[\"Cases_Guinea\"]\n",
    "    + ebola[\"Cases_Liberia\"]\n",
    "    + ebola[\"Cases_SierraLeone\"]\n",
    ")"
   ]
  },
  {
   "cell_type": "markdown",
   "id": "3345dd8f",
   "metadata": {},
   "source": [
    "- 결측값이 있다면 계산 불가"
   ]
  },
  {
   "cell_type": "code",
   "execution_count": 73,
   "id": "f1c9c183",
   "metadata": {},
   "outputs": [
    {
     "name": "stdout",
     "output_type": "stream",
     "text": [
      "   Cases_Guinea  Cases_Liberia  Cases_SierraLeone  Cases_multiple\n",
      "0        2776.0            NaN            10030.0             NaN\n",
      "1        2775.0            NaN             9780.0             NaN\n",
      "2        2769.0         8166.0             9722.0         20657.0\n",
      "3           NaN         8157.0                NaN             NaN\n",
      "4        2730.0         8115.0             9633.0         20478.0\n",
      "5        2706.0         8018.0             9446.0         20170.0\n",
      "6        2695.0            NaN             9409.0             NaN\n",
      "7        2630.0         7977.0             9203.0         19810.0\n",
      "8        2597.0            NaN             9004.0             NaN\n",
      "9        2571.0         7862.0             8939.0         19372.0\n"
     ]
    }
   ],
   "source": [
    "ebola_subset = ebola.loc[\n",
    "    :,\n",
    "    [\n",
    "        \"Cases_Guinea\",\n",
    "        \"Cases_Liberia\",\n",
    "        \"Cases_SierraLeone\",\n",
    "        \"Cases_multiple\",\n",
    "    ],\n",
    "]\n",
    "\n",
    "print(ebola_subset.head(n=10))"
   ]
  },
  {
   "cell_type": "markdown",
   "id": "2cef9186",
   "metadata": {},
   "source": [
    "- 결측값 무시하고 계산\n",
    "  - skipna"
   ]
  },
  {
   "cell_type": "code",
   "execution_count": 74,
   "id": "b1c2f36b",
   "metadata": {},
   "outputs": [
    {
     "name": "stdout",
     "output_type": "stream",
     "text": [
      "84729.0\n"
     ]
    }
   ],
   "source": [
    "print(ebola.Cases_Guinea.sum(skipna=True))"
   ]
  },
  {
   "cell_type": "code",
   "execution_count": 75,
   "id": "b62ad804",
   "metadata": {},
   "outputs": [
    {
     "name": "stdout",
     "output_type": "stream",
     "text": [
      "nan\n"
     ]
    }
   ],
   "source": [
    "print(ebola.Cases_Guinea.sum(skipna=False))"
   ]
  },
  {
   "cell_type": "markdown",
   "id": "95991423",
   "metadata": {},
   "source": [
    "## 09-4 판다스 내장 NA 결측값"
   ]
  },
  {
   "cell_type": "code",
   "execution_count": 76,
   "id": "9314b234",
   "metadata": {},
   "outputs": [
    {
     "name": "stdout",
     "output_type": "stream",
     "text": [
      "                Name    Occupation        Born        Died  Age\n",
      "0  Rosaline Franklin       Chemist  1920-07-25  1958-04-16   37\n",
      "1     William Gosset  Statistician  1876-06-13  1937-10-16   61\n"
     ]
    }
   ],
   "source": [
    "scientists = pd.DataFrame(\n",
    "    {\n",
    "        \"Name\": [\"Rosaline Franklin\", \"William Gosset\"],\n",
    "        \"Occupation\": [\"Chemist\", \"Statistician\"],\n",
    "        \"Born\": [\"1920-07-25\", \"1876-06-13\"],\n",
    "        \"Died\": [\"1958-04-16\", \"1937-10-16\"],\n",
    "        \"Age\": [37, 61]\n",
    "    }\n",
    ")\n",
    "\n",
    "print(scientists)"
   ]
  },
  {
   "cell_type": "code",
   "execution_count": 77,
   "id": "d866de93",
   "metadata": {},
   "outputs": [
    {
     "name": "stdout",
     "output_type": "stream",
     "text": [
      "Name          object\n",
      "Occupation    object\n",
      "Born          object\n",
      "Died          object\n",
      "Age            int64\n",
      "dtype: object\n"
     ]
    }
   ],
   "source": [
    "print(scientists.dtypes)"
   ]
  },
  {
   "cell_type": "code",
   "execution_count": 78,
   "id": "3f340d59",
   "metadata": {},
   "outputs": [
    {
     "name": "stdout",
     "output_type": "stream",
     "text": [
      "                Name    Occupation        Born        Died   Age\n",
      "0  Rosaline Franklin       Chemist  1920-07-25  1958-04-16  37.0\n",
      "1               <NA>  Statistician  1876-06-13  1937-10-16   NaN\n"
     ]
    }
   ],
   "source": [
    "scientists.loc[1, \"Name\"] = pd.NA\n",
    "scientists.loc[1, \"Age\"] = pd.NA\n",
    "print(scientists)"
   ]
  },
  {
   "cell_type": "code",
   "execution_count": 79,
   "id": "96b46d62",
   "metadata": {},
   "outputs": [
    {
     "name": "stdout",
     "output_type": "stream",
     "text": [
      "Name           object\n",
      "Occupation     object\n",
      "Born           object\n",
      "Died           object\n",
      "Age           float64\n",
      "dtype: object\n"
     ]
    }
   ],
   "source": [
    "print(scientists.dtypes)  # 판다스 2.0.3 float64로 바뀜"
   ]
  },
  {
   "cell_type": "code",
   "execution_count": 82,
   "id": "c55b687d",
   "metadata": {},
   "outputs": [
    {
     "name": "stdout",
     "output_type": "stream",
     "text": [
      "Name           object\n",
      "Occupation     object\n",
      "Born           object\n",
      "Died           object\n",
      "Age           float64\n",
      "dtype: object\n"
     ]
    }
   ],
   "source": [
    "scientists = pd.DataFrame(\n",
    "    {\n",
    "        \"Name\": [\"Rosaline Franklin\", \"William Gosset\"],\n",
    "        \"Occupation\": [\"Chemist\", \"Statistician\"],\n",
    "        \"Born\": [\"1920-07-25\", \"1876-06-13\"],\n",
    "        \"Died\": [\"1958-04-16\", \"1937-10-16\"],\n",
    "        \"Age\": [37, 61]\n",
    "    }\n",
    ")\n",
    "\n",
    "scientists.loc[1, \"Name\"] = np.NaN\n",
    "scientists.loc[1, \"Age\"] = np.NaN\n",
    "\n",
    "print(scientists.dtypes)"
   ]
  },
  {
   "cell_type": "code",
   "execution_count": null,
   "id": "7797bb92",
   "metadata": {},
   "outputs": [],
   "source": []
  }
 ],
 "metadata": {
  "kernelspec": {
   "display_name": "Python 3 (ipykernel)",
   "language": "python",
   "name": "python3"
  },
  "language_info": {
   "codemirror_mode": {
    "name": "ipython",
    "version": 3
   },
   "file_extension": ".py",
   "mimetype": "text/x-python",
   "name": "python",
   "nbconvert_exporter": "python",
   "pygments_lexer": "ipython3",
   "version": "3.11.3"
  },
  "toc": {
   "base_numbering": 1,
   "nav_menu": {},
   "number_sections": false,
   "sideBar": false,
   "skip_h1_title": false,
   "title_cell": "Table of Contents",
   "title_sidebar": "Contents",
   "toc_cell": false,
   "toc_position": {
    "height": "738px",
    "left": "702px",
    "top": "147px",
    "width": "185px"
   },
   "toc_section_display": true,
   "toc_window_display": true
  }
 },
 "nbformat": 4,
 "nbformat_minor": 5
}
