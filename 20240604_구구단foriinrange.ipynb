{
 "cells": [
  {
   "cell_type": "code",
   "execution_count": 1,
   "metadata": {},
   "outputs": [
    {
     "name": "stdout",
     "output_type": "stream",
     "text": [
      "5 * 1 = 5\n",
      "5 * 2 = 10\n",
      "5 * 3 = 15\n",
      "5 * 4 = 20\n",
      "5 * 5 = 25\n",
      "5 * 6 = 30\n",
      "5 * 7 = 35\n",
      "5 * 8 = 40\n",
      "5 * 9 = 45\n"
     ]
    }
   ],
   "source": [
    "dan = int(input('단 입력 ->'))\n",
    "for i in range(1, 10):\n",
    "    print(\"{} * {} = {}\".format(dan, i, dan*i))"
   ]
  },
  {
   "cell_type": "code",
   "execution_count": 4,
   "metadata": {},
   "outputs": [
    {
     "name": "stdout",
     "output_type": "stream",
     "text": [
      "1\n",
      "2\n",
      "3\n",
      "4\n",
      "5\n",
      "6\n",
      "7\n",
      "8\n",
      "9\n"
     ]
    }
   ],
   "source": [
    "for i in range(1, 10):\n",
    "    print(i)"
   ]
  },
  {
   "cell_type": "code",
   "execution_count": 5,
   "metadata": {},
   "outputs": [
    {
     "name": "stdout",
     "output_type": "stream",
     "text": [
      "1 2 3 4 5 6 7 8 9 "
     ]
    }
   ],
   "source": [
    "for i in range(1, 10):\n",
    "    print(i, end=' ')"
   ]
  },
  {
   "cell_type": "code",
   "execution_count": 8,
   "metadata": {},
   "outputs": [
    {
     "name": "stdout",
     "output_type": "stream",
     "text": [
      "1, 2, 3, 4, 5, 6, 7, 8, 9"
     ]
    }
   ],
   "source": [
    "for i in range(1, 10):\n",
    "    print(i, end=', ' if i < 9 else \"\")"
   ]
  },
  {
   "cell_type": "code",
   "execution_count": 15,
   "metadata": {},
   "outputs": [],
   "source": [
    "word = 'korea'\n",
    "if word.find('k'):          # 0은 False로 판단. find()는 못찾으면 -1을 리턴하는데 -1은 참으로 인식.\n",
    "    print('1>' + word)"
   ]
  },
  {
   "cell_type": "code",
   "execution_count": 14,
   "metadata": {},
   "outputs": [
    {
     "name": "stdout",
     "output_type": "stream",
     "text": [
      "2>korea\n"
     ]
    }
   ],
   "source": [
    "if word.find('k') > -1:         \n",
    "    print('2>' + word)"
   ]
  },
  {
   "cell_type": "code",
   "execution_count": 21,
   "metadata": {},
   "outputs": [
    {
     "name": "stdout",
     "output_type": "stream",
     "text": [
      "k\n",
      "f\n"
     ]
    }
   ],
   "source": [
    "# loop\n",
    "a = 112\n",
    "b = ['1', '2', '3']\n",
    "c = '456'\n",
    "d = tuple(b)\n",
    "e = dict(k=5, f=6)\n",
    "                    #a만 사용안됨(집합객체만 반복문과 사용가능)\n",
    "for i in e:\n",
    "    print(i)"
   ]
  },
  {
   "cell_type": "code",
   "execution_count": 24,
   "metadata": {},
   "outputs": [
    {
     "name": "stdout",
     "output_type": "stream",
     "text": [
      "key: k value: 5\n",
      "key: f value: 6\n"
     ]
    }
   ],
   "source": [
    "for i in e.items():\n",
    "    #print(i)\n",
    "    print('key:', i[0], 'value:', i[1])"
   ]
  },
  {
   "cell_type": "code",
   "execution_count": 44,
   "metadata": {},
   "outputs": [
    {
     "name": "stdout",
     "output_type": "stream",
     "text": [
      "25\n"
     ]
    }
   ],
   "source": [
    "# 1~10까지 홀수의 합계를 구하기\n",
    "d = 0\n",
    "for i in range(1, 10, 2):\n",
    "    d=d+i    \n",
    "print(d)"
   ]
  },
  {
   "cell_type": "code",
   "execution_count": 46,
   "metadata": {},
   "outputs": [
    {
     "name": "stdout",
     "output_type": "stream",
     "text": [
      "25\n"
     ]
    }
   ],
   "source": [
    "sum = 0\n",
    "for i in range(1,11,2):\n",
    "    sum += i\n",
    "print(sum)"
   ]
  },
  {
   "cell_type": "code",
   "execution_count": 60,
   "metadata": {},
   "outputs": [
    {
     "name": "stdout",
     "output_type": "stream",
     "text": [
      "===============2 단================\n",
      "2 * 1 = 2\n",
      "2 * 2 = 4\n",
      "2 * 3 = 6\n",
      "2 * 4 = 8\n",
      "2 * 5 = 10\n",
      "2 * 6 = 12\n",
      "2 * 7 = 14\n",
      "2 * 8 = 16\n",
      "2 * 9 = 18\n",
      "===============4 단================\n",
      "4 * 1 = 4\n",
      "4 * 2 = 8\n",
      "4 * 3 = 12\n",
      "4 * 4 = 16\n",
      "4 * 5 = 20\n",
      "4 * 6 = 24\n",
      "4 * 7 = 28\n",
      "4 * 8 = 32\n",
      "4 * 9 = 36\n",
      "===============6 단================\n",
      "6 * 1 = 6\n",
      "6 * 2 = 12\n",
      "6 * 3 = 18\n",
      "6 * 4 = 24\n",
      "6 * 5 = 30\n",
      "6 * 6 = 36\n",
      "6 * 7 = 42\n",
      "6 * 8 = 48\n",
      "6 * 9 = 54\n",
      "===============8 단================\n",
      "8 * 1 = 8\n",
      "8 * 2 = 16\n",
      "8 * 3 = 24\n",
      "8 * 4 = 32\n",
      "8 * 5 = 40\n",
      "8 * 6 = 48\n",
      "8 * 7 = 56\n",
      "8 * 8 = 64\n",
      "8 * 9 = 72\n"
     ]
    }
   ],
   "source": [
    "# 구구단 전체 출력하기\n",
    "for i in range(2,10,2):\n",
    "    for a in range(1,10):\n",
    "        print(\"{} * {} = {}\".format(i, a, i*a))\n"
   ]
  },
  {
   "cell_type": "code",
   "execution_count": 59,
   "metadata": {},
   "outputs": [
    {
     "name": "stdout",
     "output_type": "stream",
     "text": [
      "2 * 1 = 2\n",
      "2 * 2 = 4\n",
      "2 * 3 = 6\n",
      "2 * 4 = 8\n",
      "2 * 5 = 10\n",
      "2 * 6 = 12\n",
      "2 * 7 = 14\n",
      "2 * 8 = 16\n",
      "3 * 1 = 3\n",
      "3 * 2 = 6\n",
      "3 * 3 = 9\n",
      "3 * 4 = 12\n",
      "3 * 5 = 15\n",
      "3 * 6 = 18\n",
      "3 * 7 = 21\n",
      "3 * 8 = 24\n",
      "4 * 1 = 4\n",
      "4 * 2 = 8\n",
      "4 * 3 = 12\n",
      "4 * 4 = 16\n",
      "4 * 5 = 20\n",
      "4 * 6 = 24\n",
      "4 * 7 = 28\n",
      "4 * 8 = 32\n",
      "5 * 1 = 5\n",
      "5 * 2 = 10\n",
      "5 * 3 = 15\n",
      "5 * 4 = 20\n",
      "5 * 5 = 25\n",
      "5 * 6 = 30\n",
      "5 * 7 = 35\n",
      "5 * 8 = 40\n",
      "6 * 1 = 6\n",
      "6 * 2 = 12\n",
      "6 * 3 = 18\n",
      "6 * 4 = 24\n",
      "6 * 5 = 30\n",
      "6 * 6 = 36\n",
      "6 * 7 = 42\n",
      "6 * 8 = 48\n",
      "7 * 1 = 7\n",
      "7 * 2 = 14\n",
      "7 * 3 = 21\n",
      "7 * 4 = 28\n",
      "7 * 5 = 35\n",
      "7 * 6 = 42\n",
      "7 * 7 = 49\n",
      "7 * 8 = 56\n",
      "8 * 1 = 8\n",
      "8 * 2 = 16\n",
      "8 * 3 = 24\n",
      "8 * 4 = 32\n",
      "8 * 5 = 40\n",
      "8 * 6 = 48\n",
      "8 * 7 = 56\n",
      "8 * 8 = 64\n",
      "9 * 1 = 9\n",
      "9 * 2 = 18\n",
      "9 * 3 = 27\n",
      "9 * 4 = 36\n",
      "9 * 5 = 45\n",
      "9 * 6 = 54\n",
      "9 * 7 = 63\n",
      "9 * 8 = 72\n"
     ]
    }
   ],
   "source": [
    "for i in range(2,10):\n",
    "    for a in range(1,9):\n",
    "        print(\"{} * {} = {}\".format(i,a,i*a))"
   ]
  },
  {
   "cell_type": "code",
   "execution_count": 61,
   "metadata": {},
   "outputs": [],
   "source": [
    "# 짝수단 가로 출력 해보기!(ex 2 * 1 = 2  4 * 1 = 4)"
   ]
  },
  {
   "cell_type": "code",
   "execution_count": 64,
   "metadata": {},
   "outputs": [
    {
     "name": "stdout",
     "output_type": "stream",
     "text": [
      "z\n",
      "y\n"
     ]
    }
   ],
   "source": [
    "# while : for는 명확한 실행 횟수(집합객체의 끝)가 정해졌을 때 많이 사용, \n",
    "#         while 명령은 반복횟수가 정해지지 않았을 때 많이 사용(게임에서 많이 사용)\n",
    "w = ['x', 'y', 'z']\n",
    "while w:\n",
    "    data = w.pop()\n",
    "    print(data)\n",
    "    # y를 만나면 제어블럭 탈출\n",
    "    if data == 'y' : break\n",
    "else:\n",
    "    print(\"end\")"
   ]
  },
  {
   "cell_type": "code",
   "execution_count": 65,
   "metadata": {},
   "outputs": [
    {
     "data": {
      "text/plain": [
       "'복'"
      ]
     },
     "execution_count": 65,
     "metadata": {},
     "output_type": "execute_result"
    }
   ],
   "source": [
    "# 요소 분해하기\n",
    "msg = '행복해'\n",
    "c1, c2, c3 = msg\n",
    "c2"
   ]
  },
  {
   "cell_type": "code",
   "execution_count": 67,
   "metadata": {},
   "outputs": [
    {
     "name": "stdout",
     "output_type": "stream",
     "text": [
      "[('월', '잠자기'), ('화', '공부하기'), ('수', '놀기')]\n"
     ]
    }
   ],
   "source": [
    "# 여러 시퀀스 순회하기 : zip() 함수\n",
    "days = ['월','화','수']\n",
    "doit = ['잠자기','공부하기','놀기','밥먹기']\n",
    "#print(zip(days, doit))\n",
    "print(list(zip(days, doit)))"
   ]
  },
  {
   "cell_type": "code",
   "execution_count": 68,
   "metadata": {},
   "outputs": [
    {
     "name": "stdout",
     "output_type": "stream",
     "text": [
      "{'월': '잠자기', '화': '공부하기', '수': '놀기'}\n"
     ]
    }
   ],
   "source": [
    "print(dict(zip(days, doit)))"
   ]
  },
  {
   "cell_type": "code",
   "execution_count": 70,
   "metadata": {},
   "outputs": [
    {
     "name": "stdout",
     "output_type": "stream",
     "text": [
      "('월', '잠자기')\n",
      "('화', '공부하기')\n",
      "('수', '놀기')\n"
     ]
    }
   ],
   "source": [
    "for data in zip(days,doit):\n",
    "    print(data)"
   ]
  },
  {
   "cell_type": "code",
   "execution_count": 71,
   "metadata": {},
   "outputs": [
    {
     "name": "stdout",
     "output_type": "stream",
     "text": [
      "월 잠자기\n",
      "화 공부하기\n",
      "수 놀기\n"
     ]
    }
   ],
   "source": [
    "for yoil, halil in zip(days,doit):\n",
    "    print(yoil, halil)"
   ]
  },
  {
   "cell_type": "code",
   "execution_count": 72,
   "metadata": {},
   "outputs": [
    {
     "name": "stdout",
     "output_type": "stream",
     "text": [
      "<zip object at 0x000001F83772BE40>\n"
     ]
    }
   ],
   "source": [
    "days = ['월','화','수']\n",
    "doit = ['잠자기','공부하기','놀기','밥먹기']\n",
    "\n",
    "print(zip(days, doit))"
   ]
  },
  {
   "cell_type": "code",
   "execution_count": 73,
   "metadata": {},
   "outputs": [
    {
     "name": "stdout",
     "output_type": "stream",
     "text": [
      "[('월', '잠자기'), ('화', '공부하기'), ('수', '놀기')]\n"
     ]
    }
   ],
   "source": [
    "print(list(zip(days,doit)))"
   ]
  },
  {
   "cell_type": "code",
   "execution_count": 74,
   "metadata": {},
   "outputs": [
    {
     "name": "stdout",
     "output_type": "stream",
     "text": [
      "{'월': '잠자기', '화': '공부하기', '수': '놀기'}\n"
     ]
    }
   ],
   "source": [
    "print(dict(zip(days,doit)))"
   ]
  },
  {
   "cell_type": "markdown",
   "metadata": {},
   "source": [
    "@ 컴프리핸션 (comprehension)\n",
    "    ` 하나 이상의 이터레이터(요소만 뽑아낸 것들?)로부터 파이썬 자료구조를 만드는 컴팩트(******)한 방법\n",
    "    ` 비교적 간단한 구문으로 반복문과 조건 테스트를 결합\n",
    "\n",
    "    * 리스트 컨프리핸션\n",
    "        [ 표현식 for 항목 in 순회가능객체 ]\n",
    "        [ 표현식 for 항목 in 순회가능객체 if 조건 ]\n",
    "\n",
    "    * 딕셔러리 컨프리핸션\n",
    "        { 키_표현식: 값_표현식 for 표현식 in 순회가능객체 }\n",
    "\n",
    "    * 셋 컨프리핸션1\n",
    "        { 표현식 for 표현식 in 순회가능객체 }"
   ]
  },
  {
   "cell_type": "code",
   "execution_count": 77,
   "metadata": {},
   "outputs": [
    {
     "name": "stdout",
     "output_type": "stream",
     "text": [
      "[1, 2, 3, 4, 5, 6]\n"
     ]
    }
   ],
   "source": [
    "alist= []\n",
    "for n in range(1,7):\n",
    "    alist.append(n)\n",
    "print(alist)\n",
    "\n",
    "#alist = list(range(1,7))"
   ]
  },
  {
   "cell_type": "code",
   "execution_count": 78,
   "metadata": {},
   "outputs": [
    {
     "data": {
      "text/plain": [
       "[1, 2, 3, 4, 5, 6]"
      ]
     },
     "execution_count": 78,
     "metadata": {},
     "output_type": "execute_result"
    }
   ],
   "source": [
    "blist = [n for n in range(1,7)]\n",
    "blist"
   ]
  },
  {
   "cell_type": "code",
   "execution_count": 79,
   "metadata": {},
   "outputs": [
    {
     "data": {
      "text/plain": [
       "[0, 1, 2, 3, 4, 5]"
      ]
     },
     "execution_count": 79,
     "metadata": {},
     "output_type": "execute_result"
    }
   ],
   "source": [
    "blist = [n-1 for n in range(1,7)]\n",
    "blist"
   ]
  },
  {
   "cell_type": "code",
   "execution_count": 81,
   "metadata": {},
   "outputs": [
    {
     "data": {
      "text/plain": [
       "[1, 4, 9, 16, 25, 36]"
      ]
     },
     "execution_count": 81,
     "metadata": {},
     "output_type": "execute_result"
    }
   ],
   "source": [
    "blist = [n**2 for n in range(1,7)]\n",
    "blist"
   ]
  },
  {
   "cell_type": "code",
   "execution_count": 82,
   "metadata": {},
   "outputs": [
    {
     "data": {
      "text/plain": [
       "[1, 9, 25]"
      ]
     },
     "execution_count": 82,
     "metadata": {},
     "output_type": "execute_result"
    }
   ],
   "source": [
    "blist = [n**2 for n in range(1,7) if n%2 == 1]\n",
    "blist"
   ]
  },
  {
   "cell_type": "code",
   "execution_count": 84,
   "metadata": {},
   "outputs": [
    {
     "data": {
      "text/plain": [
       "[(1, 1), (1, 2), (2, 1), (2, 2), (3, 1), (3, 2)]"
      ]
     },
     "execution_count": 84,
     "metadata": {},
     "output_type": "execute_result"
    }
   ],
   "source": [
    "clist = []\n",
    "for r in range(1,4):\n",
    "    for c in range(1,3):\n",
    "        clist.append((r,c))\n",
    "clist"
   ]
  },
  {
   "cell_type": "code",
   "execution_count": 97,
   "metadata": {},
   "outputs": [
    {
     "data": {
      "text/plain": [
       "{(1, 1, 2),\n",
       " (1, 1, 3),\n",
       " (1, 1, 4),\n",
       " (1, 2, 2),\n",
       " (1, 2, 3),\n",
       " (1, 2, 4),\n",
       " (2, 1, 2),\n",
       " (2, 1, 3),\n",
       " (2, 1, 4),\n",
       " (2, 2, 2),\n",
       " (2, 2, 3),\n",
       " (2, 2, 4),\n",
       " (3, 1, 2),\n",
       " (3, 1, 3),\n",
       " (3, 1, 4),\n",
       " (3, 2, 2),\n",
       " (3, 2, 3),\n",
       " (3, 2, 4)}"
      ]
     },
     "execution_count": 97,
     "metadata": {},
     "output_type": "execute_result"
    }
   ],
   "source": [
    "clist = {(n,c,s) for n in range(1,4) for c in range(1,3) for s in range(2,5)}\n",
    "clist"
   ]
  },
  {
   "cell_type": "code",
   "execution_count": 98,
   "metadata": {},
   "outputs": [
    {
     "data": {
      "text/plain": [
       "{2: 4, 3: 9, 4: 16}"
      ]
     },
     "execution_count": 98,
     "metadata": {},
     "output_type": "execute_result"
    }
   ],
   "source": [
    "datas = (2,3,4)\n",
    "adic = {x : x**2 for x in datas}\n",
    "adic"
   ]
  },
  {
   "cell_type": "code",
   "execution_count": 100,
   "metadata": {},
   "outputs": [
    {
     "ename": "TypeError",
     "evalue": "'str' object cannot be interpreted as an integer",
     "output_type": "error",
     "traceback": [
      "\u001b[1;31m---------------------------------------------------------------------------\u001b[0m",
      "\u001b[1;31mTypeError\u001b[0m                                 Traceback (most recent call last)",
      "Cell \u001b[1;32mIn[100], line 2\u001b[0m\n\u001b[0;32m      1\u001b[0m word \u001b[38;5;241m=\u001b[39m \u001b[38;5;124m'\u001b[39m\u001b[38;5;124mLOVE LOL\u001b[39m\u001b[38;5;124m'\u001b[39m\n\u001b[1;32m----> 2\u001b[0m wcnt \u001b[38;5;241m=\u001b[39m {Letter : count(word) \u001b[38;5;28;01mfor\u001b[39;00m Letter \u001b[38;5;129;01min\u001b[39;00m \u001b[38;5;28;43mrange\u001b[39;49m\u001b[43m(\u001b[49m\u001b[43mword\u001b[49m\u001b[43m)\u001b[49m} \n\u001b[0;32m      3\u001b[0m \u001b[38;5;66;03m# 문자열을 순회하여 Letter에 담고 키:글자 / 값:word에 들어있는 글자의 수\u001b[39;00m\n",
      "\u001b[1;31mTypeError\u001b[0m: 'str' object cannot be interpreted as an integer"
     ]
    }
   ],
   "source": [
    "word = 'LOVE LOL'\n",
    "wcnt = {Letter : count(word) for Letter in range(word)} \n",
    "# 문자열을 순회하여 Letter에 담고 키:글자 / 값:word에 들어있는 글자의 수"
   ]
  },
  {
   "cell_type": "code",
   "execution_count": 113,
   "metadata": {},
   "outputs": [],
   "source": [
    "word = 'LOVE LOL'\n",
    "wcnt = {Letter : word.count(Letter) for Letter in set(word)}\n",
    "# 문자열을 순회하여 Letter에 담고 키:글자 / 값:word에 들어있는 글자의 수"
   ]
  },
  {
   "cell_type": "code",
   "execution_count": 114,
   "metadata": {},
   "outputs": [
    {
     "data": {
      "text/plain": [
       "{'O': 2, 'L': 3, 'V': 1, ' ': 1, 'E': 1}"
      ]
     },
     "execution_count": 114,
     "metadata": {},
     "output_type": "execute_result"
    }
   ],
   "source": [
    "wcnt"
   ]
  },
  {
   "cell_type": "code",
   "execution_count": 117,
   "metadata": {},
   "outputs": [
    {
     "data": {
      "text/plain": [
       "[(0, '취하고싶으면달려라'),\n",
       " (1, '                맡은업무는반드시마치자'),\n",
       " (2, '                노력없는성과는없다'),\n",
       " (3, '                구글신과함께공부하자')]"
      ]
     },
     "execution_count": 117,
     "metadata": {},
     "output_type": "execute_result"
    }
   ],
   "source": [
    "# 프로젝트할 때 팀구호\n",
    "우리의결의 = \"\"\"취하고싶으면달려라\n",
    "                맡은업무는반드시마치자\n",
    "                노력없는성과는없다\n",
    "                구글신과함께공부하자\"\"\"\n",
    "result = [(i,j) for i, j in enumerate(우리의결의.splitlines())]  #각 요소와 인덱스를 함께 가져옴\n",
    "result"
   ]
  },
  {
   "cell_type": "markdown",
   "metadata": {},
   "source": [
    "\"\"\"\n",
    "    [ 함수 ]\n",
    "\n",
    "     - 반복적인 구문을 만들어 함수로 선언하여 간단하게 호출만 하고자 한다\n",
    "     - 역할별 구문을 작성한다\n",
    "\n",
    "     def 함수명(매개변수):\n",
    "        수행할 문장들\n",
    "\"\"\""
   ]
  },
  {
   "cell_type": "code",
   "execution_count": 120,
   "metadata": {},
   "outputs": [
    {
     "name": "stdout",
     "output_type": "stream",
     "text": [
      "함수생성1\n"
     ]
    }
   ],
   "source": [
    "# 인자값도, 리턴값도 없는 함수\n",
    "def func():\n",
    "    print('함수생성1')\n",
    "\n",
    "result = func()\n",
    "result"
   ]
  },
  {
   "cell_type": "code",
   "execution_count": 127,
   "metadata": {},
   "outputs": [],
   "source": [
    "# 리턴값이 여러개인 경우\n",
    "def func1(arg):\n",
    "    return arg+5, arg-5\n",
    "\n",
    "a,b = func1(3)  # unpacking(값을 분산)"
   ]
  },
  {
   "cell_type": "code",
   "execution_count": 128,
   "metadata": {},
   "outputs": [
    {
     "data": {
      "text/plain": [
       "8"
      ]
     },
     "execution_count": 128,
     "metadata": {},
     "output_type": "execute_result"
    }
   ],
   "source": [
    "a"
   ]
  },
  {
   "cell_type": "code",
   "execution_count": 129,
   "metadata": {},
   "outputs": [
    {
     "data": {
      "text/plain": [
       "-2"
      ]
     },
     "execution_count": 129,
     "metadata": {},
     "output_type": "execute_result"
    }
   ],
   "source": [
    "b"
   ]
  },
  {
   "cell_type": "code",
   "execution_count": 130,
   "metadata": {},
   "outputs": [
    {
     "data": {
      "text/plain": [
       "[8, -2]"
      ]
     },
     "execution_count": 130,
     "metadata": {},
     "output_type": "execute_result"
    }
   ],
   "source": [
    "[a,b]"
   ]
  },
  {
   "cell_type": "code",
   "execution_count": 131,
   "metadata": {},
   "outputs": [
    {
     "name": "stdout",
     "output_type": "stream",
     "text": [
      "하이 !!! 홍동우 님~\n"
     ]
    }
   ],
   "source": [
    "def func2(greeting, name):\n",
    "    print(greeting, '!!!', name, '님~')\n",
    "\n",
    "func2('하이','홍동우')"
   ]
  },
  {
   "cell_type": "code",
   "execution_count": 132,
   "metadata": {},
   "outputs": [
    {
     "name": "stdout",
     "output_type": "stream",
     "text": [
      "홍동우 !!! 굿애프터눈 님~\n"
     ]
    }
   ],
   "source": [
    "func2(\"홍동우\",\"굿애프터눈\")"
   ]
  },
  {
   "cell_type": "code",
   "execution_count": 133,
   "metadata": {},
   "outputs": [
    {
     "name": "stdout",
     "output_type": "stream",
     "text": [
      "굿모닝~ !!! 홍동우 님~\n"
     ]
    }
   ],
   "source": [
    "# 키워드 인자로 호출\n",
    "func2(name='홍동우', greeting='굿모닝~')"
   ]
  },
  {
   "cell_type": "code",
   "execution_count": 134,
   "metadata": {},
   "outputs": [
    {
     "name": "stdout",
     "output_type": "stream",
     "text": [
      "하이 !!! 홍동우 님~\n"
     ]
    }
   ],
   "source": [
    "def func3(greeting, name='홍동우'):\n",
    "    print(greeting, '!!!', name, '님~')\n",
    "\n",
    "func3('하이')"
   ]
  },
  {
   "cell_type": "code",
   "execution_count": 136,
   "metadata": {},
   "outputs": [
    {
     "data": {
      "text/plain": [
       "9"
      ]
     },
     "execution_count": 136,
     "metadata": {},
     "output_type": "execute_result"
    }
   ],
   "source": [
    "# *args 키워드(위치 인자 모으기)\n",
    "def func4(a,b,c=0,*args):   # *args : 인자의 개수를 모를 때(튜플로 들어감)\n",
    "    sum = a+b+c\n",
    "    for i in args:\n",
    "        sum += i;   #sum = sum + i\n",
    "    return sum\n",
    "\n",
    "func4(4,5)"
   ]
  },
  {
   "cell_type": "code",
   "execution_count": 137,
   "metadata": {},
   "outputs": [
    {
     "data": {
      "text/plain": [
       "15"
      ]
     },
     "execution_count": 137,
     "metadata": {},
     "output_type": "execute_result"
    }
   ],
   "source": [
    "func4(4,5,6)"
   ]
  },
  {
   "cell_type": "code",
   "execution_count": 138,
   "metadata": {},
   "outputs": [
    {
     "data": {
      "text/plain": [
       "39"
      ]
     },
     "execution_count": 138,
     "metadata": {},
     "output_type": "execute_result"
    }
   ],
   "source": [
    "func4(4,5,6,7,8,9)"
   ]
  },
  {
   "cell_type": "code",
   "execution_count": 141,
   "metadata": {},
   "outputs": [
    {
     "data": {
      "text/plain": [
       "39"
      ]
     },
     "execution_count": 141,
     "metadata": {},
     "output_type": "execute_result"
    }
   ],
   "source": [
    "# **kwargs 키워드(키워드 인자로만 전달할 때) : 딕셔너리형으로 들어감\n",
    "def func5(a,b,c=100, *args, **kwargs):\n",
    "    #print(args)\n",
    "    #print(kwargs)\n",
    "    sum = a+b+c\n",
    "    for i in args:\n",
    "        sum += i\n",
    "    for k in kwargs:\n",
    "        sum += kwargs[k]\n",
    "    return sum\n",
    "\n",
    "#func5(10,20,30,40)\n",
    "func5(1,2,3,4,kor=10, eng=9, mat=10) #함수에 추가적인 값을 키워드로 호출하고자 할 때 사용"
   ]
  },
  {
   "cell_type": "code",
   "execution_count": 149,
   "metadata": {},
   "outputs": [
    {
     "name": "stdout",
     "output_type": "stream",
     "text": [
      "case-2 함수\n"
     ]
    }
   ],
   "source": [
    "# 함수도 객체이다(함수도 데이터가 될 수 있다)\n",
    "def case1():\n",
    "    print('case-1 함수')\n",
    "def case2():\n",
    "    print('case-2 함수')\n",
    "def case3():\n",
    "    print('case-3 함수')\n",
    "          \n",
    "f = {'a1' : case1, 'a2' : case2, 'a3' : case3}\n",
    "f['a2']()"
   ]
  },
  {
   "cell_type": "code",
   "execution_count": 150,
   "metadata": {},
   "outputs": [
    {
     "name": "stdout",
     "output_type": "stream",
     "text": [
      "1> 지역\n",
      "2> 지역\n"
     ]
    }
   ],
   "source": [
    "# 전역변수와 지역변수\n",
    "temp = '글로벌'\n",
    "def func():\n",
    "    #print(temp)\n",
    "    #temp = '지역'      # 새로 선언\n",
    "    global temp\n",
    "    temp = '지역'\n",
    "    print('1>', temp)     \n",
    "func()\n",
    "print('2>',temp) \n",
    "    "
   ]
  },
  {
   "cell_type": "code",
   "execution_count": 174,
   "metadata": {},
   "outputs": [
    {
     "name": "stdout",
     "output_type": "stream",
     "text": [
      "2 * 1 = 2\t4 * 1 = 4\t6 * 1 = 6\t8 * 1 = 8\n",
      "2 * 2 = 4\t4 * 2 = 8\t6 * 2 = 12\t8 * 2 = 16\n",
      "2 * 3 = 6\t4 * 3 = 12\t6 * 3 = 18\t8 * 3 = 24\n",
      "2 * 4 = 8\t4 * 4 = 16\t6 * 4 = 24\t8 * 4 = 32\n",
      "2 * 5 = 10\t4 * 5 = 20\t6 * 5 = 30\t8 * 5 = 40\n",
      "2 * 6 = 12\t4 * 6 = 24\t6 * 6 = 36\t8 * 6 = 48\n",
      "2 * 7 = 14\t4 * 7 = 28\t6 * 7 = 42\t8 * 7 = 56\n",
      "2 * 8 = 16\t4 * 8 = 32\t6 * 8 = 48\t8 * 8 = 64\n",
      "2 * 9 = 18\t4 * 9 = 36\t6 * 9 = 54\t8 * 9 = 72\n"
     ]
    }
   ],
   "source": [
    "for i in range(1,10):\n",
    "    for a in range(2,10,2):\n",
    "        print('{} * {} = {}'.format(a,i,i*a), end='\\t' if a < 8 else \"\\n\")"
   ]
  },
  {
   "cell_type": "code",
   "execution_count": null,
   "metadata": {},
   "outputs": [],
   "source": []
  }
 ],
 "metadata": {
  "kernelspec": {
   "display_name": "Python 3",
   "language": "python",
   "name": "python3"
  },
  "language_info": {
   "codemirror_mode": {
    "name": "ipython",
    "version": 3
   },
   "file_extension": ".py",
   "mimetype": "text/x-python",
   "name": "python",
   "nbconvert_exporter": "python",
   "pygments_lexer": "ipython3",
   "version": "3.11.3"
  }
 },
 "nbformat": 4,
 "nbformat_minor": 2
}
