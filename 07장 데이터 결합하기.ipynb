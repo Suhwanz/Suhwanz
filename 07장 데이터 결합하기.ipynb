{
 "cells": [
  {
   "cell_type": "markdown",
   "id": "7e076faf",
   "metadata": {},
   "source": [
    "## 07-1 데이터 묶어 분석하기"
   ]
  },
  {
   "cell_type": "markdown",
   "id": "0b48f47d",
   "metadata": {},
   "source": [
    "- 테이블 2 개 연결\n",
    "- 이미 나누어져 있는 테이블 여러개를 연결"
   ]
  },
  {
   "cell_type": "markdown",
   "id": "843b4f24",
   "metadata": {},
   "source": [
    "## 07-2 데이터 연결하기"
   ]
  },
  {
   "cell_type": "markdown",
   "id": "fd00e086",
   "metadata": {},
   "source": [
    "- concatenation"
   ]
  },
  {
   "cell_type": "code",
   "execution_count": 4,
   "id": "10efb532",
   "metadata": {},
   "outputs": [
    {
     "name": "stdout",
     "output_type": "stream",
     "text": [
      "    A   B   C   D\n",
      "0  a0  b0  c0  d0\n",
      "1  a1  b1  c1  d1\n",
      "2  a2  b2  c2  d2\n",
      "3  a3  b3  c3  d3\n"
     ]
    }
   ],
   "source": [
    "import pandas as pd\n",
    "\n",
    "df1 = pd.read_csv('C:/python/do_it_pandas-main/do_it_pandas-main/data/concat_1.csv')\n",
    "df2 = pd.read_csv('C:/python/do_it_pandas-main/do_it_pandas-main/data/concat_2.csv')\n",
    "df3 = pd.read_csv('C:/python/do_it_pandas-main/do_it_pandas-main/data/concat_3.csv')\n",
    "print(df1)"
   ]
  },
  {
   "cell_type": "code",
   "execution_count": 5,
   "id": "267c066b",
   "metadata": {},
   "outputs": [
    {
     "name": "stdout",
     "output_type": "stream",
     "text": [
      "    A   B   C   D\n",
      "0  a4  b4  c4  d4\n",
      "1  a5  b5  c5  d5\n",
      "2  a6  b6  c6  d6\n",
      "3  a7  b7  c7  d7\n"
     ]
    }
   ],
   "source": [
    "print(df2)"
   ]
  },
  {
   "cell_type": "code",
   "execution_count": 6,
   "id": "8ab46c99",
   "metadata": {},
   "outputs": [
    {
     "name": "stdout",
     "output_type": "stream",
     "text": [
      "     A    B    C    D\n",
      "0   a8   b8   c8   d8\n",
      "1   a9   b9   c9   d9\n",
      "2  a10  b10  c10  d10\n",
      "3  a11  b11  c11  d11\n"
     ]
    }
   ],
   "source": [
    "print(df3)"
   ]
  },
  {
   "cell_type": "markdown",
   "id": "0cc4c121",
   "metadata": {},
   "source": [
    "### `데이터프레임 살펴보기`"
   ]
  },
  {
   "cell_type": "code",
   "execution_count": 7,
   "id": "6893f715",
   "metadata": {},
   "outputs": [
    {
     "name": "stdout",
     "output_type": "stream",
     "text": [
      "RangeIndex(start=0, stop=4, step=1)\n"
     ]
    }
   ],
   "source": [
    "print(df1.index)"
   ]
  },
  {
   "cell_type": "code",
   "execution_count": 8,
   "id": "d23613af",
   "metadata": {},
   "outputs": [
    {
     "name": "stdout",
     "output_type": "stream",
     "text": [
      "Index(['A', 'B', 'C', 'D'], dtype='object')\n"
     ]
    }
   ],
   "source": [
    "print(df1.columns)"
   ]
  },
  {
   "cell_type": "markdown",
   "id": "3a9d207e",
   "metadata": {},
   "source": [
    "- .values\n",
    "  - numpy ndarray 를 반환"
   ]
  },
  {
   "cell_type": "code",
   "execution_count": 9,
   "id": "9c5782c4",
   "metadata": {},
   "outputs": [
    {
     "name": "stdout",
     "output_type": "stream",
     "text": [
      "[['a0' 'b0' 'c0' 'd0']\n",
      " ['a1' 'b1' 'c1' 'd1']\n",
      " ['a2' 'b2' 'c2' 'd2']\n",
      " ['a3' 'b3' 'c3' 'd3']]\n"
     ]
    }
   ],
   "source": [
    "print(df1.values)"
   ]
  },
  {
   "cell_type": "markdown",
   "id": "a862a1e7",
   "metadata": {},
   "source": [
    "### `concat`"
   ]
  },
  {
   "cell_type": "markdown",
   "id": "10f45c82",
   "metadata": {},
   "source": [
    "- .concat()\n",
    "  - ignore_index : 인덱스 재 설정\n",
    "  - axis : 연결할 방향 설정\n",
    "    - 0 or 'index'\n",
    "    - 1 or 'columns'\n",
    "  - join : 연결할 방법 설정\n",
    "    - 'outer' - 모든 열을 유지 - 합집합\n",
    "    - 'inner' - 공통된 열만 유지 - 교집합\n"
   ]
  },
  {
   "cell_type": "markdown",
   "id": "815bcb9f",
   "metadata": {},
   "source": [
    "### `행 연결하기`"
   ]
  },
  {
   "cell_type": "markdown",
   "id": "c627b196",
   "metadata": {},
   "source": [
    "#### [Do It! 실습] 행 방향 연결하기"
   ]
  },
  {
   "cell_type": "code",
   "execution_count": 10,
   "id": "2abc3648",
   "metadata": {},
   "outputs": [
    {
     "name": "stdout",
     "output_type": "stream",
     "text": [
      "     A    B    C    D\n",
      "0   a0   b0   c0   d0\n",
      "1   a1   b1   c1   d1\n",
      "2   a2   b2   c2   d2\n",
      "3   a3   b3   c3   d3\n",
      "0   a4   b4   c4   d4\n",
      "1   a5   b5   c5   d5\n",
      "2   a6   b6   c6   d6\n",
      "3   a7   b7   c7   d7\n",
      "0   a8   b8   c8   d8\n",
      "1   a9   b9   c9   d9\n",
      "2  a10  b10  c10  d10\n",
      "3  a11  b11  c11  d11\n"
     ]
    }
   ],
   "source": [
    "row_concat = pd.concat([df1, df2, df3])\n",
    "print(row_concat)"
   ]
  },
  {
   "cell_type": "code",
   "execution_count": 11,
   "id": "2922ab72",
   "metadata": {},
   "outputs": [
    {
     "name": "stdout",
     "output_type": "stream",
     "text": [
      "A    a3\n",
      "B    b3\n",
      "C    c3\n",
      "D    d3\n",
      "Name: 3, dtype: object\n"
     ]
    }
   ],
   "source": [
    "print(row_concat.iloc[3, :])"
   ]
  },
  {
   "cell_type": "code",
   "execution_count": 12,
   "id": "41b14525",
   "metadata": {},
   "outputs": [
    {
     "name": "stdout",
     "output_type": "stream",
     "text": [
      "0    n1\n",
      "1    n2\n",
      "2    n3\n",
      "3    n4\n",
      "dtype: object\n"
     ]
    }
   ],
   "source": [
    "new_row_series = pd.Series(['n1', 'n2', 'n3', 'n4'])\n",
    "print(new_row_series)"
   ]
  },
  {
   "cell_type": "code",
   "execution_count": 13,
   "id": "9d86a0d3",
   "metadata": {},
   "outputs": [
    {
     "name": "stdout",
     "output_type": "stream",
     "text": [
      "     A    B    C    D    0\n",
      "0   a0   b0   c0   d0  NaN\n",
      "1   a1   b1   c1   d1  NaN\n",
      "2   a2   b2   c2   d2  NaN\n",
      "3   a3   b3   c3   d3  NaN\n",
      "0  NaN  NaN  NaN  NaN   n1\n",
      "1  NaN  NaN  NaN  NaN   n2\n",
      "2  NaN  NaN  NaN  NaN   n3\n",
      "3  NaN  NaN  NaN  NaN   n4\n"
     ]
    }
   ],
   "source": [
    "print(pd.concat([df1, new_row_series]))"
   ]
  },
  {
   "cell_type": "code",
   "execution_count": 14,
   "id": "3e293424",
   "metadata": {},
   "outputs": [
    {
     "name": "stdout",
     "output_type": "stream",
     "text": [
      "    A   B   C   D\n",
      "0  n1  n2  n3  n4\n"
     ]
    }
   ],
   "source": [
    "new_row_df = pd.DataFrame(\n",
    "    data=[[\"n1\", \"n2\", \"n3\", \"n4\"]],\n",
    "    columns=[\"A\", \"B\", \"C\", \"D\"],\n",
    ")\n",
    "print(new_row_df)"
   ]
  },
  {
   "cell_type": "code",
   "execution_count": 15,
   "id": "1ee7f383",
   "metadata": {},
   "outputs": [
    {
     "name": "stdout",
     "output_type": "stream",
     "text": [
      "    A   B   C   D\n",
      "0  a0  b0  c0  d0\n",
      "1  a1  b1  c1  d1\n",
      "2  a2  b2  c2  d2\n",
      "3  a3  b3  c3  d3\n",
      "0  n1  n2  n3  n4\n"
     ]
    }
   ],
   "source": [
    "print(pd.concat([df1, new_row_df]))"
   ]
  },
  {
   "cell_type": "markdown",
   "id": "7b4955d9",
   "metadata": {},
   "source": [
    "#### [Do It! 실습] 새로운 인덱스 설정하기"
   ]
  },
  {
   "cell_type": "code",
   "execution_count": 16,
   "id": "390ad50d",
   "metadata": {},
   "outputs": [
    {
     "name": "stdout",
     "output_type": "stream",
     "text": [
      "      A    B    C    D\n",
      "0    a0   b0   c0   d0\n",
      "1    a1   b1   c1   d1\n",
      "2    a2   b2   c2   d2\n",
      "3    a3   b3   c3   d3\n",
      "4    a4   b4   c4   d4\n",
      "5    a5   b5   c5   d5\n",
      "6    a6   b6   c6   d6\n",
      "7    a7   b7   c7   d7\n",
      "8    a8   b8   c8   d8\n",
      "9    a9   b9   c9   d9\n",
      "10  a10  b10  c10  d10\n",
      "11  a11  b11  c11  d11\n"
     ]
    }
   ],
   "source": [
    "row_concat_i = pd.concat([df1, df2, df3], ignore_index=True)\n",
    "print(row_concat_i)"
   ]
  },
  {
   "cell_type": "markdown",
   "id": "f1918aae",
   "metadata": {},
   "source": [
    "### `열 연결하기`"
   ]
  },
  {
   "cell_type": "markdown",
   "id": "54a72755",
   "metadata": {},
   "source": [
    "#### [Do It! 실습] 열 방향 연결하기"
   ]
  },
  {
   "cell_type": "code",
   "execution_count": 17,
   "id": "b79dd343",
   "metadata": {},
   "outputs": [
    {
     "name": "stdout",
     "output_type": "stream",
     "text": [
      "    A   B   C   D   A   B   C   D    A    B    C    D\n",
      "0  a0  b0  c0  d0  a4  b4  c4  d4   a8   b8   c8   d8\n",
      "1  a1  b1  c1  d1  a5  b5  c5  d5   a9   b9   c9   d9\n",
      "2  a2  b2  c2  d2  a6  b6  c6  d6  a10  b10  c10  d10\n",
      "3  a3  b3  c3  d3  a7  b7  c7  d7  a11  b11  c11  d11\n"
     ]
    }
   ],
   "source": [
    "col_concat = pd.concat([df1, df2, df3], axis=\"columns\")\n",
    "print(col_concat)"
   ]
  },
  {
   "cell_type": "code",
   "execution_count": 18,
   "id": "73dc2681",
   "metadata": {},
   "outputs": [
    {
     "name": "stdout",
     "output_type": "stream",
     "text": [
      "    A   A    A\n",
      "0  a0  a4   a8\n",
      "1  a1  a5   a9\n",
      "2  a2  a6  a10\n",
      "3  a3  a7  a11\n"
     ]
    }
   ],
   "source": [
    "print(col_concat['A'])"
   ]
  },
  {
   "cell_type": "code",
   "execution_count": 19,
   "id": "4518c5d2",
   "metadata": {},
   "outputs": [
    {
     "name": "stdout",
     "output_type": "stream",
     "text": [
      "    A   B   C   D   A   B   C   D    A    B    C    D new_col_list\n",
      "0  a0  b0  c0  d0  a4  b4  c4  d4   a8   b8   c8   d8           n1\n",
      "1  a1  b1  c1  d1  a5  b5  c5  d5   a9   b9   c9   d9           n2\n",
      "2  a2  b2  c2  d2  a6  b6  c6  d6  a10  b10  c10  d10           n3\n",
      "3  a3  b3  c3  d3  a7  b7  c7  d7  a11  b11  c11  d11           n4\n"
     ]
    }
   ],
   "source": [
    "col_concat['new_col_list'] = ['n1', 'n2', 'n3', 'n4']\n",
    "print(col_concat)"
   ]
  },
  {
   "cell_type": "code",
   "execution_count": 20,
   "id": "bd01b7d5",
   "metadata": {},
   "outputs": [
    {
     "name": "stdout",
     "output_type": "stream",
     "text": [
      "    A   B   C   D   A   B   C   D    A    B    C    D new_col_list  \\\n",
      "0  a0  b0  c0  d0  a4  b4  c4  d4   a8   b8   c8   d8           n1   \n",
      "1  a1  b1  c1  d1  a5  b5  c5  d5   a9   b9   c9   d9           n2   \n",
      "2  a2  b2  c2  d2  a6  b6  c6  d6  a10  b10  c10  d10           n3   \n",
      "3  a3  b3  c3  d3  a7  b7  c7  d7  a11  b11  c11  d11           n4   \n",
      "\n",
      "  new_col_series  \n",
      "0             n1  \n",
      "1             n2  \n",
      "2             n3  \n",
      "3             n4  \n"
     ]
    }
   ],
   "source": [
    "col_concat['new_col_series'] = pd.Series(['n1', 'n2', 'n3', 'n4'])\n",
    "print(col_concat)"
   ]
  },
  {
   "cell_type": "code",
   "execution_count": 21,
   "id": "3d8280ee",
   "metadata": {},
   "outputs": [
    {
     "name": "stdout",
     "output_type": "stream",
     "text": [
      "   0   1   2   3   4   5   6   7    8    9    10   11\n",
      "0  a0  b0  c0  d0  a4  b4  c4  d4   a8   b8   c8   d8\n",
      "1  a1  b1  c1  d1  a5  b5  c5  d5   a9   b9   c9   d9\n",
      "2  a2  b2  c2  d2  a6  b6  c6  d6  a10  b10  c10  d10\n",
      "3  a3  b3  c3  d3  a7  b7  c7  d7  a11  b11  c11  d11\n"
     ]
    }
   ],
   "source": [
    "print(pd.concat([df1, df2, df3], axis=\"columns\", ignore_index=True))"
   ]
  },
  {
   "cell_type": "markdown",
   "id": "15d09cf1",
   "metadata": {},
   "source": [
    "### `인덱스나 열 이름이 다른 데이터 연결하기`"
   ]
  },
  {
   "cell_type": "markdown",
   "id": "618eb675",
   "metadata": {},
   "source": [
    "#### [Do It! 실습] 열 이름이 다른 데이터 행 방향 연결하기"
   ]
  },
  {
   "cell_type": "code",
   "execution_count": 22,
   "id": "9161a770",
   "metadata": {},
   "outputs": [
    {
     "name": "stdout",
     "output_type": "stream",
     "text": [
      "    A   B   C   D\n",
      "0  a0  b0  c0  d0\n",
      "1  a1  b1  c1  d1\n",
      "2  a2  b2  c2  d2\n",
      "3  a3  b3  c3  d3\n"
     ]
    }
   ],
   "source": [
    "df1.columns = ['A', 'B', 'C', 'D']\n",
    "df2.columns = ['E', 'F', 'G', 'H']\n",
    "df3.columns = ['A', 'C', 'F', 'H']\n",
    "print(df1)"
   ]
  },
  {
   "cell_type": "code",
   "execution_count": 23,
   "id": "4dddcc0a",
   "metadata": {},
   "outputs": [
    {
     "name": "stdout",
     "output_type": "stream",
     "text": [
      "    E   F   G   H\n",
      "0  a4  b4  c4  d4\n",
      "1  a5  b5  c5  d5\n",
      "2  a6  b6  c6  d6\n",
      "3  a7  b7  c7  d7\n",
      "     A    C    F    H\n",
      "0   a8   b8   c8   d8\n",
      "1   a9   b9   c9   d9\n",
      "2  a10  b10  c10  d10\n",
      "3  a11  b11  c11  d11\n"
     ]
    }
   ],
   "source": [
    "print(df2)\n",
    "print(df3)"
   ]
  },
  {
   "cell_type": "code",
   "execution_count": 24,
   "id": "34ad8d78",
   "metadata": {},
   "outputs": [
    {
     "name": "stdout",
     "output_type": "stream",
     "text": [
      "     A    B    C    D    E    F    G    H\n",
      "0   a0   b0   c0   d0  NaN  NaN  NaN  NaN\n",
      "1   a1   b1   c1   d1  NaN  NaN  NaN  NaN\n",
      "2   a2   b2   c2   d2  NaN  NaN  NaN  NaN\n",
      "3   a3   b3   c3   d3  NaN  NaN  NaN  NaN\n",
      "0  NaN  NaN  NaN  NaN   a4   b4   c4   d4\n",
      "1  NaN  NaN  NaN  NaN   a5   b5   c5   d5\n",
      "2  NaN  NaN  NaN  NaN   a6   b6   c6   d6\n",
      "3  NaN  NaN  NaN  NaN   a7   b7   c7   d7\n",
      "0   a8  NaN   b8  NaN  NaN   c8  NaN   d8\n",
      "1   a9  NaN   b9  NaN  NaN   c9  NaN   d9\n",
      "2  a10  NaN  b10  NaN  NaN  c10  NaN  d10\n",
      "3  a11  NaN  b11  NaN  NaN  c11  NaN  d11\n"
     ]
    }
   ],
   "source": [
    "row_concat = pd.concat([df1, df2, df3])\n",
    "print(row_concat)"
   ]
  },
  {
   "cell_type": "code",
   "execution_count": 25,
   "id": "265cc328",
   "metadata": {},
   "outputs": [
    {
     "name": "stdout",
     "output_type": "stream",
     "text": [
      "Empty DataFrame\n",
      "Columns: []\n",
      "Index: [0, 1, 2, 3, 0, 1, 2, 3, 0, 1, 2, 3]\n"
     ]
    }
   ],
   "source": [
    "print(pd.concat([df1, df2, df3], join='inner'))"
   ]
  },
  {
   "cell_type": "code",
   "execution_count": 26,
   "id": "d1174514",
   "metadata": {},
   "outputs": [
    {
     "name": "stdout",
     "output_type": "stream",
     "text": [
      "     A    C\n",
      "0   a0   c0\n",
      "1   a1   c1\n",
      "2   a2   c2\n",
      "3   a3   c3\n",
      "0   a8   b8\n",
      "1   a9   b9\n",
      "2  a10  b10\n",
      "3  a11  b11\n"
     ]
    }
   ],
   "source": [
    "print(pd.concat([df1,df3], ignore_index=False, join='inner'))"
   ]
  },
  {
   "cell_type": "markdown",
   "id": "4a7e1599",
   "metadata": {},
   "source": [
    "#### [Do It! 실습] 인덱스가 다른 데이터 열 방향 연결하기"
   ]
  },
  {
   "cell_type": "code",
   "execution_count": 27,
   "id": "e0a391ac",
   "metadata": {},
   "outputs": [
    {
     "name": "stdout",
     "output_type": "stream",
     "text": [
      "    A   B   C   D\n",
      "0  a0  b0  c0  d0\n",
      "1  a1  b1  c1  d1\n",
      "2  a2  b2  c2  d2\n",
      "3  a3  b3  c3  d3\n"
     ]
    }
   ],
   "source": [
    "df1.index = [0, 1, 2, 3]\n",
    "df2.index = [4, 5, 6, 7]\n",
    "df3.index = [0, 2, 5, 7]\n",
    "print(df1)"
   ]
  },
  {
   "cell_type": "code",
   "execution_count": 28,
   "id": "6b011be1",
   "metadata": {},
   "outputs": [
    {
     "name": "stdout",
     "output_type": "stream",
     "text": [
      "    E   F   G   H\n",
      "4  a4  b4  c4  d4\n",
      "5  a5  b5  c5  d5\n",
      "6  a6  b6  c6  d6\n",
      "7  a7  b7  c7  d7\n",
      "     A    C    F    H\n",
      "0   a8   b8   c8   d8\n",
      "2   a9   b9   c9   d9\n",
      "5  a10  b10  c10  d10\n",
      "7  a11  b11  c11  d11\n"
     ]
    }
   ],
   "source": [
    "print(df2)\n",
    "print(df3)"
   ]
  },
  {
   "cell_type": "code",
   "execution_count": 29,
   "id": "81e047f2",
   "metadata": {},
   "outputs": [
    {
     "name": "stdout",
     "output_type": "stream",
     "text": [
      "     A    B    C    D    E    F    G    H    A    C    F    H\n",
      "0   a0   b0   c0   d0  NaN  NaN  NaN  NaN   a8   b8   c8   d8\n",
      "1   a1   b1   c1   d1  NaN  NaN  NaN  NaN  NaN  NaN  NaN  NaN\n",
      "2   a2   b2   c2   d2  NaN  NaN  NaN  NaN   a9   b9   c9   d9\n",
      "3   a3   b3   c3   d3  NaN  NaN  NaN  NaN  NaN  NaN  NaN  NaN\n",
      "4  NaN  NaN  NaN  NaN   a4   b4   c4   d4  NaN  NaN  NaN  NaN\n",
      "5  NaN  NaN  NaN  NaN   a5   b5   c5   d5  a10  b10  c10  d10\n",
      "6  NaN  NaN  NaN  NaN   a6   b6   c6   d6  NaN  NaN  NaN  NaN\n",
      "7  NaN  NaN  NaN  NaN   a7   b7   c7   d7  a11  b11  c11  d11\n"
     ]
    }
   ],
   "source": [
    "col_concat = pd.concat([df1, df2, df3], axis=\"columns\")\n",
    "print(col_concat)"
   ]
  },
  {
   "cell_type": "code",
   "execution_count": 30,
   "id": "d97cd168",
   "metadata": {},
   "outputs": [
    {
     "name": "stdout",
     "output_type": "stream",
     "text": [
      "    A   B   C   D   A   C   F   H\n",
      "0  a0  b0  c0  d0  a8  b8  c8  d8\n",
      "2  a2  b2  c2  d2  a9  b9  c9  d9\n"
     ]
    }
   ],
   "source": [
    "print(pd.concat([df1, df3], axis=\"columns\", join='inner'))"
   ]
  },
  {
   "cell_type": "markdown",
   "id": "7f674297",
   "metadata": {},
   "source": [
    "## 07-3 분할된 데이터 연결하기"
   ]
  },
  {
   "cell_type": "markdown",
   "id": "1c008867",
   "metadata": {},
   "source": [
    "#### [Do It! 실습] 여러 개의 파일로 분할된 데이터 연결하기"
   ]
  },
  {
   "cell_type": "code",
   "execution_count": 31,
   "id": "4aa43b92",
   "metadata": {},
   "outputs": [
    {
     "name": "stdout",
     "output_type": "stream",
     "text": [
      "[]\n"
     ]
    }
   ],
   "source": [
    "from pathlib import Path\n",
    "\n",
    "billboard_data_files = (\n",
    "    Path(\".\")\n",
    "    .glob(\"../data/billboard-by_week/billboard-*.csv\")\n",
    ")\n",
    "\n",
    "billboard_data_files = sorted(list(billboard_data_files))\n",
    "print(billboard_data_files)"
   ]
  },
  {
   "cell_type": "code",
   "execution_count": null,
   "id": "f4b3c1eb",
   "metadata": {},
   "outputs": [],
   "source": [
    "billboard_data_files = list(billboard_data_files)"
   ]
  },
  {
   "cell_type": "code",
   "execution_count": null,
   "id": "7573b16f",
   "metadata": {},
   "outputs": [],
   "source": [
    "billboard01 = pd.read_csv(billboard_data_files[0])\n",
    "billboard02 = pd.read_csv(billboard_data_files[1])\n",
    "billboard03 = pd.read_csv(billboard_data_files[2])\n",
    "print(billboard01)"
   ]
  },
  {
   "cell_type": "code",
   "execution_count": null,
   "id": "c260d307",
   "metadata": {},
   "outputs": [],
   "source": [
    "# 각 데이터프레임의 shape 확인\n",
    "print(billboard01.shape)\n",
    "print(billboard02.shape)\n",
    "print(billboard03.shape)"
   ]
  },
  {
   "cell_type": "code",
   "execution_count": null,
   "id": "39687b37",
   "metadata": {},
   "outputs": [],
   "source": [
    "billboard = pd.concat([billboard01, billboard02, billboard03])\n",
    "# 연결한 데이터프레임의 shape 확인\n",
    "print(billboard.shape)"
   ]
  },
  {
   "cell_type": "code",
   "execution_count": null,
   "id": "34f89124",
   "metadata": {},
   "outputs": [],
   "source": [
    "assert (\n",
    "    billboard01.shape[0]\n",
    "    + billboard02.shape[0]\n",
    "    + billboard03.shape[0]\n",
    "    == billboard.shape[0]\n",
    ")"
   ]
  },
  {
   "cell_type": "markdown",
   "id": "81c66e8f",
   "metadata": {},
   "source": [
    "#### [Do It! 실습] 루프 구문으로 여러 개 파일 불러오기"
   ]
  },
  {
   "cell_type": "code",
   "execution_count": null,
   "id": "498de34e",
   "metadata": {},
   "outputs": [],
   "source": [
    "from pathlib import Path\n",
    "billboard_data_files = (\n",
    "    Path(\".\")\n",
    "    .glob(\"../data/billboard-by_week/billboard-*.csv\")\n",
    ")\n",
    "\n",
    "# 빈 리스트를 생성합니다.\n",
    "list_billboard_df = []\n",
    "\n",
    "# CSV 파일명 리스트를 순회합니다.\n",
    "for csv_filename in billboard_data_files:\n",
    "    # 필요하다면 아래 코드를 주석 해제하여 각 CSV 파일명을 출력하세요.\n",
    "    # print(csv_filename)\n",
    "    \n",
    "    # CSV 파일을 데이터프레임으로 불러옵니다.\n",
    "    df = pd.read_csv(csv_filename)\n",
    "    \n",
    "    # 데이터프레임을 리스트에 저장합니다.\n",
    "    list_billboard_df.append(df)\n",
    "\n",
    "# 데이터프레임의 개수를 출력합니다.\n",
    "print(len(list_billboard_df))"
   ]
  },
  {
   "cell_type": "code",
   "execution_count": null,
   "id": "88286137",
   "metadata": {},
   "outputs": [],
   "source": [
    "print(type(list_billboard_df[0]))"
   ]
  },
  {
   "cell_type": "code",
   "execution_count": null,
   "id": "2d4680f1",
   "metadata": {},
   "outputs": [],
   "source": [
    "print(list_billboard_df[0])"
   ]
  },
  {
   "cell_type": "code",
   "execution_count": null,
   "id": "2990eb50",
   "metadata": {},
   "outputs": [],
   "source": [
    "billboard_loop_concat = pd.concat(list_billboard_df)\n",
    "print(billboard_loop_concat.shape)"
   ]
  },
  {
   "cell_type": "markdown",
   "id": "9a0d7987",
   "metadata": {},
   "source": [
    "#### [Do It! 실습] 리스트 컴프리헨션으로 여러 개 파일 불러오기"
   ]
  },
  {
   "cell_type": "code",
   "execution_count": null,
   "id": "f0fc23f6",
   "metadata": {},
   "outputs": [],
   "source": [
    "billboard_data_files = (\n",
    "    Path(\".\")\n",
    "    .glob(\"../data/billboard-by_week/billboard-*.csv\")\n",
    ")\n",
    "\n",
    "list_billboard_df = []\n",
    "for csv_filename in billboard_data_files:\n",
    "    df = pd.read_csv(csv_filename)\n",
    "    list_billboard_df.append(df)\n",
    "\n",
    "billboard_data_files = (\n",
    "    Path(\".\")\n",
    "    .glob(\"../data/billboard-by_week/billboard-*.csv\")\n",
    ")\n",
    "\n",
    "billboard_dfs = [pd.read_csv(data) for data in billboard_data_files]"
   ]
  },
  {
   "cell_type": "code",
   "execution_count": null,
   "id": "f93c2f99",
   "metadata": {},
   "outputs": [],
   "source": [
    "print(type(billboard_dfs))"
   ]
  },
  {
   "cell_type": "code",
   "execution_count": null,
   "id": "f61dd10c",
   "metadata": {},
   "outputs": [],
   "source": [
    "print(len(billboard_dfs))"
   ]
  },
  {
   "cell_type": "code",
   "execution_count": null,
   "id": "63f2c817",
   "metadata": {},
   "outputs": [],
   "source": [
    "billboard_concat_comp = pd.concat(billboard_dfs)\n",
    "print(billboard_concat_comp)"
   ]
  },
  {
   "cell_type": "markdown",
   "id": "a4396da7",
   "metadata": {},
   "source": [
    "## 07-4 여러 데이터셋 병합하기"
   ]
  },
  {
   "cell_type": "code",
   "execution_count": 37,
   "id": "6d886c29",
   "metadata": {},
   "outputs": [
    {
     "name": "stdout",
     "output_type": "stream",
     "text": [
      "      ident   personal    family\n",
      "0      dyer    William      Dyer\n",
      "1        pb      Frank   Pabodie\n",
      "2      lake   Anderson      Lake\n",
      "3       roe  Valentina   Roerich\n",
      "4  danforth      Frank  Danforth\n"
     ]
    }
   ],
   "source": [
    "person = pd.read_csv('C:/python/do_it_pandas-main/do_it_pandas-main/data/survey_person.csv')\n",
    "site = pd.read_csv('C:/python/do_it_pandas-main/do_it_pandas-main/data/survey_site.csv')\n",
    "survey = pd.read_csv('C:/python/do_it_pandas-main/do_it_pandas-main/data/survey_survey.csv')\n",
    "visited = pd.read_csv('C:/python/do_it_pandas-main/do_it_pandas-main/data/survey_visited.csv')\n",
    "print(person)"
   ]
  },
  {
   "cell_type": "code",
   "execution_count": 38,
   "id": "d5c76176",
   "metadata": {},
   "outputs": [
    {
     "name": "stdout",
     "output_type": "stream",
     "text": [
      "    name    lat    long\n",
      "0   DR-1 -49.85 -128.57\n",
      "1   DR-3 -47.15 -126.72\n",
      "2  MSK-4 -48.87 -123.40\n"
     ]
    }
   ],
   "source": [
    "print(site)"
   ]
  },
  {
   "cell_type": "code",
   "execution_count": 39,
   "id": "b533743b",
   "metadata": {},
   "outputs": [
    {
     "name": "stdout",
     "output_type": "stream",
     "text": [
      "   ident   site       dated\n",
      "0    619   DR-1  1927-02-08\n",
      "1    622   DR-1  1927-02-10\n",
      "2    734   DR-3  1939-01-07\n",
      "3    735   DR-3  1930-01-12\n",
      "4    751   DR-3  1930-02-26\n",
      "5    752   DR-3         NaN\n",
      "6    837  MSK-4  1932-01-14\n",
      "7    844   DR-1  1932-03-22\n"
     ]
    }
   ],
   "source": [
    "print(visited)"
   ]
  },
  {
   "cell_type": "code",
   "execution_count": 40,
   "id": "a4890542",
   "metadata": {},
   "outputs": [
    {
     "name": "stdout",
     "output_type": "stream",
     "text": [
      "    taken person quant  reading\n",
      "0     619   dyer   rad     9.82\n",
      "1     619   dyer   sal     0.13\n",
      "2     622   dyer   rad     7.80\n",
      "3     622   dyer   sal     0.09\n",
      "4     734     pb   rad     8.41\n",
      "5     734   lake   sal     0.05\n",
      "6     734     pb  temp   -21.50\n",
      "7     735     pb   rad     7.22\n",
      "8     735    NaN   sal     0.06\n",
      "9     735    NaN  temp   -26.00\n",
      "10    751     pb   rad     4.35\n",
      "11    751     pb  temp   -18.50\n",
      "12    751   lake   sal     0.10\n",
      "13    752   lake   rad     2.19\n",
      "14    752   lake   sal     0.09\n",
      "15    752   lake  temp   -16.00\n",
      "16    752    roe   sal    41.60\n",
      "17    837   lake   rad     1.46\n",
      "18    837   lake   sal     0.21\n",
      "19    837    roe   sal    22.50\n",
      "20    844    roe   rad    11.25\n"
     ]
    }
   ],
   "source": [
    "print(survey)"
   ]
  },
  {
   "cell_type": "markdown",
   "id": "8fdcf10c",
   "metadata": {},
   "source": [
    "#### [Do It! 실습] 일대일 병합하기"
   ]
  },
  {
   "cell_type": "code",
   "execution_count": 5,
   "id": "1d5b378f",
   "metadata": {},
   "outputs": [
    {
     "name": "stdout",
     "output_type": "stream",
     "text": [
      "   ident   site       dated\n",
      "0    619   DR-1  1927-02-08\n",
      "2    734   DR-3  1939-01-07\n",
      "6    837  MSK-4  1932-01-14\n"
     ]
    }
   ],
   "source": [
    "visited_subset = visited.loc[[0, 2, 6], :]\n",
    "print(visited_subset)"
   ]
  },
  {
   "cell_type": "code",
   "execution_count": 6,
   "id": "2dd541ee",
   "metadata": {},
   "outputs": [
    {
     "name": "stdout",
     "output_type": "stream",
     "text": [
      "site\n",
      "DR-1     1\n",
      "DR-3     1\n",
      "MSK-4    1\n",
      "Name: count, dtype: int64\n"
     ]
    }
   ],
   "source": [
    "print(visited_subset[\"site\"].value_counts())"
   ]
  },
  {
   "cell_type": "code",
   "execution_count": 10,
   "id": "3d64debd",
   "metadata": {},
   "outputs": [
    {
     "data": {
      "text/html": [
       "<div>\n",
       "<style scoped>\n",
       "    .dataframe tbody tr th:only-of-type {\n",
       "        vertical-align: middle;\n",
       "    }\n",
       "\n",
       "    .dataframe tbody tr th {\n",
       "        vertical-align: top;\n",
       "    }\n",
       "\n",
       "    .dataframe thead th {\n",
       "        text-align: right;\n",
       "    }\n",
       "</style>\n",
       "<table border=\"1\" class=\"dataframe\">\n",
       "  <thead>\n",
       "    <tr style=\"text-align: right;\">\n",
       "      <th></th>\n",
       "      <th>ident</th>\n",
       "      <th>site</th>\n",
       "      <th>dated</th>\n",
       "    </tr>\n",
       "  </thead>\n",
       "  <tbody>\n",
       "    <tr>\n",
       "      <th>0</th>\n",
       "      <td>619</td>\n",
       "      <td>DR-1</td>\n",
       "      <td>1927-02-08</td>\n",
       "    </tr>\n",
       "    <tr>\n",
       "      <th>2</th>\n",
       "      <td>734</td>\n",
       "      <td>DR-3</td>\n",
       "      <td>1939-01-07</td>\n",
       "    </tr>\n",
       "    <tr>\n",
       "      <th>6</th>\n",
       "      <td>837</td>\n",
       "      <td>MSK-4</td>\n",
       "      <td>1932-01-14</td>\n",
       "    </tr>\n",
       "  </tbody>\n",
       "</table>\n",
       "</div>"
      ],
      "text/plain": [
       "   ident   site       dated\n",
       "0    619   DR-1  1927-02-08\n",
       "2    734   DR-3  1939-01-07\n",
       "6    837  MSK-4  1932-01-14"
      ]
     },
     "execution_count": 10,
     "metadata": {},
     "output_type": "execute_result"
    }
   ],
   "source": [
    "visited_subset.head()"
   ]
  },
  {
   "cell_type": "code",
   "execution_count": 9,
   "id": "e65d3a01",
   "metadata": {},
   "outputs": [
    {
     "name": "stdout",
     "output_type": "stream",
     "text": [
      "    name    lat    long  ident   site       dated\n",
      "0   DR-1 -49.85 -128.57    619   DR-1  1927-02-08\n",
      "1   DR-3 -47.15 -126.72    734   DR-3  1939-01-07\n",
      "2  MSK-4 -48.87 -123.40    837  MSK-4  1932-01-14\n"
     ]
    }
   ],
   "source": [
    "o2o_merge = site.merge(visited_subset, left_on=\"name\", right_on=\"site\")\n",
    "print(o2o_merge)"
   ]
  },
  {
   "cell_type": "markdown",
   "id": "548eddcf",
   "metadata": {},
   "source": [
    "#### [Do It! 실습] 다대일 병합하기"
   ]
  },
  {
   "cell_type": "code",
   "execution_count": 41,
   "id": "5d937ac9",
   "metadata": {},
   "outputs": [
    {
     "name": "stdout",
     "output_type": "stream",
     "text": [
      "site\n",
      "DR-3     4\n",
      "DR-1     3\n",
      "MSK-4    1\n",
      "Name: count, dtype: int64\n"
     ]
    }
   ],
   "source": [
    "print(visited[\"site\"].value_counts())"
   ]
  },
  {
   "cell_type": "code",
   "execution_count": 12,
   "id": "7278eaee",
   "metadata": {},
   "outputs": [
    {
     "name": "stdout",
     "output_type": "stream",
     "text": [
      "    name    lat    long  ident   site       dated\n",
      "0   DR-1 -49.85 -128.57    619   DR-1  1927-02-08\n",
      "1   DR-1 -49.85 -128.57    622   DR-1  1927-02-10\n",
      "2   DR-1 -49.85 -128.57    844   DR-1  1932-03-22\n",
      "3   DR-3 -47.15 -126.72    734   DR-3  1939-01-07\n",
      "4   DR-3 -47.15 -126.72    735   DR-3  1930-01-12\n",
      "5   DR-3 -47.15 -126.72    751   DR-3  1930-02-26\n",
      "6   DR-3 -47.15 -126.72    752   DR-3         NaN\n",
      "7  MSK-4 -48.87 -123.40    837  MSK-4  1932-01-14\n"
     ]
    }
   ],
   "source": [
    "m2o_merge = site.merge(visited, left_on='name', right_on='site')\n",
    "print(m2o_merge)"
   ]
  },
  {
   "cell_type": "markdown",
   "id": "c406d404",
   "metadata": {},
   "source": [
    "#### [Do It! 실습] 다대다 병합하기"
   ]
  },
  {
   "cell_type": "code",
   "execution_count": 43,
   "id": "0c8eb5c5",
   "metadata": {},
   "outputs": [
    {
     "name": "stdout",
     "output_type": "stream",
     "text": [
      "   ident   personal   family  taken person quant  reading\n",
      "0   dyer    William     Dyer    619   dyer   rad     9.82\n",
      "1   dyer    William     Dyer    619   dyer   sal     0.13\n",
      "2   dyer    William     Dyer    622   dyer   rad     7.80\n",
      "3   dyer    William     Dyer    622   dyer   sal     0.09\n",
      "4     pb      Frank  Pabodie    734     pb   rad     8.41\n",
      "5     pb      Frank  Pabodie    734     pb  temp   -21.50\n",
      "6     pb      Frank  Pabodie    735     pb   rad     7.22\n",
      "7     pb      Frank  Pabodie    751     pb   rad     4.35\n",
      "8     pb      Frank  Pabodie    751     pb  temp   -18.50\n",
      "9   lake   Anderson     Lake    734   lake   sal     0.05\n",
      "10  lake   Anderson     Lake    751   lake   sal     0.10\n",
      "11  lake   Anderson     Lake    752   lake   rad     2.19\n",
      "12  lake   Anderson     Lake    752   lake   sal     0.09\n",
      "13  lake   Anderson     Lake    752   lake  temp   -16.00\n",
      "14  lake   Anderson     Lake    837   lake   rad     1.46\n",
      "15  lake   Anderson     Lake    837   lake   sal     0.21\n",
      "16   roe  Valentina  Roerich    752    roe   sal    41.60\n",
      "17   roe  Valentina  Roerich    837    roe   sal    22.50\n",
      "18   roe  Valentina  Roerich    844    roe   rad    11.25\n"
     ]
    }
   ],
   "source": [
    "ps = person.merge(survey, left_on='ident', right_on='person')\n",
    "vs = visited.merge(survey, left_on='ident', right_on='taken')\n",
    "print(ps)"
   ]
  },
  {
   "cell_type": "code",
   "execution_count": 44,
   "id": "19c6dc70",
   "metadata": {},
   "outputs": [
    {
     "name": "stdout",
     "output_type": "stream",
     "text": [
      "    ident   site       dated  taken person quant  reading\n",
      "0     619   DR-1  1927-02-08    619   dyer   rad     9.82\n",
      "1     619   DR-1  1927-02-08    619   dyer   sal     0.13\n",
      "2     622   DR-1  1927-02-10    622   dyer   rad     7.80\n",
      "3     622   DR-1  1927-02-10    622   dyer   sal     0.09\n",
      "4     734   DR-3  1939-01-07    734     pb   rad     8.41\n",
      "5     734   DR-3  1939-01-07    734   lake   sal     0.05\n",
      "6     734   DR-3  1939-01-07    734     pb  temp   -21.50\n",
      "7     735   DR-3  1930-01-12    735     pb   rad     7.22\n",
      "8     735   DR-3  1930-01-12    735    NaN   sal     0.06\n",
      "9     735   DR-3  1930-01-12    735    NaN  temp   -26.00\n",
      "10    751   DR-3  1930-02-26    751     pb   rad     4.35\n",
      "11    751   DR-3  1930-02-26    751     pb  temp   -18.50\n",
      "12    751   DR-3  1930-02-26    751   lake   sal     0.10\n",
      "13    752   DR-3         NaN    752   lake   rad     2.19\n",
      "14    752   DR-3         NaN    752   lake   sal     0.09\n",
      "15    752   DR-3         NaN    752   lake  temp   -16.00\n",
      "16    752   DR-3         NaN    752    roe   sal    41.60\n",
      "17    837  MSK-4  1932-01-14    837   lake   rad     1.46\n",
      "18    837  MSK-4  1932-01-14    837   lake   sal     0.21\n",
      "19    837  MSK-4  1932-01-14    837    roe   sal    22.50\n",
      "20    844   DR-1  1932-03-22    844    roe   rad    11.25\n"
     ]
    }
   ],
   "source": [
    "print(vs)"
   ]
  },
  {
   "cell_type": "code",
   "execution_count": 45,
   "id": "1a9d3416",
   "metadata": {},
   "outputs": [
    {
     "name": "stdout",
     "output_type": "stream",
     "text": [
      "quant\n",
      "rad     8\n",
      "sal     8\n",
      "temp    3\n",
      "Name: count, dtype: int64\n"
     ]
    }
   ],
   "source": [
    "print(ps[\"quant\"].value_counts())"
   ]
  },
  {
   "cell_type": "code",
   "execution_count": 46,
   "id": "6ef5ed0d",
   "metadata": {},
   "outputs": [
    {
     "name": "stdout",
     "output_type": "stream",
     "text": [
      "quant\n",
      "sal     9\n",
      "rad     8\n",
      "temp    4\n",
      "Name: count, dtype: int64\n"
     ]
    }
   ],
   "source": [
    "print(vs[\"quant\"].value_counts())"
   ]
  },
  {
   "cell_type": "markdown",
   "id": "9052da59",
   "metadata": {},
   "source": [
    "- 중복된 열 이름에 자동으로 접미사 추가\n",
    "  - 중복 키가 있다면 다대다 병합은 할 필요가 없음 -> 혼선을 야기함"
   ]
  },
  {
   "cell_type": "code",
   "execution_count": 17,
   "id": "c73fdc43",
   "metadata": {},
   "outputs": [
    {
     "data": {
      "text/html": [
       "<div>\n",
       "<style scoped>\n",
       "    .dataframe tbody tr th:only-of-type {\n",
       "        vertical-align: middle;\n",
       "    }\n",
       "\n",
       "    .dataframe tbody tr th {\n",
       "        vertical-align: top;\n",
       "    }\n",
       "\n",
       "    .dataframe thead th {\n",
       "        text-align: right;\n",
       "    }\n",
       "</style>\n",
       "<table border=\"1\" class=\"dataframe\">\n",
       "  <thead>\n",
       "    <tr style=\"text-align: right;\">\n",
       "      <th></th>\n",
       "      <th>ident_x</th>\n",
       "      <th>personal</th>\n",
       "      <th>family</th>\n",
       "      <th>taken_x</th>\n",
       "      <th>person_x</th>\n",
       "      <th>quant</th>\n",
       "      <th>reading_x</th>\n",
       "      <th>ident_y</th>\n",
       "      <th>site</th>\n",
       "      <th>dated</th>\n",
       "      <th>taken_y</th>\n",
       "      <th>person_y</th>\n",
       "      <th>reading_y</th>\n",
       "    </tr>\n",
       "  </thead>\n",
       "  <tbody>\n",
       "    <tr>\n",
       "      <th>0</th>\n",
       "      <td>dyer</td>\n",
       "      <td>William</td>\n",
       "      <td>Dyer</td>\n",
       "      <td>619</td>\n",
       "      <td>dyer</td>\n",
       "      <td>rad</td>\n",
       "      <td>9.82</td>\n",
       "      <td>619</td>\n",
       "      <td>DR-1</td>\n",
       "      <td>1927-02-08</td>\n",
       "      <td>619</td>\n",
       "      <td>dyer</td>\n",
       "      <td>9.82</td>\n",
       "    </tr>\n",
       "    <tr>\n",
       "      <th>1</th>\n",
       "      <td>dyer</td>\n",
       "      <td>William</td>\n",
       "      <td>Dyer</td>\n",
       "      <td>619</td>\n",
       "      <td>dyer</td>\n",
       "      <td>rad</td>\n",
       "      <td>9.82</td>\n",
       "      <td>622</td>\n",
       "      <td>DR-1</td>\n",
       "      <td>1927-02-10</td>\n",
       "      <td>622</td>\n",
       "      <td>dyer</td>\n",
       "      <td>7.80</td>\n",
       "    </tr>\n",
       "    <tr>\n",
       "      <th>2</th>\n",
       "      <td>dyer</td>\n",
       "      <td>William</td>\n",
       "      <td>Dyer</td>\n",
       "      <td>619</td>\n",
       "      <td>dyer</td>\n",
       "      <td>rad</td>\n",
       "      <td>9.82</td>\n",
       "      <td>734</td>\n",
       "      <td>DR-3</td>\n",
       "      <td>1939-01-07</td>\n",
       "      <td>734</td>\n",
       "      <td>pb</td>\n",
       "      <td>8.41</td>\n",
       "    </tr>\n",
       "    <tr>\n",
       "      <th>3</th>\n",
       "      <td>dyer</td>\n",
       "      <td>William</td>\n",
       "      <td>Dyer</td>\n",
       "      <td>619</td>\n",
       "      <td>dyer</td>\n",
       "      <td>rad</td>\n",
       "      <td>9.82</td>\n",
       "      <td>735</td>\n",
       "      <td>DR-3</td>\n",
       "      <td>1930-01-12</td>\n",
       "      <td>735</td>\n",
       "      <td>pb</td>\n",
       "      <td>7.22</td>\n",
       "    </tr>\n",
       "    <tr>\n",
       "      <th>4</th>\n",
       "      <td>dyer</td>\n",
       "      <td>William</td>\n",
       "      <td>Dyer</td>\n",
       "      <td>619</td>\n",
       "      <td>dyer</td>\n",
       "      <td>rad</td>\n",
       "      <td>9.82</td>\n",
       "      <td>751</td>\n",
       "      <td>DR-3</td>\n",
       "      <td>1930-02-26</td>\n",
       "      <td>751</td>\n",
       "      <td>pb</td>\n",
       "      <td>4.35</td>\n",
       "    </tr>\n",
       "    <tr>\n",
       "      <th>...</th>\n",
       "      <td>...</td>\n",
       "      <td>...</td>\n",
       "      <td>...</td>\n",
       "      <td>...</td>\n",
       "      <td>...</td>\n",
       "      <td>...</td>\n",
       "      <td>...</td>\n",
       "      <td>...</td>\n",
       "      <td>...</td>\n",
       "      <td>...</td>\n",
       "      <td>...</td>\n",
       "      <td>...</td>\n",
       "      <td>...</td>\n",
       "    </tr>\n",
       "    <tr>\n",
       "      <th>143</th>\n",
       "      <td>pb</td>\n",
       "      <td>Frank</td>\n",
       "      <td>Pabodie</td>\n",
       "      <td>751</td>\n",
       "      <td>pb</td>\n",
       "      <td>temp</td>\n",
       "      <td>-18.50</td>\n",
       "      <td>752</td>\n",
       "      <td>DR-3</td>\n",
       "      <td>NaN</td>\n",
       "      <td>752</td>\n",
       "      <td>lake</td>\n",
       "      <td>-16.00</td>\n",
       "    </tr>\n",
       "    <tr>\n",
       "      <th>144</th>\n",
       "      <td>lake</td>\n",
       "      <td>Anderson</td>\n",
       "      <td>Lake</td>\n",
       "      <td>752</td>\n",
       "      <td>lake</td>\n",
       "      <td>temp</td>\n",
       "      <td>-16.00</td>\n",
       "      <td>734</td>\n",
       "      <td>DR-3</td>\n",
       "      <td>1939-01-07</td>\n",
       "      <td>734</td>\n",
       "      <td>pb</td>\n",
       "      <td>-21.50</td>\n",
       "    </tr>\n",
       "    <tr>\n",
       "      <th>145</th>\n",
       "      <td>lake</td>\n",
       "      <td>Anderson</td>\n",
       "      <td>Lake</td>\n",
       "      <td>752</td>\n",
       "      <td>lake</td>\n",
       "      <td>temp</td>\n",
       "      <td>-16.00</td>\n",
       "      <td>735</td>\n",
       "      <td>DR-3</td>\n",
       "      <td>1930-01-12</td>\n",
       "      <td>735</td>\n",
       "      <td>NaN</td>\n",
       "      <td>-26.00</td>\n",
       "    </tr>\n",
       "    <tr>\n",
       "      <th>146</th>\n",
       "      <td>lake</td>\n",
       "      <td>Anderson</td>\n",
       "      <td>Lake</td>\n",
       "      <td>752</td>\n",
       "      <td>lake</td>\n",
       "      <td>temp</td>\n",
       "      <td>-16.00</td>\n",
       "      <td>751</td>\n",
       "      <td>DR-3</td>\n",
       "      <td>1930-02-26</td>\n",
       "      <td>751</td>\n",
       "      <td>pb</td>\n",
       "      <td>-18.50</td>\n",
       "    </tr>\n",
       "    <tr>\n",
       "      <th>147</th>\n",
       "      <td>lake</td>\n",
       "      <td>Anderson</td>\n",
       "      <td>Lake</td>\n",
       "      <td>752</td>\n",
       "      <td>lake</td>\n",
       "      <td>temp</td>\n",
       "      <td>-16.00</td>\n",
       "      <td>752</td>\n",
       "      <td>DR-3</td>\n",
       "      <td>NaN</td>\n",
       "      <td>752</td>\n",
       "      <td>lake</td>\n",
       "      <td>-16.00</td>\n",
       "    </tr>\n",
       "  </tbody>\n",
       "</table>\n",
       "<p>148 rows × 13 columns</p>\n",
       "</div>"
      ],
      "text/plain": [
       "    ident_x  personal   family  taken_x person_x quant  reading_x  ident_y  \\\n",
       "0      dyer   William     Dyer      619     dyer   rad       9.82      619   \n",
       "1      dyer   William     Dyer      619     dyer   rad       9.82      622   \n",
       "2      dyer   William     Dyer      619     dyer   rad       9.82      734   \n",
       "3      dyer   William     Dyer      619     dyer   rad       9.82      735   \n",
       "4      dyer   William     Dyer      619     dyer   rad       9.82      751   \n",
       "..      ...       ...      ...      ...      ...   ...        ...      ...   \n",
       "143      pb     Frank  Pabodie      751       pb  temp     -18.50      752   \n",
       "144    lake  Anderson     Lake      752     lake  temp     -16.00      734   \n",
       "145    lake  Anderson     Lake      752     lake  temp     -16.00      735   \n",
       "146    lake  Anderson     Lake      752     lake  temp     -16.00      751   \n",
       "147    lake  Anderson     Lake      752     lake  temp     -16.00      752   \n",
       "\n",
       "     site       dated  taken_y person_y  reading_y  \n",
       "0    DR-1  1927-02-08      619     dyer       9.82  \n",
       "1    DR-1  1927-02-10      622     dyer       7.80  \n",
       "2    DR-3  1939-01-07      734       pb       8.41  \n",
       "3    DR-3  1930-01-12      735       pb       7.22  \n",
       "4    DR-3  1930-02-26      751       pb       4.35  \n",
       "..    ...         ...      ...      ...        ...  \n",
       "143  DR-3         NaN      752     lake     -16.00  \n",
       "144  DR-3  1939-01-07      734       pb     -21.50  \n",
       "145  DR-3  1930-01-12      735      NaN     -26.00  \n",
       "146  DR-3  1930-02-26      751       pb     -18.50  \n",
       "147  DR-3         NaN      752     lake     -16.00  \n",
       "\n",
       "[148 rows x 13 columns]"
      ]
     },
     "execution_count": 17,
     "metadata": {},
     "output_type": "execute_result"
    }
   ],
   "source": [
    "ps_vs = ps.merge(\n",
    "    vs,\n",
    "    left_on=[\"quant\"],\n",
    "    right_on=[\"quant\"],\n",
    ")\n",
    "ps_vs"
   ]
  },
  {
   "cell_type": "code",
   "execution_count": null,
   "id": "8cf1d71a",
   "metadata": {},
   "outputs": [],
   "source": [
    "print(ps_vs.loc[0, :])"
   ]
  },
  {
   "cell_type": "markdown",
   "id": "9240fbd9",
   "metadata": {},
   "source": [
    "#### [Do It! 실습] assert문으로 병합 결과 확인하기"
   ]
  },
  {
   "cell_type": "code",
   "execution_count": null,
   "id": "6dbaf8fa",
   "metadata": {},
   "outputs": [],
   "source": [
    "print(ps.shape)"
   ]
  },
  {
   "cell_type": "code",
   "execution_count": null,
   "id": "ed10bb0c",
   "metadata": {},
   "outputs": [],
   "source": [
    "print(vs.shape)"
   ]
  },
  {
   "cell_type": "code",
   "execution_count": null,
   "id": "2038afbd",
   "metadata": {},
   "outputs": [],
   "source": [
    "print(ps_vs.shape)"
   ]
  },
  {
   "cell_type": "markdown",
   "id": "0b2214c8",
   "metadata": {},
   "source": [
    "- assert : 조건을 판단하여 이어서 실행하거나, AssertionError 발생시킴"
   ]
  },
  {
   "cell_type": "code",
   "execution_count": null,
   "id": "89474e74",
   "metadata": {},
   "outputs": [],
   "source": [
    "assert vs.shape[0] == 21"
   ]
  },
  {
   "cell_type": "code",
   "execution_count": 1,
   "id": "48466d23",
   "metadata": {},
   "outputs": [],
   "source": [
    "# assert ps_vs.shape[0] <= vs.shape[0]  # 오류"
   ]
  },
  {
   "cell_type": "markdown",
   "id": "eae386d4",
   "metadata": {},
   "source": [
    "## 07-5 데이터 정규화하기"
   ]
  },
  {
   "cell_type": "markdown",
   "id": "1d130f98",
   "metadata": {},
   "source": [
    "#### [Do It! 실습] 표 분할하여 데이터 정규화하기"
   ]
  },
  {
   "cell_type": "code",
   "execution_count": 2,
   "id": "fd678ffa",
   "metadata": {},
   "outputs": [
    {
     "name": "stdout",
     "output_type": "stream",
     "text": [
      "<class 'pandas.core.frame.DataFrame'>\n",
      "RangeIndex: 317 entries, 0 to 316\n",
      "Data columns (total 81 columns):\n",
      " #   Column        Non-Null Count  Dtype  \n",
      "---  ------        --------------  -----  \n",
      " 0   year          317 non-null    int64  \n",
      " 1   artist        317 non-null    object \n",
      " 2   track         317 non-null    object \n",
      " 3   time          317 non-null    object \n",
      " 4   date.entered  317 non-null    object \n",
      " 5   wk1           317 non-null    int64  \n",
      " 6   wk2           312 non-null    float64\n",
      " 7   wk3           307 non-null    float64\n",
      " 8   wk4           300 non-null    float64\n",
      " 9   wk5           292 non-null    float64\n",
      " 10  wk6           280 non-null    float64\n",
      " 11  wk7           269 non-null    float64\n",
      " 12  wk8           260 non-null    float64\n",
      " 13  wk9           253 non-null    float64\n",
      " 14  wk10          244 non-null    float64\n",
      " 15  wk11          236 non-null    float64\n",
      " 16  wk12          222 non-null    float64\n",
      " 17  wk13          210 non-null    float64\n",
      " 18  wk14          204 non-null    float64\n",
      " 19  wk15          197 non-null    float64\n",
      " 20  wk16          182 non-null    float64\n",
      " 21  wk17          177 non-null    float64\n",
      " 22  wk18          166 non-null    float64\n",
      " 23  wk19          156 non-null    float64\n",
      " 24  wk20          146 non-null    float64\n",
      " 25  wk21          65 non-null     float64\n",
      " 26  wk22          55 non-null     float64\n",
      " 27  wk23          48 non-null     float64\n",
      " 28  wk24          46 non-null     float64\n",
      " 29  wk25          38 non-null     float64\n",
      " 30  wk26          36 non-null     float64\n",
      " 31  wk27          29 non-null     float64\n",
      " 32  wk28          24 non-null     float64\n",
      " 33  wk29          20 non-null     float64\n",
      " 34  wk30          20 non-null     float64\n",
      " 35  wk31          19 non-null     float64\n",
      " 36  wk32          18 non-null     float64\n",
      " 37  wk33          12 non-null     float64\n",
      " 38  wk34          10 non-null     float64\n",
      " 39  wk35          9 non-null      float64\n",
      " 40  wk36          9 non-null      float64\n",
      " 41  wk37          9 non-null      float64\n",
      " 42  wk38          8 non-null      float64\n",
      " 43  wk39          8 non-null      float64\n",
      " 44  wk40          7 non-null      float64\n",
      " 45  wk41          7 non-null      float64\n",
      " 46  wk42          6 non-null      float64\n",
      " 47  wk43          6 non-null      float64\n",
      " 48  wk44          6 non-null      float64\n",
      " 49  wk45          5 non-null      float64\n",
      " 50  wk46          5 non-null      float64\n",
      " 51  wk47          5 non-null      float64\n",
      " 52  wk48          4 non-null      float64\n",
      " 53  wk49          4 non-null      float64\n",
      " 54  wk50          4 non-null      float64\n",
      " 55  wk51          4 non-null      float64\n",
      " 56  wk52          4 non-null      float64\n",
      " 57  wk53          4 non-null      float64\n",
      " 58  wk54          2 non-null      float64\n",
      " 59  wk55          2 non-null      float64\n",
      " 60  wk56          2 non-null      float64\n",
      " 61  wk57          2 non-null      float64\n",
      " 62  wk58          2 non-null      float64\n",
      " 63  wk59          2 non-null      float64\n",
      " 64  wk60          2 non-null      float64\n",
      " 65  wk61          2 non-null      float64\n",
      " 66  wk62          2 non-null      float64\n",
      " 67  wk63          2 non-null      float64\n",
      " 68  wk64          2 non-null      float64\n",
      " 69  wk65          1 non-null      float64\n",
      " 70  wk66          0 non-null      float64\n",
      " 71  wk67          0 non-null      float64\n",
      " 72  wk68          0 non-null      float64\n",
      " 73  wk69          0 non-null      float64\n",
      " 74  wk70          0 non-null      float64\n",
      " 75  wk71          0 non-null      float64\n",
      " 76  wk72          0 non-null      float64\n",
      " 77  wk73          0 non-null      float64\n",
      " 78  wk74          0 non-null      float64\n",
      " 79  wk75          0 non-null      float64\n",
      " 80  wk76          0 non-null      float64\n",
      "dtypes: float64(75), int64(2), object(4)\n",
      "memory usage: 200.7+ KB\n"
     ]
    }
   ],
   "source": [
    "import pandas as pd\n",
    "\n",
    "billboard = pd.read_csv('C:/python/do_it_pandas-main/do_it_pandas-main/data/billboard.csv')\n",
    "\n",
    "billboard.info()"
   ]
  },
  {
   "cell_type": "code",
   "execution_count": 3,
   "id": "ab7b2d45",
   "metadata": {},
   "outputs": [
    {
     "data": {
      "text/html": [
       "<div>\n",
       "<style scoped>\n",
       "    .dataframe tbody tr th:only-of-type {\n",
       "        vertical-align: middle;\n",
       "    }\n",
       "\n",
       "    .dataframe tbody tr th {\n",
       "        vertical-align: top;\n",
       "    }\n",
       "\n",
       "    .dataframe thead th {\n",
       "        text-align: right;\n",
       "    }\n",
       "</style>\n",
       "<table border=\"1\" class=\"dataframe\">\n",
       "  <thead>\n",
       "    <tr style=\"text-align: right;\">\n",
       "      <th></th>\n",
       "      <th>year</th>\n",
       "      <th>artist</th>\n",
       "      <th>track</th>\n",
       "      <th>time</th>\n",
       "      <th>date.entered</th>\n",
       "      <th>wk1</th>\n",
       "      <th>wk2</th>\n",
       "      <th>wk3</th>\n",
       "      <th>wk4</th>\n",
       "      <th>wk5</th>\n",
       "      <th>...</th>\n",
       "      <th>wk67</th>\n",
       "      <th>wk68</th>\n",
       "      <th>wk69</th>\n",
       "      <th>wk70</th>\n",
       "      <th>wk71</th>\n",
       "      <th>wk72</th>\n",
       "      <th>wk73</th>\n",
       "      <th>wk74</th>\n",
       "      <th>wk75</th>\n",
       "      <th>wk76</th>\n",
       "    </tr>\n",
       "  </thead>\n",
       "  <tbody>\n",
       "    <tr>\n",
       "      <th>0</th>\n",
       "      <td>2000</td>\n",
       "      <td>2 Pac</td>\n",
       "      <td>Baby Don't Cry (Keep...</td>\n",
       "      <td>4:22</td>\n",
       "      <td>2000-02-26</td>\n",
       "      <td>87</td>\n",
       "      <td>82.0</td>\n",
       "      <td>72.0</td>\n",
       "      <td>77.0</td>\n",
       "      <td>87.0</td>\n",
       "      <td>...</td>\n",
       "      <td>NaN</td>\n",
       "      <td>NaN</td>\n",
       "      <td>NaN</td>\n",
       "      <td>NaN</td>\n",
       "      <td>NaN</td>\n",
       "      <td>NaN</td>\n",
       "      <td>NaN</td>\n",
       "      <td>NaN</td>\n",
       "      <td>NaN</td>\n",
       "      <td>NaN</td>\n",
       "    </tr>\n",
       "    <tr>\n",
       "      <th>1</th>\n",
       "      <td>2000</td>\n",
       "      <td>2Ge+her</td>\n",
       "      <td>The Hardest Part Of ...</td>\n",
       "      <td>3:15</td>\n",
       "      <td>2000-09-02</td>\n",
       "      <td>91</td>\n",
       "      <td>87.0</td>\n",
       "      <td>92.0</td>\n",
       "      <td>NaN</td>\n",
       "      <td>NaN</td>\n",
       "      <td>...</td>\n",
       "      <td>NaN</td>\n",
       "      <td>NaN</td>\n",
       "      <td>NaN</td>\n",
       "      <td>NaN</td>\n",
       "      <td>NaN</td>\n",
       "      <td>NaN</td>\n",
       "      <td>NaN</td>\n",
       "      <td>NaN</td>\n",
       "      <td>NaN</td>\n",
       "      <td>NaN</td>\n",
       "    </tr>\n",
       "    <tr>\n",
       "      <th>2</th>\n",
       "      <td>2000</td>\n",
       "      <td>3 Doors Down</td>\n",
       "      <td>Kryptonite</td>\n",
       "      <td>3:53</td>\n",
       "      <td>2000-04-08</td>\n",
       "      <td>81</td>\n",
       "      <td>70.0</td>\n",
       "      <td>68.0</td>\n",
       "      <td>67.0</td>\n",
       "      <td>66.0</td>\n",
       "      <td>...</td>\n",
       "      <td>NaN</td>\n",
       "      <td>NaN</td>\n",
       "      <td>NaN</td>\n",
       "      <td>NaN</td>\n",
       "      <td>NaN</td>\n",
       "      <td>NaN</td>\n",
       "      <td>NaN</td>\n",
       "      <td>NaN</td>\n",
       "      <td>NaN</td>\n",
       "      <td>NaN</td>\n",
       "    </tr>\n",
       "    <tr>\n",
       "      <th>3</th>\n",
       "      <td>2000</td>\n",
       "      <td>3 Doors Down</td>\n",
       "      <td>Loser</td>\n",
       "      <td>4:24</td>\n",
       "      <td>2000-10-21</td>\n",
       "      <td>76</td>\n",
       "      <td>76.0</td>\n",
       "      <td>72.0</td>\n",
       "      <td>69.0</td>\n",
       "      <td>67.0</td>\n",
       "      <td>...</td>\n",
       "      <td>NaN</td>\n",
       "      <td>NaN</td>\n",
       "      <td>NaN</td>\n",
       "      <td>NaN</td>\n",
       "      <td>NaN</td>\n",
       "      <td>NaN</td>\n",
       "      <td>NaN</td>\n",
       "      <td>NaN</td>\n",
       "      <td>NaN</td>\n",
       "      <td>NaN</td>\n",
       "    </tr>\n",
       "    <tr>\n",
       "      <th>4</th>\n",
       "      <td>2000</td>\n",
       "      <td>504 Boyz</td>\n",
       "      <td>Wobble Wobble</td>\n",
       "      <td>3:35</td>\n",
       "      <td>2000-04-15</td>\n",
       "      <td>57</td>\n",
       "      <td>34.0</td>\n",
       "      <td>25.0</td>\n",
       "      <td>17.0</td>\n",
       "      <td>17.0</td>\n",
       "      <td>...</td>\n",
       "      <td>NaN</td>\n",
       "      <td>NaN</td>\n",
       "      <td>NaN</td>\n",
       "      <td>NaN</td>\n",
       "      <td>NaN</td>\n",
       "      <td>NaN</td>\n",
       "      <td>NaN</td>\n",
       "      <td>NaN</td>\n",
       "      <td>NaN</td>\n",
       "      <td>NaN</td>\n",
       "    </tr>\n",
       "  </tbody>\n",
       "</table>\n",
       "<p>5 rows × 81 columns</p>\n",
       "</div>"
      ],
      "text/plain": [
       "   year        artist                    track  time date.entered  wk1   wk2  \\\n",
       "0  2000         2 Pac  Baby Don't Cry (Keep...  4:22   2000-02-26   87  82.0   \n",
       "1  2000       2Ge+her  The Hardest Part Of ...  3:15   2000-09-02   91  87.0   \n",
       "2  2000  3 Doors Down               Kryptonite  3:53   2000-04-08   81  70.0   \n",
       "3  2000  3 Doors Down                    Loser  4:24   2000-10-21   76  76.0   \n",
       "4  2000      504 Boyz            Wobble Wobble  3:35   2000-04-15   57  34.0   \n",
       "\n",
       "    wk3   wk4   wk5  ...  wk67  wk68  wk69  wk70  wk71  wk72  wk73  wk74  \\\n",
       "0  72.0  77.0  87.0  ...   NaN   NaN   NaN   NaN   NaN   NaN   NaN   NaN   \n",
       "1  92.0   NaN   NaN  ...   NaN   NaN   NaN   NaN   NaN   NaN   NaN   NaN   \n",
       "2  68.0  67.0  66.0  ...   NaN   NaN   NaN   NaN   NaN   NaN   NaN   NaN   \n",
       "3  72.0  69.0  67.0  ...   NaN   NaN   NaN   NaN   NaN   NaN   NaN   NaN   \n",
       "4  25.0  17.0  17.0  ...   NaN   NaN   NaN   NaN   NaN   NaN   NaN   NaN   \n",
       "\n",
       "   wk75  wk76  \n",
       "0   NaN   NaN  \n",
       "1   NaN   NaN  \n",
       "2   NaN   NaN  \n",
       "3   NaN   NaN  \n",
       "4   NaN   NaN  \n",
       "\n",
       "[5 rows x 81 columns]"
      ]
     },
     "execution_count": 3,
     "metadata": {},
     "output_type": "execute_result"
    }
   ],
   "source": [
    "billboard.head()"
   ]
  },
  {
   "cell_type": "code",
   "execution_count": 6,
   "id": "a01f65b3",
   "metadata": {},
   "outputs": [
    {
     "name": "stdout",
     "output_type": "stream",
     "text": [
      "       year            artist                    track  time date.entered  \\\n",
      "0      2000             2 Pac  Baby Don't Cry (Keep...  4:22   2000-02-26   \n",
      "1      2000           2Ge+her  The Hardest Part Of ...  3:15   2000-09-02   \n",
      "2      2000      3 Doors Down               Kryptonite  3:53   2000-04-08   \n",
      "3      2000      3 Doors Down                    Loser  4:24   2000-10-21   \n",
      "4      2000          504 Boyz            Wobble Wobble  3:35   2000-04-15   \n",
      "...     ...               ...                      ...   ...          ...   \n",
      "24087  2000       Yankee Grey     Another Nine Minutes  3:10   2000-04-29   \n",
      "24088  2000  Yearwood, Trisha          Real Live Woman  3:55   2000-04-01   \n",
      "24089  2000   Ying Yang Twins  Whistle While You Tw...  4:19   2000-03-18   \n",
      "24090  2000     Zombie Nation            Kernkraft 400  3:30   2000-09-02   \n",
      "24091  2000   matchbox twenty                     Bent  4:12   2000-04-29   \n",
      "\n",
      "       week  rating  \n",
      "0       wk1    87.0  \n",
      "1       wk1    91.0  \n",
      "2       wk1    81.0  \n",
      "3       wk1    76.0  \n",
      "4       wk1    57.0  \n",
      "...     ...     ...  \n",
      "24087  wk76     NaN  \n",
      "24088  wk76     NaN  \n",
      "24089  wk76     NaN  \n",
      "24090  wk76     NaN  \n",
      "24091  wk76     NaN  \n",
      "\n",
      "[24092 rows x 7 columns]\n"
     ]
    }
   ],
   "source": [
    "billboard_long = billboard.melt(\n",
    "    id_vars=[\"year\", \"artist\", \"track\", \"time\", \"date.entered\"],\n",
    "    var_name=\"week\",\n",
    "    value_name=\"rating\",\n",
    ")\n",
    "\n",
    "print(billboard_long)"
   ]
  },
  {
   "cell_type": "markdown",
   "id": "6568e4f8",
   "metadata": {},
   "source": [
    "- 특정 칼럼의 값만 행 방향으로 필터링 -> 지정된 행만 모으기\n",
    "  - 크게 2개의 테이블로 분리할 수 있다는 사실을 인지할 수 있음"
   ]
  },
  {
   "cell_type": "code",
   "execution_count": 7,
   "id": "b9ae1f54",
   "metadata": {},
   "outputs": [
    {
     "name": "stdout",
     "output_type": "stream",
     "text": [
      "       year        artist  track  time date.entered  week  rating\n",
      "3      2000  3 Doors Down  Loser  4:24   2000-10-21   wk1    76.0\n",
      "320    2000  3 Doors Down  Loser  4:24   2000-10-21   wk2    76.0\n",
      "637    2000  3 Doors Down  Loser  4:24   2000-10-21   wk3    72.0\n",
      "954    2000  3 Doors Down  Loser  4:24   2000-10-21   wk4    69.0\n",
      "1271   2000  3 Doors Down  Loser  4:24   2000-10-21   wk5    67.0\n",
      "...     ...           ...    ...   ...          ...   ...     ...\n",
      "22510  2000  3 Doors Down  Loser  4:24   2000-10-21  wk72     NaN\n",
      "22827  2000  3 Doors Down  Loser  4:24   2000-10-21  wk73     NaN\n",
      "23144  2000  3 Doors Down  Loser  4:24   2000-10-21  wk74     NaN\n",
      "23461  2000  3 Doors Down  Loser  4:24   2000-10-21  wk75     NaN\n",
      "23778  2000  3 Doors Down  Loser  4:24   2000-10-21  wk76     NaN\n",
      "\n",
      "[76 rows x 7 columns]\n"
     ]
    }
   ],
   "source": [
    "print(billboard_long.loc[billboard_long.track == 'Loser'])"
   ]
  },
  {
   "cell_type": "markdown",
   "id": "f08d32f7",
   "metadata": {},
   "source": [
    "### `첫번째 테이블 만들기`"
   ]
  },
  {
   "cell_type": "markdown",
   "id": "6a294f23",
   "metadata": {},
   "source": [
    "- 테이블에서 중복되는 칼럼을 별도의 테이블(데이터프레임)로 분리하기\n",
    "  - 중복되는 칼럼에 고유한 ID 를 부여 -> 고유한  ID 가 중복처리 됨"
   ]
  },
  {
   "cell_type": "code",
   "execution_count": 10,
   "id": "bd9bca63",
   "metadata": {},
   "outputs": [
    {
     "name": "stdout",
     "output_type": "stream",
     "text": [
      "(24092, 5)\n"
     ]
    }
   ],
   "source": [
    "billboard_songs = billboard_long[\n",
    "    [\"year\", \"artist\", \"track\", \"time\", \"date.entered\"]\n",
    "]\n",
    "print(billboard_songs.shape)"
   ]
  },
  {
   "cell_type": "markdown",
   "id": "e318f0c9",
   "metadata": {},
   "source": [
    "- 중복 제거\n",
    "  - .drop_duplicates()"
   ]
  },
  {
   "cell_type": "code",
   "execution_count": 21,
   "id": "228a05bd",
   "metadata": {},
   "outputs": [
    {
     "name": "stdout",
     "output_type": "stream",
     "text": [
      "(317, 5)\n"
     ]
    }
   ],
   "source": [
    "billboard_songs = billboard_songs.drop_duplicates()\n",
    "print(billboard_songs.shape)"
   ]
  },
  {
   "cell_type": "markdown",
   "id": "417e0c51",
   "metadata": {},
   "source": [
    "- 고유한 ID 부여"
   ]
  },
  {
   "cell_type": "code",
   "execution_count": 22,
   "id": "7c909b30",
   "metadata": {},
   "outputs": [
    {
     "name": "stdout",
     "output_type": "stream",
     "text": [
      "     year            artist                    track  time date.entered   id\n",
      "0    2000             2 Pac  Baby Don't Cry (Keep...  4:22   2000-02-26    1\n",
      "1    2000           2Ge+her  The Hardest Part Of ...  3:15   2000-09-02    2\n",
      "2    2000      3 Doors Down               Kryptonite  3:53   2000-04-08    3\n",
      "3    2000      3 Doors Down                    Loser  4:24   2000-10-21    4\n",
      "4    2000          504 Boyz            Wobble Wobble  3:35   2000-04-15    5\n",
      "..    ...               ...                      ...   ...          ...  ...\n",
      "312  2000       Yankee Grey     Another Nine Minutes  3:10   2000-04-29  313\n",
      "313  2000  Yearwood, Trisha          Real Live Woman  3:55   2000-04-01  314\n",
      "314  2000   Ying Yang Twins  Whistle While You Tw...  4:19   2000-03-18  315\n",
      "315  2000     Zombie Nation            Kernkraft 400  3:30   2000-09-02  316\n",
      "316  2000   matchbox twenty                     Bent  4:12   2000-04-29  317\n",
      "\n",
      "[317 rows x 6 columns]\n"
     ]
    }
   ],
   "source": [
    "billboard_songs['id'] = billboard_songs.index + 1\n",
    "print(billboard_songs)"
   ]
  },
  {
   "cell_type": "markdown",
   "id": "951f2bc4",
   "metadata": {},
   "source": [
    "- 분리된 2개의 테이블을 병합하여 분리전 상태로 복원"
   ]
  },
  {
   "cell_type": "code",
   "execution_count": 23,
   "id": "e2323837",
   "metadata": {},
   "outputs": [
    {
     "name": "stdout",
     "output_type": "stream",
     "text": [
      "(24092, 8)\n"
     ]
    }
   ],
   "source": [
    "billboard_ratings = billboard_long.merge(\n",
    "    billboard_songs, on=[\"year\", \"artist\", \"track\", \"time\", \"date.entered\"]\n",
    ")\n",
    "print(billboard_ratings.shape)"
   ]
  },
  {
   "cell_type": "code",
   "execution_count": 24,
   "id": "aad3e41c",
   "metadata": {},
   "outputs": [
    {
     "name": "stdout",
     "output_type": "stream",
     "text": [
      "       year           artist                    track  time date.entered  \\\n",
      "0      2000            2 Pac  Baby Don't Cry (Keep...  4:22   2000-02-26   \n",
      "1      2000            2 Pac  Baby Don't Cry (Keep...  4:22   2000-02-26   \n",
      "2      2000            2 Pac  Baby Don't Cry (Keep...  4:22   2000-02-26   \n",
      "3      2000            2 Pac  Baby Don't Cry (Keep...  4:22   2000-02-26   \n",
      "4      2000            2 Pac  Baby Don't Cry (Keep...  4:22   2000-02-26   \n",
      "...     ...              ...                      ...   ...          ...   \n",
      "24087  2000  matchbox twenty                     Bent  4:12   2000-04-29   \n",
      "24088  2000  matchbox twenty                     Bent  4:12   2000-04-29   \n",
      "24089  2000  matchbox twenty                     Bent  4:12   2000-04-29   \n",
      "24090  2000  matchbox twenty                     Bent  4:12   2000-04-29   \n",
      "24091  2000  matchbox twenty                     Bent  4:12   2000-04-29   \n",
      "\n",
      "       week  rating   id  \n",
      "0       wk1    87.0    1  \n",
      "1       wk2    82.0    1  \n",
      "2       wk3    72.0    1  \n",
      "3       wk4    77.0    1  \n",
      "4       wk5    87.0    1  \n",
      "...     ...     ...  ...  \n",
      "24087  wk72     NaN  317  \n",
      "24088  wk73     NaN  317  \n",
      "24089  wk74     NaN  317  \n",
      "24090  wk75     NaN  317  \n",
      "24091  wk76     NaN  317  \n",
      "\n",
      "[24092 rows x 8 columns]\n"
     ]
    }
   ],
   "source": [
    "print(billboard_ratings)"
   ]
  },
  {
   "cell_type": "markdown",
   "id": "c4a94a35",
   "metadata": {},
   "source": [
    "- ### `두번째 테이블 만들기`"
   ]
  },
  {
   "cell_type": "code",
   "execution_count": 25,
   "id": "a43e6659",
   "metadata": {},
   "outputs": [
    {
     "name": "stdout",
     "output_type": "stream",
     "text": [
      "        id  week  rating\n",
      "0        1   wk1    87.0\n",
      "1        1   wk2    82.0\n",
      "2        1   wk3    72.0\n",
      "3        1   wk4    77.0\n",
      "4        1   wk5    87.0\n",
      "...    ...   ...     ...\n",
      "24087  317  wk72     NaN\n",
      "24088  317  wk73     NaN\n",
      "24089  317  wk74     NaN\n",
      "24090  317  wk75     NaN\n",
      "24091  317  wk76     NaN\n",
      "\n",
      "[24092 rows x 3 columns]\n"
     ]
    }
   ],
   "source": [
    "billboard_ratings = billboard_ratings[\n",
    "    [\"id\", \"week\", \"rating\"]\n",
    "]\n",
    "print(billboard_ratings)"
   ]
  },
  {
   "cell_type": "code",
   "execution_count": 26,
   "id": "56c2a09f",
   "metadata": {},
   "outputs": [
    {
     "name": "stdout",
     "output_type": "stream",
     "text": [
      "(24092, 8)\n"
     ]
    }
   ],
   "source": [
    "merge_billboard_ratings = billboard_songs.merge(\n",
    "    billboard_ratings, on=[\"id\"]\n",
    ")\n",
    "print(merge_billboard_ratings.shape)"
   ]
  },
  {
   "cell_type": "code",
   "execution_count": 27,
   "id": "c3acf256",
   "metadata": {},
   "outputs": [
    {
     "name": "stdout",
     "output_type": "stream",
     "text": [
      "<class 'pandas.core.frame.DataFrame'>\n",
      "RangeIndex: 24092 entries, 0 to 24091\n",
      "Data columns (total 8 columns):\n",
      " #   Column        Non-Null Count  Dtype  \n",
      "---  ------        --------------  -----  \n",
      " 0   year          24092 non-null  int64  \n",
      " 1   artist        24092 non-null  object \n",
      " 2   track         24092 non-null  object \n",
      " 3   time          24092 non-null  object \n",
      " 4   date.entered  24092 non-null  object \n",
      " 5   id            24092 non-null  int64  \n",
      " 6   week          24092 non-null  object \n",
      " 7   rating        5307 non-null   float64\n",
      "dtypes: float64(1), int64(2), object(5)\n",
      "memory usage: 1.5+ MB\n"
     ]
    }
   ],
   "source": [
    "merge_billboard_ratings.info()"
   ]
  },
  {
   "cell_type": "code",
   "execution_count": 28,
   "id": "6e458b09",
   "metadata": {},
   "outputs": [
    {
     "name": "stdout",
     "output_type": "stream",
     "text": [
      "<class 'pandas.core.frame.DataFrame'>\n",
      "RangeIndex: 24092 entries, 0 to 24091\n",
      "Data columns (total 7 columns):\n",
      " #   Column        Non-Null Count  Dtype  \n",
      "---  ------        --------------  -----  \n",
      " 0   year          24092 non-null  int64  \n",
      " 1   artist        24092 non-null  object \n",
      " 2   track         24092 non-null  object \n",
      " 3   time          24092 non-null  object \n",
      " 4   date.entered  24092 non-null  object \n",
      " 5   week          24092 non-null  object \n",
      " 6   rating        5307 non-null   float64\n",
      "dtypes: float64(1), int64(1), object(5)\n",
      "memory usage: 1.3+ MB\n"
     ]
    }
   ],
   "source": [
    "billboard_long.info()"
   ]
  },
  {
   "cell_type": "code",
   "execution_count": null,
   "id": "20bee35e",
   "metadata": {},
   "outputs": [],
   "source": []
  }
 ],
 "metadata": {
  "kernelspec": {
   "display_name": "Python 3 (ipykernel)",
   "language": "python",
   "name": "python3"
  },
  "language_info": {
   "codemirror_mode": {
    "name": "ipython",
    "version": 3
   },
   "file_extension": ".py",
   "mimetype": "text/x-python",
   "name": "python",
   "nbconvert_exporter": "python",
   "pygments_lexer": "ipython3",
   "version": "3.11.3"
  },
  "toc": {
   "base_numbering": 1,
   "nav_menu": {},
   "number_sections": false,
   "sideBar": false,
   "skip_h1_title": false,
   "title_cell": "Table of Contents",
   "title_sidebar": "Contents",
   "toc_cell": false,
   "toc_position": {
    "height": "1098px",
    "left": "992.867px",
    "top": "110.233px",
    "width": "255.467px"
   },
   "toc_section_display": true,
   "toc_window_display": true
  }
 },
 "nbformat": 4,
 "nbformat_minor": 5
}
