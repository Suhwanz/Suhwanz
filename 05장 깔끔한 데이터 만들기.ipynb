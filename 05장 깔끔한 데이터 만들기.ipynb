{
 "cells": [
  {
   "cell_type": "markdown",
   "id": "ae2d0b70",
   "metadata": {},
   "source": [
    "## 05-1 깔끔한 데이터란? "
   ]
  },
  {
   "cell_type": "markdown",
   "id": "be3964a8",
   "metadata": {},
   "source": [
    "- 열은 변수 값의 집합\n",
    "- 행은 변수 값들의 집합에 대한 각각의 요소(관측값)"
   ]
  },
  {
   "cell_type": "markdown",
   "id": "2e735a33",
   "metadata": {},
   "source": [
    "## 05-2 열 이름이 값일 때"
   ]
  },
  {
   "cell_type": "markdown",
   "id": "25a5b920",
   "metadata": {},
   "source": [
    "### `하나의 열만 index 화 하기`"
   ]
  },
  {
   "cell_type": "markdown",
   "id": "5e204abb",
   "metadata": {},
   "source": [
    "#### [Do It! 실습] 넒은 데이터 확인하기"
   ]
  },
  {
   "cell_type": "markdown",
   "id": "e0d4a481-b7ea-413a-8af7-beae434cc2ba",
   "metadata": {},
   "source": [
    "- 넓은 데이터( wide data )\n",
    "  - 1개의 변수를 구간으로 나누어 칼럼화\n",
    "  - 긴 데이터( long data ) 로 변화(unpivot) -> melt, gather"
   ]
  },
  {
   "cell_type": "code",
   "execution_count": null,
   "id": "bfb7b816",
   "metadata": {},
   "outputs": [],
   "source": [
    "import pandas as pd\n",
    "\n",
    "pew = pd.read_csv('../data/pew.csv')"
   ]
  },
  {
   "cell_type": "code",
   "execution_count": null,
   "id": "0cbcb946-422f-4281-8efc-d18df5af335f",
   "metadata": {},
   "outputs": [],
   "source": [
    "pew.info()"
   ]
  },
  {
   "cell_type": "code",
   "execution_count": null,
   "id": "e3f4e66f",
   "metadata": {},
   "outputs": [],
   "source": [
    "print(pew.iloc[:, 0:5])"
   ]
  },
  {
   "cell_type": "markdown",
   "id": "05a2b206",
   "metadata": {},
   "source": [
    "#### [Do It! 실습] 긴 데이터로 만들기"
   ]
  },
  {
   "cell_type": "markdown",
   "id": "0f62b010-7d88-4e0e-8014-de82f10a2d08",
   "metadata": {},
   "source": [
    "- melt() 매개변수\n",
    "  - id_vars : 식별자로 사용할 칼럼 지정\n",
    "  - value_vars : id_vars 로 지정하지 않은 모든 칼럼이 unpivot 의 대상 지정\n",
    "  - var_name : unpivot 할 열들을 대표하는 칼럼명 - default = 'variable'\n",
    "  - value_name : unpivot 후 값을 대표하는 칼럼명 - default = 'value' "
   ]
  },
  {
   "cell_type": "code",
   "execution_count": null,
   "id": "ffd33b23",
   "metadata": {},
   "outputs": [],
   "source": [
    "pew_long = pew.melt(id_vars='religion')\n",
    "print(pew_long)"
   ]
  },
  {
   "cell_type": "code",
   "execution_count": null,
   "id": "67507589",
   "metadata": {},
   "outputs": [],
   "source": [
    "# melt() 메서드\n",
    "pew_long = pew.melt(id_vars='religion')\n",
    "\n",
    "# pd.melt() 함수\n",
    "pew_long = pd.melt(pew, id_vars='religion')"
   ]
  },
  {
   "cell_type": "code",
   "execution_count": null,
   "id": "7f94173d",
   "metadata": {},
   "outputs": [],
   "source": [
    "pew_long = pew.melt(\n",
    "    id_vars=\"religion\", var_name=\"income\", value_name=\"count\"\n",
    ")\n",
    "print(pew_long)"
   ]
  },
  {
   "cell_type": "markdown",
   "id": "7b72a88b",
   "metadata": {},
   "source": [
    "### `여러 개의 열을 index 화 하기`"
   ]
  },
  {
   "cell_type": "markdown",
   "id": "66f7c961",
   "metadata": {},
   "source": [
    "#### [Do It! 실습] 여러 개 열 유지하기"
   ]
  },
  {
   "cell_type": "markdown",
   "id": "d174d876",
   "metadata": {},
   "source": [
    "- 식별자로 사용할 칼럼들을 리스트로 지정"
   ]
  },
  {
   "cell_type": "code",
   "execution_count": null,
   "id": "4a6e63b7",
   "metadata": {},
   "outputs": [],
   "source": [
    "billboard = pd.read_csv('../data/billboard.csv')\n",
    "print(billboard.iloc[0:5, 0:16])"
   ]
  },
  {
   "cell_type": "code",
   "execution_count": null,
   "id": "f5a83583",
   "metadata": {},
   "outputs": [],
   "source": [
    "billboard.info()"
   ]
  },
  {
   "cell_type": "code",
   "execution_count": null,
   "id": "f983c9dd",
   "metadata": {},
   "outputs": [],
   "source": [
    "billboard_long = billboard.melt(\n",
    "    id_vars=[\"year\", \"artist\", \"track\", \"time\", \"date.entered\"],\n",
    "    var_name=\"week\",\n",
    "    value_name=\"rating\",\n",
    ")\n",
    "print(billboard_long)"
   ]
  },
  {
   "cell_type": "markdown",
   "id": "17bed47d",
   "metadata": {},
   "source": [
    "- 317 개 -> 24092 개\n",
    "  - 76 * 317"
   ]
  },
  {
   "cell_type": "markdown",
   "id": "f642d52c",
   "metadata": {},
   "source": [
    "## 05-3 열 이름에 변수가 여러 개로 분할되어 있을 때"
   ]
  },
  {
   "cell_type": "markdown",
   "id": "c6a9d255",
   "metadata": {},
   "source": [
    "### `열 이름이 여러 가지 뜻일 때`"
   ]
  },
  {
   "cell_type": "markdown",
   "id": "0c4257d2",
   "metadata": {},
   "source": [
    "#### [Do It! 실습] 깔끔한 데이터 만들기 ①"
   ]
  },
  {
   "cell_type": "code",
   "execution_count": null,
   "id": "001e3a9d",
   "metadata": {},
   "outputs": [],
   "source": [
    "ebola = pd.read_csv('../data/country_timeseries.csv')\n",
    "print(ebola.columns)"
   ]
  },
  {
   "cell_type": "code",
   "execution_count": null,
   "id": "9e91cc44",
   "metadata": {},
   "outputs": [],
   "source": [
    "ebola.info()"
   ]
  },
  {
   "cell_type": "code",
   "execution_count": null,
   "id": "5d56d206",
   "metadata": {},
   "outputs": [],
   "source": [
    "ebola['Date']=pd.to_datetime(ebola['Date'])"
   ]
  },
  {
   "cell_type": "code",
   "execution_count": null,
   "id": "c2fba708",
   "metadata": {},
   "outputs": [],
   "source": [
    "ebola.info()"
   ]
  },
  {
   "cell_type": "code",
   "execution_count": null,
   "id": "d29a149b",
   "metadata": {},
   "outputs": [],
   "source": [
    "print(ebola.iloc[:5, [0, 1, 2, 10]])"
   ]
  },
  {
   "cell_type": "code",
   "execution_count": null,
   "id": "bca82689",
   "metadata": {},
   "outputs": [],
   "source": [
    "ebola_long = ebola.melt(id_vars=['Date', 'Day'])\n",
    "print(ebola_long)"
   ]
  },
  {
   "cell_type": "markdown",
   "id": "5ea34d21",
   "metadata": {},
   "source": [
    "### `열 이름 분할하고 새로운 열로 할당하기`"
   ]
  },
  {
   "cell_type": "markdown",
   "id": "fb9584ba",
   "metadata": {},
   "source": [
    "#### [Do It! 실습] 깔끔한 데이터 만들기 ②"
   ]
  },
  {
   "cell_type": "markdown",
   "id": "341f2c58",
   "metadata": {},
   "source": [
    "- split 메서드의 output -> 값이 리스트인 시리즈 데이터"
   ]
  },
  {
   "cell_type": "code",
   "execution_count": null,
   "id": "6cd545f2",
   "metadata": {},
   "outputs": [],
   "source": [
    "variable_split = ebola_long.variable.str.split('_')\n",
    "print(variable_split[:5])"
   ]
  },
  {
   "cell_type": "code",
   "execution_count": null,
   "id": "8dd0d489",
   "metadata": {},
   "outputs": [],
   "source": [
    "print(type(variable_split))"
   ]
  },
  {
   "cell_type": "code",
   "execution_count": null,
   "id": "6faa35fe",
   "metadata": {},
   "outputs": [],
   "source": [
    "print(type(variable_split[0]))"
   ]
  },
  {
   "cell_type": "markdown",
   "id": "e781ff68",
   "metadata": {},
   "source": [
    "- 리스트 요소별로 지정하여 브로드캐스팅\n",
    "  - get() 메서드를 사용"
   ]
  },
  {
   "cell_type": "code",
   "execution_count": null,
   "id": "b3c89942",
   "metadata": {},
   "outputs": [],
   "source": [
    "status_values = variable_split.str.get(0)\n",
    "country_values = variable_split.str.get(1)"
   ]
  },
  {
   "cell_type": "code",
   "execution_count": null,
   "id": "d257ea79",
   "metadata": {},
   "outputs": [],
   "source": [
    "print(status_values)"
   ]
  },
  {
   "cell_type": "code",
   "execution_count": null,
   "id": "210fae52",
   "metadata": {},
   "outputs": [],
   "source": [
    "type(status_values)"
   ]
  },
  {
   "cell_type": "markdown",
   "id": "c3fb925f",
   "metadata": {},
   "source": [
    "- 한개의 칼럼 값을 2 개의 칼럼 값으로 새열 추가"
   ]
  },
  {
   "cell_type": "code",
   "execution_count": null,
   "id": "28184a2f",
   "metadata": {},
   "outputs": [],
   "source": [
    "ebola_long['status'] = status_values\n",
    "ebola_long['country'] = country_values\n",
    "print(ebola_long)"
   ]
  },
  {
   "cell_type": "markdown",
   "id": "1d6731c5",
   "metadata": {},
   "source": [
    "### `한 번에 분할하고 합치기`"
   ]
  },
  {
   "cell_type": "markdown",
   "id": "dfed466d",
   "metadata": {},
   "source": [
    "#### [Do It! 실습] 깔끔한 데이터 한 번에 만들기"
   ]
  },
  {
   "cell_type": "code",
   "execution_count": null,
   "id": "e7926cc0",
   "metadata": {},
   "outputs": [],
   "source": [
    "ebola_long = ebola.melt(id_vars=['Date', 'Day'])"
   ]
  },
  {
   "cell_type": "markdown",
   "id": "6a6fc609",
   "metadata": {},
   "source": [
    "- split 메서드의 output -> 각각의 값으로 나누어진 데이터프레임"
   ]
  },
  {
   "cell_type": "code",
   "execution_count": null,
   "id": "362f6211",
   "metadata": {},
   "outputs": [],
   "source": [
    "# split the column by _ into a dataframe using expand\n",
    "variable_split = ebola_long.variable.str.split('_', expand=True)\n",
    "print(variable_split)"
   ]
  },
  {
   "cell_type": "markdown",
   "id": "f2558f47",
   "metadata": {},
   "source": [
    "- 구조분해할당(다중 할당 기능 : multiple assignment feature)"
   ]
  },
  {
   "cell_type": "code",
   "execution_count": null,
   "id": "5aba09eb",
   "metadata": {},
   "outputs": [],
   "source": [
    "ebola_long[['status', 'country']] = variable_split\n",
    "print(ebola_long)"
   ]
  },
  {
   "cell_type": "markdown",
   "id": "3fe42b9f",
   "metadata": {},
   "source": [
    "- pivot"
   ]
  },
  {
   "cell_type": "code",
   "execution_count": null,
   "id": "d8413c81",
   "metadata": {},
   "outputs": [],
   "source": [
    "ebola_long.pivot_table(\n",
    "    index=['Date', 'Day', 'variable','country'],\n",
    "    columns='status',\n",
    "    values='value'\n",
    ")"
   ]
  },
  {
   "cell_type": "code",
   "execution_count": null,
   "id": "b35d0e56",
   "metadata": {},
   "outputs": [],
   "source": [
    "ebola_long.pivot_table(\n",
    "    index=['Date', 'Day', 'variable','country'],\n",
    "    columns='status',\n",
    "    values='value'\n",
    ").sort_index(ascending=False)"
   ]
  },
  {
   "cell_type": "markdown",
   "id": "e52d6d20",
   "metadata": {},
   "source": [
    "## 05-4 변수가 행과 열 모두에 있을 때"
   ]
  },
  {
   "cell_type": "markdown",
   "id": "d8d4c57b",
   "metadata": {},
   "source": [
    "### `한 열에 변수가 여러개 일때`"
   ]
  },
  {
   "cell_type": "markdown",
   "id": "b8259159",
   "metadata": {},
   "source": [
    "- 변수별로 피벗하기"
   ]
  },
  {
   "cell_type": "markdown",
   "id": "009e657b",
   "metadata": {},
   "source": [
    "#### [Do It! 실습] 행과 열 모두에 있는 변수 정리하기"
   ]
  },
  {
   "cell_type": "code",
   "execution_count": null,
   "id": "ed2dcc8a",
   "metadata": {},
   "outputs": [],
   "source": [
    "weather = pd.read_csv('../data/weather.csv')\n",
    "print(weather.iloc[:5, :11])"
   ]
  },
  {
   "cell_type": "code",
   "execution_count": null,
   "id": "36f1dc58",
   "metadata": {},
   "outputs": [],
   "source": [
    "weather_melt = weather.melt(\n",
    "    id_vars=[\"id\", \"year\", \"month\", \"element\"],\n",
    "    var_name=\"day\",\n",
    "    value_name=\"temp\",\n",
    ")\n",
    "\n",
    "print(weather_melt)"
   ]
  },
  {
   "cell_type": "markdown",
   "id": "dedb1124",
   "metadata": {},
   "source": [
    "- index : 식별자로 사용할 칼럼(복수 선택 가능)\n",
    "- columns : pivot 할 칼럼 지정(복수 선택 가능)(칼럼의 값(unique)들이 칼럼명)\n",
    "- values : pivot 된 칼럼의 값이 될 칼럼 지정"
   ]
  },
  {
   "cell_type": "code",
   "execution_count": null,
   "id": "c7ef9aca",
   "metadata": {},
   "outputs": [],
   "source": [
    "weather_tidy = weather_melt.pivot_table(\n",
    "    index=['id', 'year', 'month', 'day'],\n",
    "    columns='element',\n",
    "    values='temp'\n",
    ")\n",
    "print(weather_tidy)"
   ]
  },
  {
   "cell_type": "code",
   "execution_count": null,
   "id": "e9d9ceba",
   "metadata": {},
   "outputs": [],
   "source": [
    "weather_tidy_flat = weather_tidy.reset_index()\n",
    "print(weather_tidy_flat)"
   ]
  },
  {
   "cell_type": "code",
   "execution_count": null,
   "id": "81163b85",
   "metadata": {},
   "outputs": [],
   "source": [
    "weather_tidy = (\n",
    "    weather_melt\n",
    "    .pivot_table(\n",
    "        index=['id', 'year', 'month', 'day'],\n",
    "        columns='element',\n",
    "        values='temp')\n",
    "    .reset_index()\n",
    ")\n",
    "print(weather_tidy)"
   ]
  },
  {
   "cell_type": "code",
   "execution_count": 10,
   "id": "87ff4375",
   "metadata": {},
   "outputs": [],
   "source": [
    "import pandas as pd"
   ]
  },
  {
   "cell_type": "code",
   "execution_count": 11,
   "id": "44002276",
   "metadata": {},
   "outputs": [],
   "source": [
    "df = pd.read_excel(\"C:/Users/asiae/Downloads/inventory_Seoul.xlsx\")"
   ]
  },
  {
   "cell_type": "code",
   "execution_count": 12,
   "id": "df0c7ea2",
   "metadata": {},
   "outputs": [
    {
     "name": "stdout",
     "output_type": "stream",
     "text": [
      "<class 'pandas.core.frame.DataFrame'>\n",
      "RangeIndex: 88 entries, 0 to 87\n",
      "Data columns (total 5 columns):\n",
      " #   Column   Non-Null Count  Dtype \n",
      "---  ------   --------------  ----- \n",
      " 0   품목명      88 non-null     object\n",
      " 1   로케이션명    88 non-null     object\n",
      " 2   재고수량(A)  88 non-null     int64 \n",
      " 3   품목코드     88 non-null     object\n",
      " 4   창고코드     88 non-null     int64 \n",
      "dtypes: int64(2), object(3)\n",
      "memory usage: 3.6+ KB\n"
     ]
    }
   ],
   "source": [
    "df.info()"
   ]
  },
  {
   "cell_type": "code",
   "execution_count": null,
   "id": "2a57723c",
   "metadata": {},
   "outputs": [],
   "source": []
  },
  {
   "cell_type": "code",
   "execution_count": null,
   "id": "c37cae53",
   "metadata": {},
   "outputs": [],
   "source": []
  }
 ],
 "metadata": {
  "kernelspec": {
   "display_name": "Python 3 (ipykernel)",
   "language": "python",
   "name": "python3"
  },
  "language_info": {
   "codemirror_mode": {
    "name": "ipython",
    "version": 3
   },
   "file_extension": ".py",
   "mimetype": "text/x-python",
   "name": "python",
   "nbconvert_exporter": "python",
   "pygments_lexer": "ipython3",
   "version": "3.11.3"
  },
  "toc": {
   "base_numbering": 1,
   "nav_menu": {},
   "number_sections": false,
   "sideBar": false,
   "skip_h1_title": false,
   "title_cell": "Table of Contents",
   "title_sidebar": "Contents",
   "toc_cell": false,
   "toc_position": {
    "height": "1098px",
    "left": "613.867px",
    "top": "111.483px",
    "width": "255.467px"
   },
   "toc_section_display": true,
   "toc_window_display": true
  }
 },
 "nbformat": 4,
 "nbformat_minor": 5
}
