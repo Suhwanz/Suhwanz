{
 "cells": [
  {
   "cell_type": "markdown",
   "id": "e49d2d9d",
   "metadata": {},
   "source": [
    "## 06-1 간단한 함수 만들기"
   ]
  },
  {
   "cell_type": "markdown",
   "id": "2d5062ed",
   "metadata": {},
   "source": [
    "#### [Do It! 실습] 사용자 함수 만들기"
   ]
  },
  {
   "cell_type": "code",
   "execution_count": 29,
   "id": "c46b4250",
   "metadata": {},
   "outputs": [],
   "source": [
    "def my_sq(x):\n",
    "    return x ** 2"
   ]
  },
  {
   "cell_type": "code",
   "execution_count": 30,
   "id": "60c4e379",
   "metadata": {},
   "outputs": [],
   "source": [
    "def avg_2(x, y):\n",
    "    return (x + y) / 2"
   ]
  },
  {
   "cell_type": "markdown",
   "id": "54d39938",
   "metadata": {},
   "source": [
    "- 독스트링 : docstring -> 함수 도움말"
   ]
  },
  {
   "cell_type": "code",
   "execution_count": 31,
   "id": "d1b6a3dc",
   "metadata": {},
   "outputs": [],
   "source": [
    "def avg_2(x, y):\n",
    "    \"\"\"두 숫자의 평균을 구하는 함수\n",
    "    \"\"\"\n",
    "    return (x + y) / 2"
   ]
  },
  {
   "cell_type": "code",
   "execution_count": 32,
   "id": "a59fde30",
   "metadata": {},
   "outputs": [
    {
     "name": "stdout",
     "output_type": "stream",
     "text": [
      "16\n"
     ]
    }
   ],
   "source": [
    "my_calc_1 = my_sq(4)\n",
    "print(my_calc_1)"
   ]
  },
  {
   "cell_type": "code",
   "execution_count": 33,
   "id": "9f16bbd0",
   "metadata": {},
   "outputs": [
    {
     "name": "stdout",
     "output_type": "stream",
     "text": [
      "15.0\n"
     ]
    }
   ],
   "source": [
    "my_calc_2 = avg_2(10, 20)\n",
    "print(my_calc_2)"
   ]
  },
  {
   "cell_type": "markdown",
   "id": "c401b58e",
   "metadata": {},
   "source": [
    "## 06-2 apply() 메서드 사용하기"
   ]
  },
  {
   "cell_type": "markdown",
   "id": "fedb4d0f",
   "metadata": {},
   "source": [
    "- series 에 적용되는 apply()\n",
    "  - 연산 방향은 1 방향\n",
    "- dataframe 에 적용되는 apply()\n",
    "  - axis 방향을 지정할 수 있음"
   ]
  },
  {
   "cell_type": "markdown",
   "id": "6e188b6d",
   "metadata": {},
   "source": [
    "- func : 사용할 함수명\n",
    "- **kwds : 키워드로 지정해서 넘길 수 있는 함수의 매개변수, 복수 전달 가능\n",
    "  - .items()\n",
    "  - .keys()\n"
   ]
  },
  {
   "cell_type": "code",
   "execution_count": 34,
   "id": "5390805f",
   "metadata": {},
   "outputs": [
    {
     "name": "stdout",
     "output_type": "stream",
     "text": [
      "key1 3\n",
      "key2 4\n"
     ]
    }
   ],
   "source": [
    "def test1(**kwds):\n",
    "    for key, value in kwds.items():\n",
    "        print(key, value)\n",
    "\n",
    "test1(key1 = 3, key2 = 4)"
   ]
  },
  {
   "cell_type": "markdown",
   "id": "6d56bd95",
   "metadata": {},
   "source": [
    "- *args : 값만 지정해서 넘길 수 있는 함수의 매개변수, 복수 전달 가능"
   ]
  },
  {
   "cell_type": "code",
   "execution_count": 35,
   "id": "811daaa4",
   "metadata": {},
   "outputs": [
    {
     "name": "stdout",
     "output_type": "stream",
     "text": [
      "Tom \n",
      "\n",
      "Can \n",
      "\n"
     ]
    }
   ],
   "source": [
    "def test2(*args):\n",
    "    for value in args:\n",
    "        print(value, '\\n')\n",
    "\n",
    "test2('Tom', 'Can')"
   ]
  },
  {
   "cell_type": "markdown",
   "id": "d7bab8ee",
   "metadata": {},
   "source": [
    "#### [Do It! 실습] 데이터프레임에 함수 적용하기"
   ]
  },
  {
   "cell_type": "code",
   "execution_count": 36,
   "id": "01a0da75",
   "metadata": {},
   "outputs": [
    {
     "name": "stdout",
     "output_type": "stream",
     "text": [
      "    a   b\n",
      "0  10  20\n",
      "1  20  30\n",
      "2  30  40\n"
     ]
    }
   ],
   "source": [
    "import pandas as pd\n",
    "\n",
    "df = pd.DataFrame({\"a\": [10, 20, 30], \n",
    "                   \"b\": [20, 30, 40]})\n",
    "print(df)"
   ]
  },
  {
   "cell_type": "code",
   "execution_count": 37,
   "id": "2f13a1d6",
   "metadata": {},
   "outputs": [
    {
     "name": "stdout",
     "output_type": "stream",
     "text": [
      "0    100\n",
      "1    400\n",
      "2    900\n",
      "Name: a, dtype: int64\n"
     ]
    }
   ],
   "source": [
    "print(df['a'] ** 2)"
   ]
  },
  {
   "cell_type": "markdown",
   "id": "c2df540f",
   "metadata": {},
   "source": [
    "### 시리즈에 함수 적용하기"
   ]
  },
  {
   "cell_type": "markdown",
   "id": "80bc3d1c",
   "metadata": {},
   "source": [
    "#### [Do It! 실습] 시리즈에 함수 적용하기"
   ]
  },
  {
   "cell_type": "code",
   "execution_count": 38,
   "id": "b5d4c443",
   "metadata": {},
   "outputs": [
    {
     "name": "stdout",
     "output_type": "stream",
     "text": [
      "<class 'pandas.core.series.Series'>\n"
     ]
    }
   ],
   "source": [
    "print(type(df['a']))"
   ]
  },
  {
   "cell_type": "code",
   "execution_count": 39,
   "id": "3629195d",
   "metadata": {},
   "outputs": [
    {
     "name": "stdout",
     "output_type": "stream",
     "text": [
      "<class 'pandas.core.series.Series'>\n"
     ]
    }
   ],
   "source": [
    "print(type(df.iloc[0]))"
   ]
  },
  {
   "cell_type": "code",
   "execution_count": 40,
   "id": "bd3a28e1",
   "metadata": {},
   "outputs": [
    {
     "name": "stdout",
     "output_type": "stream",
     "text": [
      "0    100\n",
      "1    400\n",
      "2    900\n",
      "Name: a, dtype: int64\n"
     ]
    }
   ],
   "source": [
    "sq = df['a'].apply(my_sq)\n",
    "print(sq)"
   ]
  },
  {
   "cell_type": "markdown",
   "id": "742eb394",
   "metadata": {},
   "source": [
    "#### [Do It! 실습] 사용자 함수 만들어 데이터프레임에 적용하기"
   ]
  },
  {
   "cell_type": "code",
   "execution_count": 41,
   "id": "7d03bed0",
   "metadata": {},
   "outputs": [],
   "source": [
    "def my_exp(x, e):\n",
    "    return x ** e"
   ]
  },
  {
   "cell_type": "code",
   "execution_count": 42,
   "id": "66da0e64",
   "metadata": {},
   "outputs": [
    {
     "name": "stdout",
     "output_type": "stream",
     "text": [
      "8\n"
     ]
    }
   ],
   "source": [
    "cubed = my_exp(2, 3)\n",
    "\n",
    "print(cubed)"
   ]
  },
  {
   "cell_type": "code",
   "execution_count": 43,
   "id": "98b03ff3",
   "metadata": {},
   "outputs": [],
   "source": [
    "# my_exp(2)  # 오류"
   ]
  },
  {
   "cell_type": "code",
   "execution_count": 44,
   "id": "87040008",
   "metadata": {},
   "outputs": [
    {
     "name": "stdout",
     "output_type": "stream",
     "text": [
      "0    100\n",
      "1    400\n",
      "2    900\n",
      "Name: a, dtype: int64\n"
     ]
    }
   ],
   "source": [
    "ex = df['a'].apply(my_exp, e=2)\n",
    "print(ex)"
   ]
  },
  {
   "cell_type": "code",
   "execution_count": 45,
   "id": "187b56b0",
   "metadata": {},
   "outputs": [
    {
     "name": "stdout",
     "output_type": "stream",
     "text": [
      "0     1000\n",
      "1     8000\n",
      "2    27000\n",
      "Name: a, dtype: int64\n"
     ]
    }
   ],
   "source": [
    "ex = df['a'].apply(my_exp, e=3)\n",
    "print(ex)"
   ]
  },
  {
   "cell_type": "markdown",
   "id": "08c035a5",
   "metadata": {},
   "source": [
    "### 데이터프레임에 함수 적용하기"
   ]
  },
  {
   "cell_type": "code",
   "execution_count": 46,
   "id": "975f9910",
   "metadata": {},
   "outputs": [
    {
     "name": "stdout",
     "output_type": "stream",
     "text": [
      "    a   b\n",
      "0  10  20\n",
      "1  20  30\n",
      "2  30  40\n"
     ]
    }
   ],
   "source": [
    "df = pd.DataFrame({\"a\": [10, 20, 30], \n",
    "                   \"b\": [20, 30, 40]})\n",
    "print(df)"
   ]
  },
  {
   "cell_type": "code",
   "execution_count": 47,
   "id": "ef66836b",
   "metadata": {},
   "outputs": [],
   "source": [
    "def print_me(x):\n",
    "    print(x)"
   ]
  },
  {
   "cell_type": "markdown",
   "id": "ee8863c0",
   "metadata": {},
   "source": [
    "#### [Do It! 실습] 열 단위로 함수 적용하기"
   ]
  },
  {
   "cell_type": "code",
   "execution_count": 48,
   "id": "02963ba8",
   "metadata": {},
   "outputs": [
    {
     "name": "stdout",
     "output_type": "stream",
     "text": [
      "0    10\n",
      "1    20\n",
      "2    30\n",
      "Name: a, dtype: int64\n",
      "0    20\n",
      "1    30\n",
      "2    40\n",
      "Name: b, dtype: int64\n"
     ]
    },
    {
     "data": {
      "text/plain": [
       "a    None\n",
       "b    None\n",
       "dtype: object"
      ]
     },
     "execution_count": 48,
     "metadata": {},
     "output_type": "execute_result"
    }
   ],
   "source": [
    "df.apply(print_me, axis=0)"
   ]
  },
  {
   "cell_type": "code",
   "execution_count": 49,
   "id": "cb7913df",
   "metadata": {},
   "outputs": [
    {
     "name": "stdout",
     "output_type": "stream",
     "text": [
      "0    10\n",
      "1    20\n",
      "2    30\n",
      "Name: a, dtype: int64\n"
     ]
    }
   ],
   "source": [
    "print(df['a'])"
   ]
  },
  {
   "cell_type": "code",
   "execution_count": 50,
   "id": "6b32c69c",
   "metadata": {},
   "outputs": [
    {
     "name": "stdout",
     "output_type": "stream",
     "text": [
      "0    20\n",
      "1    30\n",
      "2    40\n",
      "Name: b, dtype: int64\n"
     ]
    }
   ],
   "source": [
    "print(df['b'])"
   ]
  },
  {
   "cell_type": "code",
   "execution_count": 51,
   "id": "bd74d215",
   "metadata": {},
   "outputs": [],
   "source": [
    "def avg_3(x, y, z):\n",
    "    return (x + y + z) / 3"
   ]
  },
  {
   "cell_type": "code",
   "execution_count": 52,
   "id": "d0162ba8",
   "metadata": {},
   "outputs": [],
   "source": [
    "# print(df.apply(avg_3))  # 오류"
   ]
  },
  {
   "cell_type": "code",
   "execution_count": 53,
   "id": "0a9d3438",
   "metadata": {},
   "outputs": [],
   "source": [
    "def avg_3_apply(col):\n",
    "    x = col[0]\n",
    "    y = col[1]\n",
    "    z = col[2]\n",
    "    return (x + y + z) / 3"
   ]
  },
  {
   "cell_type": "code",
   "execution_count": 54,
   "id": "459b91cc",
   "metadata": {},
   "outputs": [
    {
     "name": "stdout",
     "output_type": "stream",
     "text": [
      "a    20.0\n",
      "b    30.0\n",
      "dtype: float64\n"
     ]
    }
   ],
   "source": [
    "print(df.apply(avg_3_apply))"
   ]
  },
  {
   "cell_type": "markdown",
   "id": "4cac7313",
   "metadata": {},
   "source": [
    "#### [Do It! 실습] 행 단위로 함수 적용하기"
   ]
  },
  {
   "cell_type": "code",
   "execution_count": 55,
   "id": "90bdc6cf",
   "metadata": {},
   "outputs": [],
   "source": [
    "# print(df.apply(avg_3_apply, axis=1))  # 오류"
   ]
  },
  {
   "cell_type": "code",
   "execution_count": 56,
   "id": "8d97a4ff",
   "metadata": {},
   "outputs": [],
   "source": [
    "def avg_2_apply(row):\n",
    "    x = row[0]\n",
    "    y = row[1]\n",
    "    return (x + y) / 2"
   ]
  },
  {
   "cell_type": "code",
   "execution_count": 57,
   "id": "9fc98c82",
   "metadata": {},
   "outputs": [
    {
     "name": "stdout",
     "output_type": "stream",
     "text": [
      "a    15.0\n",
      "b    25.0\n",
      "dtype: float64\n"
     ]
    }
   ],
   "source": [
    "print(df.apply(avg_2_apply, axis=0))"
   ]
  },
  {
   "cell_type": "markdown",
   "id": "9cd5a2c2",
   "metadata": {},
   "source": [
    "## 06-3 람다 함수 사용하기 "
   ]
  },
  {
   "cell_type": "markdown",
   "id": "0d627195",
   "metadata": {},
   "source": [
    "#### [Do It! 실습] 데이터프레임에 람다 함수 사용하기"
   ]
  },
  {
   "cell_type": "code",
   "execution_count": 58,
   "id": "96f89619",
   "metadata": {},
   "outputs": [
    {
     "name": "stdout",
     "output_type": "stream",
     "text": [
      "    a   b\n",
      "0  10  20\n",
      "1  20  30\n",
      "2  30  40\n"
     ]
    }
   ],
   "source": [
    "df = pd.DataFrame({'a': [10, 20, 30],\n",
    "                   'b': [20, 30, 40]})\n",
    "print(df)"
   ]
  },
  {
   "cell_type": "code",
   "execution_count": 59,
   "id": "e10228fc",
   "metadata": {},
   "outputs": [
    {
     "name": "stdout",
     "output_type": "stream",
     "text": [
      "    a   b  a_sq\n",
      "0  10  20   100\n",
      "1  20  30   400\n",
      "2  30  40   900\n"
     ]
    }
   ],
   "source": [
    "def my_sq(x):\n",
    "    return x ** 2\n",
    "\n",
    "df['a_sq'] = df['a'].apply(my_sq)\n",
    "print(df)"
   ]
  },
  {
   "cell_type": "code",
   "execution_count": 60,
   "id": "8d9e0f32",
   "metadata": {},
   "outputs": [
    {
     "name": "stdout",
     "output_type": "stream",
     "text": [
      "    a   b  a_sq  a_sq_lamb\n",
      "0  10  20   100        100\n",
      "1  20  30   400        400\n",
      "2  30  40   900        900\n"
     ]
    }
   ],
   "source": [
    "df['a_sq_lamb'] = df['a'].apply(lambda x: x ** 2)\n",
    "print(df)"
   ]
  },
  {
   "cell_type": "markdown",
   "id": "b8d45aae",
   "metadata": {},
   "source": [
    "- lambda 로 불명확한 코드(짧은 변수명) 작성은 후에 판독하기 어려워짐"
   ]
  },
  {
   "cell_type": "code",
   "execution_count": 61,
   "id": "9f25e8bb",
   "metadata": {},
   "outputs": [
    {
     "name": "stdout",
     "output_type": "stream",
     "text": [
      "10 20\n",
      "20 30\n",
      "30 40\n"
     ]
    },
    {
     "name": "stderr",
     "output_type": "stream",
     "text": [
      "C:\\Users\\asiae\\AppData\\Local\\Temp\\ipykernel_3160\\351421564.py:1: FutureWarning: Series.__getitem__ treating keys as positions is deprecated. In a future version, integer keys will always be treated as labels (consistent with DataFrame behavior). To access a value by position, use `ser.iloc[pos]`\n",
      "  df.apply(lambda x : print(x[0], x[1]), axis = 1)\n"
     ]
    },
    {
     "data": {
      "text/plain": [
       "0    None\n",
       "1    None\n",
       "2    None\n",
       "dtype: object"
      ]
     },
     "execution_count": 61,
     "metadata": {},
     "output_type": "execute_result"
    }
   ],
   "source": [
    "df.apply(lambda x : print(x[0], x[1]), axis = 1)"
   ]
  },
  {
   "cell_type": "code",
   "execution_count": 62,
   "id": "f690c309",
   "metadata": {},
   "outputs": [
    {
     "name": "stdout",
     "output_type": "stream",
     "text": [
      "10 20 30\n",
      "20 30 40\n",
      "100 400 900\n",
      "100 400 900\n"
     ]
    },
    {
     "data": {
      "text/plain": [
       "a            None\n",
       "b            None\n",
       "a_sq         None\n",
       "a_sq_lamb    None\n",
       "dtype: object"
      ]
     },
     "execution_count": 62,
     "metadata": {},
     "output_type": "execute_result"
    }
   ],
   "source": [
    "df.apply(lambda x : print(x[0], x[1], x[2]), axis = 0)"
   ]
  },
  {
   "cell_type": "markdown",
   "id": "24d20c98",
   "metadata": {},
   "source": [
    "## 06-4 벡터화된 함수 사용하기"
   ]
  },
  {
   "cell_type": "markdown",
   "id": "84e98017",
   "metadata": {},
   "source": [
    "#### [Do It! 실습] 벡터화된 함수 사용하기"
   ]
  },
  {
   "cell_type": "markdown",
   "id": "0a69c502",
   "metadata": {},
   "source": []
  },
  {
   "cell_type": "code",
   "execution_count": 63,
   "id": "c3daca75",
   "metadata": {},
   "outputs": [
    {
     "name": "stdout",
     "output_type": "stream",
     "text": [
      "    a   b\n",
      "0  10  20\n",
      "1  20  30\n",
      "2  30  40\n"
     ]
    }
   ],
   "source": [
    "df = pd.DataFrame({\"a\": [10, 20, 30], \n",
    "                   \"b\": [20, 30, 40]})\n",
    "print(df)"
   ]
  },
  {
   "cell_type": "code",
   "execution_count": 64,
   "id": "33412891",
   "metadata": {},
   "outputs": [],
   "source": [
    "def avg_2(x, y):\n",
    "    return (x + y) / 2"
   ]
  },
  {
   "cell_type": "code",
   "execution_count": 65,
   "id": "cd0c4d8f",
   "metadata": {},
   "outputs": [
    {
     "name": "stdout",
     "output_type": "stream",
     "text": [
      "0    15.0\n",
      "1    25.0\n",
      "2    35.0\n",
      "dtype: float64\n"
     ]
    }
   ],
   "source": [
    "print(avg_2(df['a'], df['b']))"
   ]
  },
  {
   "cell_type": "code",
   "execution_count": 66,
   "id": "86633375",
   "metadata": {},
   "outputs": [],
   "source": [
    "import numpy as np\n",
    "\n",
    "def avg_2_mod(x, y):\n",
    "    if (x == 20):\n",
    "        return(np.NaN)\n",
    "    else:\n",
    "        return (x + y) / 2"
   ]
  },
  {
   "cell_type": "code",
   "execution_count": 67,
   "id": "12e9cfd6",
   "metadata": {},
   "outputs": [],
   "source": [
    "# print(avg_2_mod(df['a'], df['b']))  # 오류"
   ]
  },
  {
   "cell_type": "code",
   "execution_count": 68,
   "id": "9f42888e",
   "metadata": {},
   "outputs": [
    {
     "name": "stdout",
     "output_type": "stream",
     "text": [
      "15.0\n"
     ]
    }
   ],
   "source": [
    "print(avg_2_mod(10, 20))"
   ]
  },
  {
   "cell_type": "code",
   "execution_count": 69,
   "id": "27d5807b",
   "metadata": {
    "scrolled": true
   },
   "outputs": [
    {
     "name": "stdout",
     "output_type": "stream",
     "text": [
      "nan\n"
     ]
    }
   ],
   "source": [
    "print(avg_2_mod(20, 30))"
   ]
  },
  {
   "cell_type": "markdown",
   "id": "e0ec9d9b",
   "metadata": {},
   "source": [
    "### 넘파이와 넘바로 벡터화하기"
   ]
  },
  {
   "cell_type": "markdown",
   "id": "c8968f34",
   "metadata": {},
   "source": [
    "#### [Do It! 실습] 넘파이로 벡터화하기"
   ]
  },
  {
   "cell_type": "code",
   "execution_count": 70,
   "id": "3e61e390",
   "metadata": {},
   "outputs": [],
   "source": [
    "import numpy as np\n",
    "\n",
    "avg_2_mod_vec = np.vectorize(avg_2_mod)"
   ]
  },
  {
   "cell_type": "code",
   "execution_count": 71,
   "id": "2f9776c4",
   "metadata": {},
   "outputs": [
    {
     "name": "stdout",
     "output_type": "stream",
     "text": [
      "[15. nan 35.]\n"
     ]
    }
   ],
   "source": [
    "print(avg_2_mod_vec(df['a'], df['b']))"
   ]
  },
  {
   "cell_type": "code",
   "execution_count": 72,
   "id": "4fec5510",
   "metadata": {},
   "outputs": [
    {
     "name": "stdout",
     "output_type": "stream",
     "text": [
      "[15. nan 35.]\n"
     ]
    }
   ],
   "source": [
    "@np.vectorize\n",
    "def v_avg_2_mod(x, y):\n",
    "    if (x == 20):\n",
    "        return(np.NaN)\n",
    "    else:\n",
    "        return (x + y) / 2\n",
    "\n",
    "print(v_avg_2_mod(df['a'], df['b']))"
   ]
  },
  {
   "cell_type": "markdown",
   "id": "ffe8fe59",
   "metadata": {},
   "source": [
    "#### [Do It! 실습] 넘바로 벡터화하기"
   ]
  },
  {
   "cell_type": "code",
   "execution_count": 73,
   "id": "0511a50e",
   "metadata": {},
   "outputs": [
    {
     "ename": "ModuleNotFoundError",
     "evalue": "No module named 'numba'",
     "output_type": "error",
     "traceback": [
      "\u001b[1;31m---------------------------------------------------------------------------\u001b[0m",
      "\u001b[1;31mModuleNotFoundError\u001b[0m                       Traceback (most recent call last)",
      "Cell \u001b[1;32mIn[73], line 1\u001b[0m\n\u001b[1;32m----> 1\u001b[0m \u001b[38;5;28;01mimport\u001b[39;00m \u001b[38;5;21;01mnumba\u001b[39;00m\n\u001b[0;32m      3\u001b[0m \u001b[38;5;129m@numba\u001b[39m\u001b[38;5;241m.\u001b[39mvectorize\n\u001b[0;32m      4\u001b[0m \u001b[38;5;28;01mdef\u001b[39;00m \u001b[38;5;21mv_avg_2_numba\u001b[39m(x, y):\n\u001b[0;32m      5\u001b[0m     \u001b[38;5;28;01mif\u001b[39;00m (\u001b[38;5;28mint\u001b[39m(x) \u001b[38;5;241m==\u001b[39m \u001b[38;5;241m20\u001b[39m):\n",
      "\u001b[1;31mModuleNotFoundError\u001b[0m: No module named 'numba'"
     ]
    }
   ],
   "source": [
    "import numba\n",
    "\n",
    "@numba.vectorize\n",
    "def v_avg_2_numba(x, y):\n",
    "    if (int(x) == 20):\n",
    "        return(np.NaN)\n",
    "    else:\n",
    "        return (x + y) / 2"
   ]
  },
  {
   "cell_type": "code",
   "execution_count": null,
   "id": "8a70ed56",
   "metadata": {},
   "outputs": [],
   "source": [
    "# print(v_avg_2_numba(df['a'], df['b']))  # 오류"
   ]
  },
  {
   "cell_type": "code",
   "execution_count": null,
   "id": "1d2a0776",
   "metadata": {},
   "outputs": [],
   "source": [
    "print(v_avg_2_numba(df['a'].values, df['b'].values))"
   ]
  },
  {
   "cell_type": "markdown",
   "id": "94eb2195",
   "metadata": {},
   "source": [
    "# pydataset을 이용한 pivot 연습"
   ]
  },
  {
   "cell_type": "code",
   "execution_count": 25,
   "id": "e86cb0f1",
   "metadata": {},
   "outputs": [
    {
     "name": "stdout",
     "output_type": "stream",
     "text": [
      "Collecting pydataset\n",
      "  Downloading pydataset-0.2.0.tar.gz (15.9 MB)\n",
      "     ---------------------------------------- 0.0/15.9 MB ? eta -:--:--\n",
      "     - -------------------------------------- 0.7/15.9 MB 14.2 MB/s eta 0:00:02\n",
      "     ----- ---------------------------------- 2.0/15.9 MB 21.6 MB/s eta 0:00:01\n",
      "     ---------- ----------------------------- 4.2/15.9 MB 30.0 MB/s eta 0:00:01\n",
      "     ------------- -------------------------- 5.2/15.9 MB 33.5 MB/s eta 0:00:01\n",
      "     ------------- -------------------------- 5.2/15.9 MB 33.5 MB/s eta 0:00:01\n",
      "     ------------- -------------------------- 5.2/15.9 MB 33.5 MB/s eta 0:00:01\n",
      "     --------------- ------------------------ 6.3/15.9 MB 20.1 MB/s eta 0:00:01\n",
      "     -------------------- ------------------- 8.3/15.9 MB 22.2 MB/s eta 0:00:01\n",
      "     ----------------------------- --------- 12.1/15.9 MB 29.7 MB/s eta 0:00:01\n",
      "     --------------------------------------  15.9/15.9 MB 65.6 MB/s eta 0:00:01\n",
      "     --------------------------------------- 15.9/15.9 MB 59.5 MB/s eta 0:00:00\n",
      "  Installing build dependencies: started\n",
      "  Installing build dependencies: finished with status 'done'\n",
      "  Getting requirements to build wheel: started\n",
      "  Getting requirements to build wheel: finished with status 'done'\n",
      "  Installing backend dependencies: started\n",
      "  Installing backend dependencies: finished with status 'done'\n",
      "  Preparing metadata (pyproject.toml): started\n",
      "  Preparing metadata (pyproject.toml): finished with status 'done'\n",
      "Requirement already satisfied: pandas in c:\\programs\\python\\python311\\lib\\site-packages (from pydataset) (2.2.1)\n",
      "Requirement already satisfied: numpy<2,>=1.23.2 in c:\\programs\\python\\python311\\lib\\site-packages (from pandas->pydataset) (1.26.4)\n",
      "Requirement already satisfied: python-dateutil>=2.8.2 in c:\\programs\\python\\python311\\lib\\site-packages (from pandas->pydataset) (2.9.0.post0)\n",
      "Requirement already satisfied: pytz>=2020.1 in c:\\programs\\python\\python311\\lib\\site-packages (from pandas->pydataset) (2024.1)\n",
      "Requirement already satisfied: tzdata>=2022.7 in c:\\programs\\python\\python311\\lib\\site-packages (from pandas->pydataset) (2024.1)\n",
      "Requirement already satisfied: six>=1.5 in c:\\programs\\python\\python311\\lib\\site-packages (from python-dateutil>=2.8.2->pandas->pydataset) (1.16.0)\n",
      "Building wheels for collected packages: pydataset\n",
      "  Building wheel for pydataset (pyproject.toml): started\n",
      "  Building wheel for pydataset (pyproject.toml): finished with status 'done'\n",
      "  Created wheel for pydataset: filename=pydataset-0.2.0-py3-none-any.whl size=15939425 sha256=7cab68100aafc5c43ae8d6bcb14774ffc781df26dbd94999a9c50e1288e4a5aa\n",
      "  Stored in directory: c:\\users\\asiae\\appdata\\local\\pip\\cache\\wheels\\29\\93\\3f\\af54c413cecaac292940342c61882d2a8848674175d0bb0889\n",
      "Successfully built pydataset\n",
      "Installing collected packages: pydataset\n",
      "Successfully installed pydataset-0.2.0\n"
     ]
    }
   ],
   "source": [
    "!pip install pydataset"
   ]
  },
  {
   "cell_type": "code",
   "execution_count": 26,
   "id": "aed2ff87",
   "metadata": {},
   "outputs": [
    {
     "name": "stdout",
     "output_type": "stream",
     "text": [
      "initiated datasets repo at: C:\\Users\\asiae\\.pydataset/\n"
     ]
    }
   ],
   "source": [
    "import pydataset"
   ]
  },
  {
   "cell_type": "code",
   "execution_count": 27,
   "id": "4777cc2b",
   "metadata": {},
   "outputs": [],
   "source": [
    "tips = pydataset.data('tips')"
   ]
  },
  {
   "cell_type": "code",
   "execution_count": 28,
   "id": "a4f59b1a",
   "metadata": {},
   "outputs": [
    {
     "data": {
      "text/html": [
       "<div>\n",
       "<style scoped>\n",
       "    .dataframe tbody tr th:only-of-type {\n",
       "        vertical-align: middle;\n",
       "    }\n",
       "\n",
       "    .dataframe tbody tr th {\n",
       "        vertical-align: top;\n",
       "    }\n",
       "\n",
       "    .dataframe thead th {\n",
       "        text-align: right;\n",
       "    }\n",
       "</style>\n",
       "<table border=\"1\" class=\"dataframe\">\n",
       "  <thead>\n",
       "    <tr style=\"text-align: right;\">\n",
       "      <th></th>\n",
       "      <th>total_bill</th>\n",
       "      <th>tip</th>\n",
       "      <th>sex</th>\n",
       "      <th>smoker</th>\n",
       "      <th>day</th>\n",
       "      <th>time</th>\n",
       "      <th>size</th>\n",
       "    </tr>\n",
       "  </thead>\n",
       "  <tbody>\n",
       "    <tr>\n",
       "      <th>1</th>\n",
       "      <td>16.99</td>\n",
       "      <td>1.01</td>\n",
       "      <td>Female</td>\n",
       "      <td>No</td>\n",
       "      <td>Sun</td>\n",
       "      <td>Dinner</td>\n",
       "      <td>2</td>\n",
       "    </tr>\n",
       "    <tr>\n",
       "      <th>2</th>\n",
       "      <td>10.34</td>\n",
       "      <td>1.66</td>\n",
       "      <td>Male</td>\n",
       "      <td>No</td>\n",
       "      <td>Sun</td>\n",
       "      <td>Dinner</td>\n",
       "      <td>3</td>\n",
       "    </tr>\n",
       "    <tr>\n",
       "      <th>3</th>\n",
       "      <td>21.01</td>\n",
       "      <td>3.50</td>\n",
       "      <td>Male</td>\n",
       "      <td>No</td>\n",
       "      <td>Sun</td>\n",
       "      <td>Dinner</td>\n",
       "      <td>3</td>\n",
       "    </tr>\n",
       "    <tr>\n",
       "      <th>4</th>\n",
       "      <td>23.68</td>\n",
       "      <td>3.31</td>\n",
       "      <td>Male</td>\n",
       "      <td>No</td>\n",
       "      <td>Sun</td>\n",
       "      <td>Dinner</td>\n",
       "      <td>2</td>\n",
       "    </tr>\n",
       "    <tr>\n",
       "      <th>5</th>\n",
       "      <td>24.59</td>\n",
       "      <td>3.61</td>\n",
       "      <td>Female</td>\n",
       "      <td>No</td>\n",
       "      <td>Sun</td>\n",
       "      <td>Dinner</td>\n",
       "      <td>4</td>\n",
       "    </tr>\n",
       "  </tbody>\n",
       "</table>\n",
       "</div>"
      ],
      "text/plain": [
       "   total_bill   tip     sex smoker  day    time  size\n",
       "1       16.99  1.01  Female     No  Sun  Dinner     2\n",
       "2       10.34  1.66    Male     No  Sun  Dinner     3\n",
       "3       21.01  3.50    Male     No  Sun  Dinner     3\n",
       "4       23.68  3.31    Male     No  Sun  Dinner     2\n",
       "5       24.59  3.61  Female     No  Sun  Dinner     4"
      ]
     },
     "execution_count": 28,
     "metadata": {},
     "output_type": "execute_result"
    }
   ],
   "source": [
    "tips.head()"
   ]
  },
  {
   "cell_type": "code",
   "execution_count": 74,
   "id": "45c9c96c",
   "metadata": {},
   "outputs": [
    {
     "name": "stdout",
     "output_type": "stream",
     "text": [
      "<class 'pandas.core.frame.DataFrame'>\n",
      "Index: 244 entries, 1 to 244\n",
      "Data columns (total 7 columns):\n",
      " #   Column      Non-Null Count  Dtype  \n",
      "---  ------      --------------  -----  \n",
      " 0   total_bill  244 non-null    float64\n",
      " 1   tip         244 non-null    float64\n",
      " 2   sex         244 non-null    object \n",
      " 3   smoker      244 non-null    object \n",
      " 4   day         244 non-null    object \n",
      " 5   time        244 non-null    object \n",
      " 6   size        244 non-null    int64  \n",
      "dtypes: float64(2), int64(1), object(4)\n",
      "memory usage: 15.2+ KB\n"
     ]
    }
   ],
   "source": [
    "tips.info()"
   ]
  },
  {
   "cell_type": "code",
   "execution_count": 75,
   "id": "ea030249",
   "metadata": {},
   "outputs": [],
   "source": [
    "tips['tip_pct'] = tips['tip'] / tips['total_bill']"
   ]
  },
  {
   "cell_type": "code",
   "execution_count": 76,
   "id": "bdce2260",
   "metadata": {},
   "outputs": [
    {
     "data": {
      "text/html": [
       "<div>\n",
       "<style scoped>\n",
       "    .dataframe tbody tr th:only-of-type {\n",
       "        vertical-align: middle;\n",
       "    }\n",
       "\n",
       "    .dataframe tbody tr th {\n",
       "        vertical-align: top;\n",
       "    }\n",
       "\n",
       "    .dataframe thead th {\n",
       "        text-align: right;\n",
       "    }\n",
       "</style>\n",
       "<table border=\"1\" class=\"dataframe\">\n",
       "  <thead>\n",
       "    <tr style=\"text-align: right;\">\n",
       "      <th></th>\n",
       "      <th>total_bill</th>\n",
       "      <th>tip</th>\n",
       "      <th>sex</th>\n",
       "      <th>smoker</th>\n",
       "      <th>day</th>\n",
       "      <th>time</th>\n",
       "      <th>size</th>\n",
       "      <th>tip_pct</th>\n",
       "    </tr>\n",
       "  </thead>\n",
       "  <tbody>\n",
       "    <tr>\n",
       "      <th>1</th>\n",
       "      <td>16.99</td>\n",
       "      <td>1.01</td>\n",
       "      <td>Female</td>\n",
       "      <td>No</td>\n",
       "      <td>Sun</td>\n",
       "      <td>Dinner</td>\n",
       "      <td>2</td>\n",
       "      <td>0.059447</td>\n",
       "    </tr>\n",
       "    <tr>\n",
       "      <th>2</th>\n",
       "      <td>10.34</td>\n",
       "      <td>1.66</td>\n",
       "      <td>Male</td>\n",
       "      <td>No</td>\n",
       "      <td>Sun</td>\n",
       "      <td>Dinner</td>\n",
       "      <td>3</td>\n",
       "      <td>0.160542</td>\n",
       "    </tr>\n",
       "    <tr>\n",
       "      <th>3</th>\n",
       "      <td>21.01</td>\n",
       "      <td>3.50</td>\n",
       "      <td>Male</td>\n",
       "      <td>No</td>\n",
       "      <td>Sun</td>\n",
       "      <td>Dinner</td>\n",
       "      <td>3</td>\n",
       "      <td>0.166587</td>\n",
       "    </tr>\n",
       "    <tr>\n",
       "      <th>4</th>\n",
       "      <td>23.68</td>\n",
       "      <td>3.31</td>\n",
       "      <td>Male</td>\n",
       "      <td>No</td>\n",
       "      <td>Sun</td>\n",
       "      <td>Dinner</td>\n",
       "      <td>2</td>\n",
       "      <td>0.139780</td>\n",
       "    </tr>\n",
       "    <tr>\n",
       "      <th>5</th>\n",
       "      <td>24.59</td>\n",
       "      <td>3.61</td>\n",
       "      <td>Female</td>\n",
       "      <td>No</td>\n",
       "      <td>Sun</td>\n",
       "      <td>Dinner</td>\n",
       "      <td>4</td>\n",
       "      <td>0.146808</td>\n",
       "    </tr>\n",
       "  </tbody>\n",
       "</table>\n",
       "</div>"
      ],
      "text/plain": [
       "   total_bill   tip     sex smoker  day    time  size   tip_pct\n",
       "1       16.99  1.01  Female     No  Sun  Dinner     2  0.059447\n",
       "2       10.34  1.66    Male     No  Sun  Dinner     3  0.160542\n",
       "3       21.01  3.50    Male     No  Sun  Dinner     3  0.166587\n",
       "4       23.68  3.31    Male     No  Sun  Dinner     2  0.139780\n",
       "5       24.59  3.61  Female     No  Sun  Dinner     4  0.146808"
      ]
     },
     "execution_count": 76,
     "metadata": {},
     "output_type": "execute_result"
    }
   ],
   "source": [
    "tips.head()"
   ]
  },
  {
   "cell_type": "code",
   "execution_count": 78,
   "id": "2969f636",
   "metadata": {},
   "outputs": [
    {
     "data": {
      "text/plain": [
       "day   smoker\n",
       "Fri   No        0.151650\n",
       "      Yes       0.174783\n",
       "Sat   No        0.158048\n",
       "      Yes       0.147906\n",
       "Sun   No        0.160113\n",
       "      Yes       0.187250\n",
       "Thur  No        0.160298\n",
       "      Yes       0.163863\n",
       "Name: tip_pct, dtype: float64"
      ]
     },
     "execution_count": 78,
     "metadata": {},
     "output_type": "execute_result"
    }
   ],
   "source": [
    "tips.groupby(['day', 'smoker']).tip_pct.mean()"
   ]
  },
  {
   "cell_type": "code",
   "execution_count": 79,
   "id": "4332390c",
   "metadata": {},
   "outputs": [
    {
     "data": {
      "text/plain": [
       "day   smoker\n",
       "Fri   No        0.151650\n",
       "      Yes       0.174783\n",
       "Sat   No        0.158048\n",
       "      Yes       0.147906\n",
       "Sun   No        0.160113\n",
       "      Yes       0.187250\n",
       "Thur  No        0.160298\n",
       "      Yes       0.163863\n",
       "Name: tip_pct, dtype: float64"
      ]
     },
     "execution_count": 79,
     "metadata": {},
     "output_type": "execute_result"
    }
   ],
   "source": [
    "tips.groupby(['day', 'smoker'])['tip_pct'].mean()"
   ]
  },
  {
   "cell_type": "code",
   "execution_count": 83,
   "id": "d5ceeba4",
   "metadata": {},
   "outputs": [
    {
     "data": {
      "text/html": [
       "<div>\n",
       "<style scoped>\n",
       "    .dataframe tbody tr th:only-of-type {\n",
       "        vertical-align: middle;\n",
       "    }\n",
       "\n",
       "    .dataframe tbody tr th {\n",
       "        vertical-align: top;\n",
       "    }\n",
       "\n",
       "    .dataframe thead tr th {\n",
       "        text-align: left;\n",
       "    }\n",
       "\n",
       "    .dataframe thead tr:last-of-type th {\n",
       "        text-align: right;\n",
       "    }\n",
       "</style>\n",
       "<table border=\"1\" class=\"dataframe\">\n",
       "  <thead>\n",
       "    <tr>\n",
       "      <th></th>\n",
       "      <th></th>\n",
       "      <th colspan=\"2\" halign=\"left\">size</th>\n",
       "      <th colspan=\"2\" halign=\"left\">tip_pct</th>\n",
       "    </tr>\n",
       "    <tr>\n",
       "      <th></th>\n",
       "      <th>smoker</th>\n",
       "      <th>No</th>\n",
       "      <th>Yes</th>\n",
       "      <th>No</th>\n",
       "      <th>Yes</th>\n",
       "    </tr>\n",
       "    <tr>\n",
       "      <th>time</th>\n",
       "      <th>day</th>\n",
       "      <th></th>\n",
       "      <th></th>\n",
       "      <th></th>\n",
       "      <th></th>\n",
       "    </tr>\n",
       "  </thead>\n",
       "  <tbody>\n",
       "    <tr>\n",
       "      <th rowspan=\"4\" valign=\"top\">Dinner</th>\n",
       "      <th>Fri</th>\n",
       "      <td>2.000000</td>\n",
       "      <td>2.222222</td>\n",
       "      <td>0.139622</td>\n",
       "      <td>0.165347</td>\n",
       "    </tr>\n",
       "    <tr>\n",
       "      <th>Sat</th>\n",
       "      <td>2.555556</td>\n",
       "      <td>2.476190</td>\n",
       "      <td>0.158048</td>\n",
       "      <td>0.147906</td>\n",
       "    </tr>\n",
       "    <tr>\n",
       "      <th>Sun</th>\n",
       "      <td>2.929825</td>\n",
       "      <td>2.578947</td>\n",
       "      <td>0.160113</td>\n",
       "      <td>0.187250</td>\n",
       "    </tr>\n",
       "    <tr>\n",
       "      <th>Thur</th>\n",
       "      <td>2.000000</td>\n",
       "      <td>NaN</td>\n",
       "      <td>0.159744</td>\n",
       "      <td>NaN</td>\n",
       "    </tr>\n",
       "    <tr>\n",
       "      <th rowspan=\"2\" valign=\"top\">Lunch</th>\n",
       "      <th>Fri</th>\n",
       "      <td>3.000000</td>\n",
       "      <td>1.833333</td>\n",
       "      <td>0.187735</td>\n",
       "      <td>0.188937</td>\n",
       "    </tr>\n",
       "    <tr>\n",
       "      <th>Thur</th>\n",
       "      <td>2.500000</td>\n",
       "      <td>2.352941</td>\n",
       "      <td>0.160311</td>\n",
       "      <td>0.163863</td>\n",
       "    </tr>\n",
       "  </tbody>\n",
       "</table>\n",
       "</div>"
      ],
      "text/plain": [
       "                 size             tip_pct          \n",
       "smoker             No       Yes        No       Yes\n",
       "time   day                                         \n",
       "Dinner Fri   2.000000  2.222222  0.139622  0.165347\n",
       "       Sat   2.555556  2.476190  0.158048  0.147906\n",
       "       Sun   2.929825  2.578947  0.160113  0.187250\n",
       "       Thur  2.000000       NaN  0.159744       NaN\n",
       "Lunch  Fri   3.000000  1.833333  0.187735  0.188937\n",
       "       Thur  2.500000  2.352941  0.160311  0.163863"
      ]
     },
     "execution_count": 83,
     "metadata": {},
     "output_type": "execute_result"
    }
   ],
   "source": [
    "tips.pivot_table(index=['time', 'day'],\n",
    "                columns = 'smoker',\n",
    "                values = ['tip_pct', 'size'])"
   ]
  },
  {
   "cell_type": "code",
   "execution_count": 84,
   "id": "e0273858",
   "metadata": {},
   "outputs": [
    {
     "name": "stderr",
     "output_type": "stream",
     "text": [
      "C:\\Users\\asiae\\AppData\\Local\\Temp\\ipykernel_3160\\4035965910.py:1: FutureWarning: The provided callable <built-in function sum> is currently using DataFrameGroupBy.sum. In a future version of pandas, the provided callable will be used directly. To keep current behavior pass the string \"sum\" instead.\n",
      "  pd.pivot_table(tips, index=['time', 'day'],\n"
     ]
    },
    {
     "data": {
      "text/html": [
       "<div>\n",
       "<style scoped>\n",
       "    .dataframe tbody tr th:only-of-type {\n",
       "        vertical-align: middle;\n",
       "    }\n",
       "\n",
       "    .dataframe tbody tr th {\n",
       "        vertical-align: top;\n",
       "    }\n",
       "\n",
       "    .dataframe thead tr th {\n",
       "        text-align: left;\n",
       "    }\n",
       "\n",
       "    .dataframe thead tr:last-of-type th {\n",
       "        text-align: right;\n",
       "    }\n",
       "</style>\n",
       "<table border=\"1\" class=\"dataframe\">\n",
       "  <thead>\n",
       "    <tr>\n",
       "      <th></th>\n",
       "      <th></th>\n",
       "      <th colspan=\"2\" halign=\"left\">size</th>\n",
       "      <th colspan=\"2\" halign=\"left\">tip_pct</th>\n",
       "    </tr>\n",
       "    <tr>\n",
       "      <th></th>\n",
       "      <th>smoker</th>\n",
       "      <th>No</th>\n",
       "      <th>Yes</th>\n",
       "      <th>No</th>\n",
       "      <th>Yes</th>\n",
       "    </tr>\n",
       "    <tr>\n",
       "      <th>time</th>\n",
       "      <th>day</th>\n",
       "      <th></th>\n",
       "      <th></th>\n",
       "      <th></th>\n",
       "      <th></th>\n",
       "    </tr>\n",
       "  </thead>\n",
       "  <tbody>\n",
       "    <tr>\n",
       "      <th rowspan=\"4\" valign=\"top\">Dinner</th>\n",
       "      <th>Fri</th>\n",
       "      <td>6.0</td>\n",
       "      <td>20.0</td>\n",
       "      <td>0.418867</td>\n",
       "      <td>1.488126</td>\n",
       "    </tr>\n",
       "    <tr>\n",
       "      <th>Sat</th>\n",
       "      <td>115.0</td>\n",
       "      <td>104.0</td>\n",
       "      <td>7.112145</td>\n",
       "      <td>6.212055</td>\n",
       "    </tr>\n",
       "    <tr>\n",
       "      <th>Sun</th>\n",
       "      <td>167.0</td>\n",
       "      <td>49.0</td>\n",
       "      <td>9.126438</td>\n",
       "      <td>3.557756</td>\n",
       "    </tr>\n",
       "    <tr>\n",
       "      <th>Thur</th>\n",
       "      <td>2.0</td>\n",
       "      <td>NaN</td>\n",
       "      <td>0.159744</td>\n",
       "      <td>NaN</td>\n",
       "    </tr>\n",
       "    <tr>\n",
       "      <th rowspan=\"2\" valign=\"top\">Lunch</th>\n",
       "      <th>Fri</th>\n",
       "      <td>3.0</td>\n",
       "      <td>11.0</td>\n",
       "      <td>0.187735</td>\n",
       "      <td>1.133620</td>\n",
       "    </tr>\n",
       "    <tr>\n",
       "      <th>Thur</th>\n",
       "      <td>110.0</td>\n",
       "      <td>40.0</td>\n",
       "      <td>7.053669</td>\n",
       "      <td>2.785676</td>\n",
       "    </tr>\n",
       "  </tbody>\n",
       "</table>\n",
       "</div>"
      ],
      "text/plain": [
       "              size          tip_pct          \n",
       "smoker          No    Yes        No       Yes\n",
       "time   day                                   \n",
       "Dinner Fri     6.0   20.0  0.418867  1.488126\n",
       "       Sat   115.0  104.0  7.112145  6.212055\n",
       "       Sun   167.0   49.0  9.126438  3.557756\n",
       "       Thur    2.0    NaN  0.159744       NaN\n",
       "Lunch  Fri     3.0   11.0  0.187735  1.133620\n",
       "       Thur  110.0   40.0  7.053669  2.785676"
      ]
     },
     "execution_count": 84,
     "metadata": {},
     "output_type": "execute_result"
    }
   ],
   "source": [
    "pd.pivot_table(tips, index=['time', 'day'],\n",
    "                columns = 'smoker',\n",
    "                values = ['tip_pct', 'size'],\n",
    "                aggfunc=sum)"
   ]
  },
  {
   "cell_type": "code",
   "execution_count": 85,
   "id": "cb81821d",
   "metadata": {},
   "outputs": [
    {
     "name": "stderr",
     "output_type": "stream",
     "text": [
      "C:\\Users\\asiae\\AppData\\Local\\Temp\\ipykernel_3160\\3863888120.py:1: FutureWarning: The provided callable <built-in function sum> is currently using DataFrameGroupBy.sum. In a future version of pandas, the provided callable will be used directly. To keep current behavior pass the string \"sum\" instead.\n",
      "  pd.pivot_table(tips, index=['time', 'day'],\n",
      "C:\\Users\\asiae\\AppData\\Local\\Temp\\ipykernel_3160\\3863888120.py:1: FutureWarning: The provided callable <built-in function sum> is currently using DataFrameGroupBy.sum. In a future version of pandas, the provided callable will be used directly. To keep current behavior pass the string \"sum\" instead.\n",
      "  pd.pivot_table(tips, index=['time', 'day'],\n",
      "C:\\Users\\asiae\\AppData\\Local\\Temp\\ipykernel_3160\\3863888120.py:1: FutureWarning: The provided callable <built-in function sum> is currently using DataFrameGroupBy.sum. In a future version of pandas, the provided callable will be used directly. To keep current behavior pass the string \"sum\" instead.\n",
      "  pd.pivot_table(tips, index=['time', 'day'],\n"
     ]
    },
    {
     "data": {
      "text/html": [
       "<div>\n",
       "<style scoped>\n",
       "    .dataframe tbody tr th:only-of-type {\n",
       "        vertical-align: middle;\n",
       "    }\n",
       "\n",
       "    .dataframe tbody tr th {\n",
       "        vertical-align: top;\n",
       "    }\n",
       "\n",
       "    .dataframe thead tr th {\n",
       "        text-align: left;\n",
       "    }\n",
       "\n",
       "    .dataframe thead tr:last-of-type th {\n",
       "        text-align: right;\n",
       "    }\n",
       "</style>\n",
       "<table border=\"1\" class=\"dataframe\">\n",
       "  <thead>\n",
       "    <tr>\n",
       "      <th></th>\n",
       "      <th></th>\n",
       "      <th colspan=\"3\" halign=\"left\">size</th>\n",
       "      <th colspan=\"3\" halign=\"left\">tip_pct</th>\n",
       "    </tr>\n",
       "    <tr>\n",
       "      <th></th>\n",
       "      <th>smoker</th>\n",
       "      <th>No</th>\n",
       "      <th>Yes</th>\n",
       "      <th>All</th>\n",
       "      <th>No</th>\n",
       "      <th>Yes</th>\n",
       "      <th>All</th>\n",
       "    </tr>\n",
       "    <tr>\n",
       "      <th>time</th>\n",
       "      <th>day</th>\n",
       "      <th></th>\n",
       "      <th></th>\n",
       "      <th></th>\n",
       "      <th></th>\n",
       "      <th></th>\n",
       "      <th></th>\n",
       "    </tr>\n",
       "  </thead>\n",
       "  <tbody>\n",
       "    <tr>\n",
       "      <th rowspan=\"4\" valign=\"top\">Dinner</th>\n",
       "      <th>Fri</th>\n",
       "      <td>6.0</td>\n",
       "      <td>20.0</td>\n",
       "      <td>26</td>\n",
       "      <td>0.418867</td>\n",
       "      <td>1.488126</td>\n",
       "      <td>1.906993</td>\n",
       "    </tr>\n",
       "    <tr>\n",
       "      <th>Sat</th>\n",
       "      <td>115.0</td>\n",
       "      <td>104.0</td>\n",
       "      <td>219</td>\n",
       "      <td>7.112145</td>\n",
       "      <td>6.212055</td>\n",
       "      <td>13.324199</td>\n",
       "    </tr>\n",
       "    <tr>\n",
       "      <th>Sun</th>\n",
       "      <td>167.0</td>\n",
       "      <td>49.0</td>\n",
       "      <td>216</td>\n",
       "      <td>9.126438</td>\n",
       "      <td>3.557756</td>\n",
       "      <td>12.684194</td>\n",
       "    </tr>\n",
       "    <tr>\n",
       "      <th>Thur</th>\n",
       "      <td>2.0</td>\n",
       "      <td>NaN</td>\n",
       "      <td>2</td>\n",
       "      <td>0.159744</td>\n",
       "      <td>NaN</td>\n",
       "      <td>0.159744</td>\n",
       "    </tr>\n",
       "    <tr>\n",
       "      <th rowspan=\"2\" valign=\"top\">Lunch</th>\n",
       "      <th>Fri</th>\n",
       "      <td>3.0</td>\n",
       "      <td>11.0</td>\n",
       "      <td>14</td>\n",
       "      <td>0.187735</td>\n",
       "      <td>1.133620</td>\n",
       "      <td>1.321354</td>\n",
       "    </tr>\n",
       "    <tr>\n",
       "      <th>Thur</th>\n",
       "      <td>110.0</td>\n",
       "      <td>40.0</td>\n",
       "      <td>150</td>\n",
       "      <td>7.053669</td>\n",
       "      <td>2.785676</td>\n",
       "      <td>9.839345</td>\n",
       "    </tr>\n",
       "    <tr>\n",
       "      <th>All</th>\n",
       "      <th></th>\n",
       "      <td>403.0</td>\n",
       "      <td>224.0</td>\n",
       "      <td>627</td>\n",
       "      <td>24.058598</td>\n",
       "      <td>15.177232</td>\n",
       "      <td>39.235830</td>\n",
       "    </tr>\n",
       "  </tbody>\n",
       "</table>\n",
       "</div>"
      ],
      "text/plain": [
       "              size                tip_pct                      \n",
       "smoker          No    Yes  All         No        Yes        All\n",
       "time   day                                                     \n",
       "Dinner Fri     6.0   20.0   26   0.418867   1.488126   1.906993\n",
       "       Sat   115.0  104.0  219   7.112145   6.212055  13.324199\n",
       "       Sun   167.0   49.0  216   9.126438   3.557756  12.684194\n",
       "       Thur    2.0    NaN    2   0.159744        NaN   0.159744\n",
       "Lunch  Fri     3.0   11.0   14   0.187735   1.133620   1.321354\n",
       "       Thur  110.0   40.0  150   7.053669   2.785676   9.839345\n",
       "All          403.0  224.0  627  24.058598  15.177232  39.235830"
      ]
     },
     "execution_count": 85,
     "metadata": {},
     "output_type": "execute_result"
    }
   ],
   "source": [
    "pd.pivot_table(tips, index=['time', 'day'],\n",
    "                columns = 'smoker',\n",
    "                values = ['tip_pct', 'size'],\n",
    "                aggfunc = sum,\n",
    "                margins = True)"
   ]
  },
  {
   "cell_type": "code",
   "execution_count": 86,
   "id": "04fe50a6",
   "metadata": {},
   "outputs": [
    {
     "data": {
      "text/html": [
       "<div>\n",
       "<style scoped>\n",
       "    .dataframe tbody tr th:only-of-type {\n",
       "        vertical-align: middle;\n",
       "    }\n",
       "\n",
       "    .dataframe tbody tr th {\n",
       "        vertical-align: top;\n",
       "    }\n",
       "\n",
       "    .dataframe thead tr th {\n",
       "        text-align: left;\n",
       "    }\n",
       "\n",
       "    .dataframe thead tr:last-of-type th {\n",
       "        text-align: right;\n",
       "    }\n",
       "</style>\n",
       "<table border=\"1\" class=\"dataframe\">\n",
       "  <thead>\n",
       "    <tr>\n",
       "      <th></th>\n",
       "      <th></th>\n",
       "      <th colspan=\"3\" halign=\"left\">size</th>\n",
       "      <th colspan=\"3\" halign=\"left\">tip_pct</th>\n",
       "    </tr>\n",
       "    <tr>\n",
       "      <th></th>\n",
       "      <th>smoker</th>\n",
       "      <th>No</th>\n",
       "      <th>Yes</th>\n",
       "      <th>All</th>\n",
       "      <th>No</th>\n",
       "      <th>Yes</th>\n",
       "      <th>All</th>\n",
       "    </tr>\n",
       "    <tr>\n",
       "      <th>time</th>\n",
       "      <th>day</th>\n",
       "      <th></th>\n",
       "      <th></th>\n",
       "      <th></th>\n",
       "      <th></th>\n",
       "      <th></th>\n",
       "      <th></th>\n",
       "    </tr>\n",
       "  </thead>\n",
       "  <tbody>\n",
       "    <tr>\n",
       "      <th rowspan=\"4\" valign=\"top\">Dinner</th>\n",
       "      <th>Fri</th>\n",
       "      <td>0.0</td>\n",
       "      <td>2.0</td>\n",
       "      <td>2</td>\n",
       "      <td>0.035239</td>\n",
       "      <td>0.159925</td>\n",
       "      <td>0.159925</td>\n",
       "    </tr>\n",
       "    <tr>\n",
       "      <th>Sat</th>\n",
       "      <td>3.0</td>\n",
       "      <td>4.0</td>\n",
       "      <td>4</td>\n",
       "      <td>0.235193</td>\n",
       "      <td>0.290095</td>\n",
       "      <td>0.290095</td>\n",
       "    </tr>\n",
       "    <tr>\n",
       "      <th>Sun</th>\n",
       "      <td>4.0</td>\n",
       "      <td>3.0</td>\n",
       "      <td>4</td>\n",
       "      <td>0.193226</td>\n",
       "      <td>0.644685</td>\n",
       "      <td>0.650898</td>\n",
       "    </tr>\n",
       "    <tr>\n",
       "      <th>Thur</th>\n",
       "      <td>0.0</td>\n",
       "      <td>NaN</td>\n",
       "      <td>0</td>\n",
       "      <td>0.000000</td>\n",
       "      <td>NaN</td>\n",
       "      <td>0.000000</td>\n",
       "    </tr>\n",
       "    <tr>\n",
       "      <th rowspan=\"2\" valign=\"top\">Lunch</th>\n",
       "      <th>Fri</th>\n",
       "      <td>0.0</td>\n",
       "      <td>1.0</td>\n",
       "      <td>2</td>\n",
       "      <td>0.000000</td>\n",
       "      <td>0.141580</td>\n",
       "      <td>0.141580</td>\n",
       "    </tr>\n",
       "    <tr>\n",
       "      <th>Thur</th>\n",
       "      <td>5.0</td>\n",
       "      <td>2.0</td>\n",
       "      <td>5</td>\n",
       "      <td>0.193350</td>\n",
       "      <td>0.151240</td>\n",
       "      <td>0.193350</td>\n",
       "    </tr>\n",
       "    <tr>\n",
       "      <th>All</th>\n",
       "      <th></th>\n",
       "      <td>5.0</td>\n",
       "      <td>4.0</td>\n",
       "      <td>5</td>\n",
       "      <td>0.235193</td>\n",
       "      <td>0.674707</td>\n",
       "      <td>0.674707</td>\n",
       "    </tr>\n",
       "  </tbody>\n",
       "</table>\n",
       "</div>"
      ],
      "text/plain": [
       "            size            tip_pct                    \n",
       "smoker        No  Yes All        No       Yes       All\n",
       "time   day                                             \n",
       "Dinner Fri   0.0  2.0   2  0.035239  0.159925  0.159925\n",
       "       Sat   3.0  4.0   4  0.235193  0.290095  0.290095\n",
       "       Sun   4.0  3.0   4  0.193226  0.644685  0.650898\n",
       "       Thur  0.0  NaN   0  0.000000       NaN  0.000000\n",
       "Lunch  Fri   0.0  1.0   2  0.000000  0.141580  0.141580\n",
       "       Thur  5.0  2.0   5  0.193350  0.151240  0.193350\n",
       "All          5.0  4.0   5  0.235193  0.674707  0.674707"
      ]
     },
     "execution_count": 86,
     "metadata": {},
     "output_type": "execute_result"
    }
   ],
   "source": [
    "pd.pivot_table(tips, index=['time', 'day'],\n",
    "                columns = 'smoker',\n",
    "                values = ['tip_pct', 'size'],\n",
    "                aggfunc = lambda x : x.max() - x.min(),\n",
    "                margins = True)"
   ]
  },
  {
   "cell_type": "code",
   "execution_count": 87,
   "id": "bc167e34",
   "metadata": {},
   "outputs": [
    {
     "data": {
      "text/html": [
       "<div>\n",
       "<style scoped>\n",
       "    .dataframe tbody tr th:only-of-type {\n",
       "        vertical-align: middle;\n",
       "    }\n",
       "\n",
       "    .dataframe tbody tr th {\n",
       "        vertical-align: top;\n",
       "    }\n",
       "\n",
       "    .dataframe thead tr th {\n",
       "        text-align: left;\n",
       "    }\n",
       "\n",
       "    .dataframe thead tr:last-of-type th {\n",
       "        text-align: right;\n",
       "    }\n",
       "</style>\n",
       "<table border=\"1\" class=\"dataframe\">\n",
       "  <thead>\n",
       "    <tr>\n",
       "      <th></th>\n",
       "      <th></th>\n",
       "      <th colspan=\"3\" halign=\"left\">size</th>\n",
       "      <th colspan=\"3\" halign=\"left\">tip_pct</th>\n",
       "    </tr>\n",
       "    <tr>\n",
       "      <th></th>\n",
       "      <th>smoker</th>\n",
       "      <th>No</th>\n",
       "      <th>Yes</th>\n",
       "      <th>All</th>\n",
       "      <th>No</th>\n",
       "      <th>Yes</th>\n",
       "      <th>All</th>\n",
       "    </tr>\n",
       "    <tr>\n",
       "      <th>time</th>\n",
       "      <th>day</th>\n",
       "      <th></th>\n",
       "      <th></th>\n",
       "      <th></th>\n",
       "      <th></th>\n",
       "      <th></th>\n",
       "      <th></th>\n",
       "    </tr>\n",
       "  </thead>\n",
       "  <tbody>\n",
       "    <tr>\n",
       "      <th rowspan=\"4\" valign=\"top\">Dinner</th>\n",
       "      <th>Fri</th>\n",
       "      <td>6.0</td>\n",
       "      <td>20.0</td>\n",
       "      <td>26</td>\n",
       "      <td>0.418867</td>\n",
       "      <td>1.488126</td>\n",
       "      <td>1.906993</td>\n",
       "    </tr>\n",
       "    <tr>\n",
       "      <th>Sat</th>\n",
       "      <td>115.0</td>\n",
       "      <td>104.0</td>\n",
       "      <td>219</td>\n",
       "      <td>7.112145</td>\n",
       "      <td>6.212055</td>\n",
       "      <td>13.324199</td>\n",
       "    </tr>\n",
       "    <tr>\n",
       "      <th>Sun</th>\n",
       "      <td>167.0</td>\n",
       "      <td>49.0</td>\n",
       "      <td>216</td>\n",
       "      <td>9.126438</td>\n",
       "      <td>3.557756</td>\n",
       "      <td>12.684194</td>\n",
       "    </tr>\n",
       "    <tr>\n",
       "      <th>Thur</th>\n",
       "      <td>2.0</td>\n",
       "      <td>NaN</td>\n",
       "      <td>2</td>\n",
       "      <td>0.159744</td>\n",
       "      <td>NaN</td>\n",
       "      <td>0.159744</td>\n",
       "    </tr>\n",
       "    <tr>\n",
       "      <th rowspan=\"2\" valign=\"top\">Lunch</th>\n",
       "      <th>Fri</th>\n",
       "      <td>3.0</td>\n",
       "      <td>11.0</td>\n",
       "      <td>14</td>\n",
       "      <td>0.187735</td>\n",
       "      <td>1.133620</td>\n",
       "      <td>1.321354</td>\n",
       "    </tr>\n",
       "    <tr>\n",
       "      <th>Thur</th>\n",
       "      <td>110.0</td>\n",
       "      <td>40.0</td>\n",
       "      <td>150</td>\n",
       "      <td>7.053669</td>\n",
       "      <td>2.785676</td>\n",
       "      <td>9.839345</td>\n",
       "    </tr>\n",
       "    <tr>\n",
       "      <th>All</th>\n",
       "      <th></th>\n",
       "      <td>403.0</td>\n",
       "      <td>224.0</td>\n",
       "      <td>627</td>\n",
       "      <td>24.058598</td>\n",
       "      <td>15.177232</td>\n",
       "      <td>39.235830</td>\n",
       "    </tr>\n",
       "  </tbody>\n",
       "</table>\n",
       "</div>"
      ],
      "text/plain": [
       "              size                tip_pct                      \n",
       "smoker          No    Yes  All         No        Yes        All\n",
       "time   day                                                     \n",
       "Dinner Fri     6.0   20.0   26   0.418867   1.488126   1.906993\n",
       "       Sat   115.0  104.0  219   7.112145   6.212055  13.324199\n",
       "       Sun   167.0   49.0  216   9.126438   3.557756  12.684194\n",
       "       Thur    2.0    NaN    2   0.159744        NaN   0.159744\n",
       "Lunch  Fri     3.0   11.0   14   0.187735   1.133620   1.321354\n",
       "       Thur  110.0   40.0  150   7.053669   2.785676   9.839345\n",
       "All          403.0  224.0  627  24.058598  15.177232  39.235830"
      ]
     },
     "execution_count": 87,
     "metadata": {},
     "output_type": "execute_result"
    }
   ],
   "source": [
    "def custom_add(x):\n",
    "    return x.sum()\n",
    "\n",
    "pd.pivot_table(tips, index=['time', 'day'],\n",
    "                columns = 'smoker',\n",
    "                values = ['tip_pct', 'size'],\n",
    "                aggfunc = custom_add,\n",
    "                margins = True)"
   ]
  },
  {
   "cell_type": "code",
   "execution_count": null,
   "id": "d6378163",
   "metadata": {},
   "outputs": [],
   "source": []
  }
 ],
 "metadata": {
  "kernelspec": {
   "display_name": "Python 3 (ipykernel)",
   "language": "python",
   "name": "python3"
  },
  "language_info": {
   "codemirror_mode": {
    "name": "ipython",
    "version": 3
   },
   "file_extension": ".py",
   "mimetype": "text/x-python",
   "name": "python",
   "nbconvert_exporter": "python",
   "pygments_lexer": "ipython3",
   "version": "3.11.3"
  },
  "toc": {
   "base_numbering": 1,
   "nav_menu": {},
   "number_sections": false,
   "sideBar": false,
   "skip_h1_title": false,
   "title_cell": "Table of Contents",
   "title_sidebar": "Contents",
   "toc_cell": false,
   "toc_position": {
    "height": "1098px",
    "left": "1021.87px",
    "top": "110.233px",
    "width": "212.133px"
   },
   "toc_section_display": true,
   "toc_window_display": true
  }
 },
 "nbformat": 4,
 "nbformat_minor": 5
}
